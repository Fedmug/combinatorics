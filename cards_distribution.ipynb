{
 "cells": [
  {
   "cell_type": "code",
   "execution_count": 2,
   "id": "d39d411d",
   "metadata": {},
   "outputs": [],
   "source": [
    "from IPython.core.display import display, HTML\n",
    "import numpy as np\n",
    "import pandas as pd\n",
    "from scipy.special import binom, comb, factorial\n",
    "import matplotlib.pyplot as plt\n",
    "from combinations import *\n",
    "from sys import getsizeof\n",
    "import pickle\n",
    "from tqdm import trange\n",
    "\n",
    "from matplotlib import rc, rcParams\n",
    "rc('text', usetex=True)\n",
    "rc('text.latex',preamble=r'\\usepackage[utf8]{inputenc}')\n",
    "rc('text.latex',preamble=r'\\usepackage[russian]{babel}')\n",
    "\n",
    "\n",
    "rcParams['axes.linewidth'] = 2\n",
    "\n",
    "font = {'family' : 'monospace',\n",
    "        'size'   : 20,\n",
    "        'weight' : 'heavy'\n",
    "       }\n",
    "\n",
    "rc('font', **font)\n",
    "\n",
    "is_sorted = lambda a: np.all(a[:-1] <= a[1:])"
   ]
  },
  {
   "cell_type": "markdown",
   "id": "2c566043",
   "metadata": {},
   "source": [
    "$\n",
    "\\newcommand{\\bolda}{\\boldsymbol{a}}\n",
    "\\newcommand{\\boldb}{\\boldsymbol{b}}\n",
    "\\newcommand{\\bolde}{\\boldsymbol{e}}\n",
    "\\newcommand{\\boldd}{\\boldsymbol{d}}\n",
    "\\newcommand{\\boldf}{\\boldsymbol{f}}\n",
    "\\newcommand{\\boldg}{\\boldsymbol{g}}\n",
    "\\newcommand{\\boldh}{\\boldsymbol{h}}\n",
    "\\newcommand{\\boldm}{\\boldsymbol{m}}\n",
    "\\newcommand{\\boldk}{\\boldsymbol{k}}\n",
    "\\newcommand{\\bolds}{\\boldsymbol{s}}\n",
    "\\newcommand{\\boldt}{\\boldsymbol{t}}\n",
    "\\newcommand{\\boldp}{\\boldsymbol{p}}\n",
    "\\newcommand{\\boldw}{\\boldsymbol{w}}\n",
    "\\newcommand{\\boldx}{\\boldsymbol{x}}\n",
    "\\newcommand{\\boldy}{\\boldsymbol{y}}\n",
    "\\newcommand{\\boldu}{\\boldsymbol{u}}\n",
    "\\newcommand{\\boldv}{\\boldsymbol{v}}\n",
    "\\newcommand{\\boldz}{\\boldsymbol{z}}\n",
    "\\newcommand{\\boldA}{\\boldsymbol{A}}\n",
    "\\newcommand{\\boldB}{\\boldsymbol{B}}\n",
    "\\newcommand{\\boldC}{\\boldsymbol{C}}\n",
    "\\newcommand{\\boldD}{\\boldsymbol{D}}\n",
    "\\newcommand{\\boldE}{\\boldsymbol{E}}\n",
    "\\newcommand{\\boldF}{\\boldsymbol{F}}\n",
    "\\newcommand{\\boldH}{\\boldsymbol{H}}\n",
    "\\newcommand{\\boldJ}{\\boldsymbol{J}}\n",
    "\\newcommand{\\boldK}{\\boldsymbol{K}}\n",
    "\\newcommand{\\boldM}{\\boldsymbol{M}}\n",
    "\\newcommand{\\boldI}{\\boldsymbol{I}}\n",
    "\\newcommand{\\boldP}{\\boldsymbol{P}}\n",
    "\\newcommand{\\boldR}{\\boldsymbol{R}}\n",
    "\\newcommand{\\boldS}{\\boldsymbol{S}}\n",
    "\\newcommand{\\boldT}{\\boldsymbol{T}}\n",
    "\\newcommand{\\boldO}{\\boldsymbol{O}}\n",
    "\\newcommand{\\boldU}{\\boldsymbol{U}}\n",
    "\\newcommand{\\boldV}{\\boldsymbol{V}}\n",
    "\\newcommand{\\boldW}{\\boldsymbol{W}}\n",
    "\\newcommand{\\boldX}{\\boldsymbol{X}}\n",
    "\\newcommand{\\boldY}{\\boldsymbol{Y}}\n",
    "\\newcommand{\\boldZ}{\\boldsymbol{Z}}$"
   ]
  },
  {
   "cell_type": "markdown",
   "id": "587ae04c",
   "metadata": {},
   "source": [
    "### Здесь проводились некоторые расчёты и заготовки для статьи \"Комбинаторика розыгрыша в преферансе\""
   ]
  },
  {
   "cell_type": "markdown",
   "id": "da614c52",
   "metadata": {},
   "source": [
    "Пусть колода из $n$ карт раздаётся на $k$ рук размера $n_1, \\ldots, n_k$. Тогда общее число раскладов равно \n",
    "$$\n",
    "\\frac{n!}{n_1!\\cdot \\ldots \\cdot n_k!}.\n",
    "$$\n",
    "\n",
    "Для преферанса $n=32$, $k=4$, $n_1=n_2=n_3 = 10$, $n_4=2$, что даёт\n",
    "$$\n",
    "\\frac{32!}{(10!)^3\\cdot 2} \\approx 2.75 \\cdot 10^{15}.\n",
    "$$"
   ]
  },
  {
   "cell_type": "code",
   "execution_count": 3,
   "id": "315411e4",
   "metadata": {},
   "outputs": [
    {
     "name": "stdout",
     "output_type": "stream",
     "text": [
      "2753294408504640 2.753294e+15\n"
     ]
    }
   ],
   "source": [
    "pref_deal_count = factorial(32, exact=True) // factorial(10, exact=True) ** 3 // 2\n",
    "print(pref_deal_count, \"{:e}\".format(pref_deal_count))"
   ]
  },
  {
   "cell_type": "code",
   "execution_count": 4,
   "id": "cdb4088f",
   "metadata": {},
   "outputs": [
    {
     "name": "stdout",
     "output_type": "stream",
     "text": [
      "53644737765488792839237440000 5.364474e+28\n"
     ]
    }
   ],
   "source": [
    "bridge_deal_count = factorial(52, exact=True) // factorial(13, exact=True) ** 4\n",
    "print(bridge_deal_count, \"{:e}\".format(bridge_deal_count))"
   ]
  },
  {
   "cell_type": "code",
   "execution_count": 5,
   "id": "f341d174",
   "metadata": {},
   "outputs": [
    {
     "data": {
      "text/plain": [
       "84478098072866400"
      ]
     },
     "execution_count": 5,
     "metadata": {},
     "output_type": "execute_result"
    }
   ],
   "source": [
    "factorial(39, exact=True) // factorial(13, exact=True) ** 3"
   ]
  },
  {
   "cell_type": "code",
   "execution_count": 6,
   "id": "08e90c5e",
   "metadata": {},
   "outputs": [
    {
     "data": {
      "text/plain": [
       "(64512240, 184756)"
      ]
     },
     "execution_count": 6,
     "metadata": {},
     "output_type": "execute_result"
    }
   ],
   "source": [
    "comb(32, 10, exact=True), comb(20, 10, exact=True)"
   ]
  },
  {
   "cell_type": "markdown",
   "id": "f4f4a9c0",
   "metadata": {},
   "source": [
    "Табличка с количеством раскладов в бридже, в формате латеха:"
   ]
  },
  {
   "cell_type": "code",
   "execution_count": 79,
   "id": "46503f56",
   "metadata": {},
   "outputs": [
    {
     "name": "stdout",
     "output_type": "stream",
     "text": [
      "1 & 5 & 7 & 2880 & 4032\\\\ \\hline\n",
      "2 & 15 & 31 & 95\\,558\\,400 & 197\\,285\\,760\\\\ \\hline\n",
      "3 & 34 & 83 & 4\\,658\\,556\\,672\\,000 & 11\\,367\\,080\\,524\\,800\\\\ \\hline\n",
      "4 & 60 & 167 & 239\\,411\\,384\\,372\\,160\\,000 & 666\\,088\\,816\\,937\\,544\\,000\\\\ \\hline\n",
      "5 & 85 & 257 & 11\\,745\\,413\\,002\\,086\\,396\\,272\\,640 & 35\\,501\\,852\\,082\\,350\\,163\\,654\\,144\\\\ \\hline\n",
      "6 & 102 & 322 & 546\\,001\\,480\\,975\\,931\\,651\\,306\\,668\\,032 & 1\\,723\\,341\\,453\\,946\\,311\\,580\\,869\\,616\\,128\\\\ \\hline\n",
      "7 & 102 & 331 & 22\\,885\\,653\\,297\\,369\\,770\\,795\\,281\\,976\\,524\\,800 & 74\\,256\\,265\\,087\\,316\\,824\\,275\\,662\\,134\\,579\\,200\\\\ \\hline\n",
      "8 & 85 & 277 & 847\\,377\\,024\\,710\\,223\\,186\\,014\\,764\\,142\\,594\\,952\\,000 & 2\\,761\\,383\\,910\\,091\\,265\\,198\\,912\\,464\\,521\\,237\\,008\\,000\\\\ \\hline\n",
      "9 & 60 & 190 & 27\\,795\\,821\\,870\\,226\\,538\\,553\\,685\\,071\\,211\\,799\\,439\\,040\\,000 & 88\\,036\\,914\\,530\\,018\\,849\\,069\\,190\\,250\\,808\\,813\\,900\\,160\\,000\\\\ \\hline\n",
      "10 & 34 & 102 & 758\\,870\\,935\\,904\\,755\\,745\\,803\\,731\\,021\\,598\\,700\\,956\\,983\\,191\\,040 & 2\\,277\\,632\\,599\\,242\\,439\\,427\\,509\\,999\\,771\\,309\\,571\\,151\\,271\\,234\\,560\\\\ \\hline\n",
      "11 & 15 & 41 & 16\\,614\\,260\\,816\\,231\\,765\\,079\\,575\\,415\\,431\\,739\\,257\\,945\\,496\\,751\\,042\\,560 & 45\\,457\\,571\\,720\\,947\\,328\\,381\\,670\\,618\\,536\\,663\\,039\\,331\\,718\\,382\\,346\\,240\\\\ \\hline\n",
      "12 & 5 & 11 & 281\\,771\\,803\\,268\\,307\\,132\\,983\\,197\\,953\\,805\\,332\\,196\\,452\\,298\\,497\\,673\\,843\\,200 & 621\\,903\\,717\\,181\\,355\\,208\\,868\\,939\\,599\\,550\\,558\\,007\\,668\\,308\\,194\\,463\\,052\\,800\\\\ \\hline\n",
      "13 & 1 & 1 & 2\\,941\\,858\\,730\\,744\\,399\\,943\\,648\\,105\\,790\\,406\\,617\\,673\\,233\\,971\\,325\\,490\\,234\\,880\\,000 & 3\\,019\\,236\\,031\\,870\\,363\\,270\\,151\\,380\\,107\\,449\\,614\\,423\\,550\\,658\\,465\\,433\\,451\\,520\\,000\\\\ \\hline\n",
      "603 1820 54\\,839\\,651\\,628\\,178\\,570\\,790\\,073\\,397\\,752 56\\,282\\,054\\,077\\,123\\,756\\,541\\,880\\,965\\,808\n"
     ]
    }
   ],
   "source": [
    "def print_big_number(n):\n",
    "    n_str = str(n)\n",
    "    if len(n_str) < 7:\n",
    "        return n_str\n",
    "    result = [n_str[-3:]]\n",
    "    for i in range(1, int(len(n_str) // 3 + 1)):\n",
    "        if n_str[-3*i-3: -3*i]:\n",
    "            result.append(n_str[-3*i-3:-3*i])\n",
    "    return \"\\\\,\".join(result[::-1])\n",
    "\n",
    "no_trump_total, trump_total = 0, 0\n",
    "no_trump_distr, trump_distr = 0, 0\n",
    "for hand_size in range(1, 14):\n",
    "    no_trump, trump = 0, 0\n",
    "    for bridge_suit_distr in generate_suit_size_distributions(4*[hand_size], max_suit_size=13):\n",
    "        no_trump += 1\n",
    "    for bridge_suit_distr in generate_suit_size_distributions(4*[hand_size], max_suit_size=13, trump_idx=0):\n",
    "        trump += 1\n",
    "    no_trump_distr += no_trump\n",
    "    trump_distr += trump\n",
    "    coef = factorial(4*hand_size, exact=True) // factorial(hand_size, exact=True) ** 4\n",
    "    no_trump_total += coef * no_trump\n",
    "    trump_total += coef * trump\n",
    "    line = str(hand_size) + ' & ' + str(no_trump) + ' & ' + str(trump) + ' & '\n",
    "    line += print_big_number(coef * no_trump_total) + ' & '\n",
    "    line += print_big_number(coef * trump_total)\n",
    "    print(line +r\"\\\\ \\hline\")\n",
    "\n",
    "print(no_trump_distr, trump_distr, print_big_number(no_trump_total), print_big_number(trump_total))"
   ]
  },
  {
   "cell_type": "code",
   "execution_count": 73,
   "id": "b8178397",
   "metadata": {},
   "outputs": [
    {
     "data": {
      "text/plain": [
       "'1\\\\,504\\\\,049\\\\,877\\\\,685\\\\,950\\\\,049\\\\,493'"
      ]
     },
     "execution_count": 73,
     "metadata": {},
     "output_type": "execute_result"
    }
   ],
   "source": [
    "print_big_number(1504049877685950049493)"
   ]
  },
  {
   "cell_type": "markdown",
   "id": "19982fdc",
   "metadata": {},
   "source": [
    "При переборе раскладов полезно учитывать распределение карт по мастям. Пусть в колоде имеется $m$ мастей (обычно $m=4$). Обозначим через $d_{ij}$ количество карт $i$-й масти на $j$-й руке. Получается *факторная матрица*\n",
    "\n",
    "$$\n",
    "\\boldD = \\begin{pmatrix}\n",
    "d_{11}& d_{12}& \\ldots& d_{1k} \\\\\n",
    "d_{21}& d_{22}&\\ldots &d_{2k} \\\\\n",
    "\\vdots& \\vdots& \\ddots& \\vdots\\\\\n",
    "d_{m1}& d_{m2}&\\ldots& d_{mk}\n",
    "\\end{pmatrix},\\quad\n",
    "\\sum\\limits_{i=1}^m d_{ij} = n_j, \\quad \n",
    "\\sum\\limits_{j=1}^k d_{ij} = s_i, \\quad \n",
    "0\\leqslant d_{ij} \\leqslant \\min\\{s_i, n_j\\},\n",
    "$$\n",
    "где $s_i$ — размер $i$-й масти. Для любого расклада выполняется равенство $\\sum\\limits_{j=1}^k n_j = \\sum\\limits_{i=1}^m s_i = n$. Пусть $\\boldd_i = (d_{i1}, d_{i2}, \\ldots, d_{ik})$ — распределение $i$-й масти по рукам, и число таких распределений $|\\boldd_i| = \\binom {s_i}{d_{i1},\\ldots, d_{ik}} = \\frac{s_i!}{d_{i1}!\\cdot d_{i2}! \\cdot \\ldots \\cdot d_{ik}!}$. При фиксированной матрице $\\boldD$ общее число раскладов равно\n",
    "$$\n",
    "\\prod\\limits_{i=1}^m |\\boldd_i| = \\frac{s_1! \\cdot \\ldots\\cdot s_m!}{\\prod\\limits_{i=1}^m\\prod\\limits_{j=1}^k d_{ij}!}\n",
    "$$\n",
    "\n",
    "Тогда общее число раскладов равно \n",
    "$$\n",
    "\\sum\\limits_{\\boldD} \\prod\\limits_{i=1}^m |\\boldd_i| = \n",
    "\\sum\\limits_{\\boldD}\\frac{s_1! \\cdot \\ldots\\cdot s_m!}{\\prod\\limits_{i=1}^m\\prod\\limits_{j=1}^k d_{ij}!},\n",
    "$$\n",
    "где суммирование ведётся по всем факторным матрицам $\\boldD$, удовлетворяющих приведённым выше ограничением. Перебор всех таких факторных матриц представляет собой NP-трудную задачу."
   ]
  },
  {
   "cell_type": "code",
   "execution_count": 2,
   "id": "b49c8581",
   "metadata": {},
   "outputs": [],
   "source": [
    "def contingency_table_variants(r, c, verbose=False):\n",
    "    total = 0\n",
    "    total_distr = 0\n",
    "    distr_map = {}\n",
    "    r_arr = np.array(r)\n",
    "    non_zero_indices = r_arr > 0\n",
    "    fact_prod = factorial(r_arr[non_zero_indices]).prod()\n",
    "    for d in contingency_table(list(r_arr[non_zero_indices]), c):\n",
    "        total += 1\n",
    "        variants = fact_prod / factorial(d).prod()\n",
    "        key = np.zeros((len(r), len(c)), dtype=np.int32)\n",
    "        key[non_zero_indices,:] = d\n",
    "        distr_map[tuple(key.ravel())] = int(variants)\n",
    "        total_distr += variants\n",
    "    if verbose:\n",
    "        print(\"Total distributions:\", total)\n",
    "        print(\"Total variants: {:e}\".format(total_distr))\n",
    "    return distr_map\n",
    "\n",
    "def test_deal_enumeration(suit_sizes, hand_sizes, trump, reduce_perms=True):\n",
    "    deal_variants = enumerate_deals(suit_sizes, hand_sizes, trump, reduce_perms)\n",
    "    print(\"Total distributions:\", len(deal_variants))\n",
    "    total = 0\n",
    "    total_reduced = 0\n",
    "    for k, v in deal_variants.items():\n",
    "        total += v[0]\n",
    "        total_reduced += v[1]\n",
    "    print(\"Total variants: {:e}\".format(total))\n",
    "    print(\"Total reduced variants: {:e}\".format(total_reduced))"
   ]
  },
  {
   "cell_type": "markdown",
   "id": "ea8741de",
   "metadata": {},
   "source": [
    "Переберём все возможные преферансные сдачи с помощью факторных матриц:"
   ]
  },
  {
   "cell_type": "code",
   "execution_count": 3,
   "id": "231f95fc",
   "metadata": {},
   "outputs": [
    {
     "name": "stdout",
     "output_type": "stream",
     "text": [
      "Total distributions: 248358\n",
      "Total variants: 2.753294e+15\n",
      "CPU times: user 8.85 s, sys: 94.5 ms, total: 8.94 s\n",
      "Wall time: 8.94 s\n"
     ]
    }
   ],
   "source": [
    "%%time\n",
    "r = [8, 8, 8, 8]\n",
    "c = [10, 10, 10, 2]\n",
    "pref_distr = contingency_table_variants(r, c, verbose=True)"
   ]
  },
  {
   "cell_type": "markdown",
   "id": "e1027729",
   "metadata": {},
   "source": [
    "Общее число раскладов совпадает с вычисленным ранее, и это вселяет веру в то, что перебор осуществлён верно."
   ]
  },
  {
   "cell_type": "code",
   "execution_count": 4,
   "id": "27ab0636",
   "metadata": {},
   "outputs": [
    {
     "name": "stdout",
     "output_type": "stream",
     "text": [
      "Total distributions: 10701\n",
      "Total variants: 1.285111e+14\n",
      "Total reduced variants: 1.147402e+14\n",
      "CPU times: user 8.76 s, sys: 1.26 ms, total: 8.76 s\n",
      "Wall time: 8.76 s\n"
     ]
    }
   ],
   "source": [
    "%%time\n",
    "test_deal_enumeration(r, c, False)"
   ]
  },
  {
   "cell_type": "markdown",
   "id": "97fca7cd",
   "metadata": {},
   "source": [
    "Удаление симметричных раскладов позволяет в несколько раз сократить общее число вариантов:"
   ]
  },
  {
   "cell_type": "code",
   "execution_count": 6,
   "id": "2b6b023b",
   "metadata": {},
   "outputs": [
    {
     "name": "stdout",
     "output_type": "stream",
     "text": [
      "Total distributions: 248358\n",
      "Total variants: 2.753294e+15\n",
      "Total reduced variants: 2.753294e+15\n",
      "CPU times: user 9.68 s, sys: 92.7 ms, total: 9.77 s\n",
      "Wall time: 9.76 s\n"
     ]
    }
   ],
   "source": [
    "%%time\n",
    "test_deal_enumeration(r, c, False, False)"
   ]
  },
  {
   "cell_type": "code",
   "execution_count": 7,
   "id": "7f03362d",
   "metadata": {},
   "outputs": [
    {
     "name": "stdout",
     "output_type": "stream",
     "text": [
      "Total distributions: 42084\n",
      "Total variants: 4.844826e+14\n",
      "Total reduced variants: 4.589215e+14\n",
      "CPU times: user 15.1 s, sys: 40.3 ms, total: 15.2 s\n",
      "Wall time: 15.2 s\n"
     ]
    }
   ],
   "source": [
    "%%time\n",
    "test_deal_enumeration(r, c, True)"
   ]
  },
  {
   "cell_type": "code",
   "execution_count": 8,
   "id": "f5fbe4de",
   "metadata": {},
   "outputs": [
    {
     "name": "stdout",
     "output_type": "stream",
     "text": [
      "Total distributions: 248358\n",
      "Total variants: 2.753294e+15\n",
      "Total reduced variants: 2.753294e+15\n",
      "CPU times: user 9.64 s, sys: 170 ms, total: 9.81 s\n",
      "Wall time: 9.74 s\n"
     ]
    }
   ],
   "source": [
    "%%time\n",
    "test_deal_enumeration(r, c, True, False)"
   ]
  },
  {
   "cell_type": "markdown",
   "id": "60a7e402",
   "metadata": {},
   "source": [
    "Два квадриллиона и $753$ триллиона с копейками раскладов складываются из $248358$ различных распределений размеров мастей — столько получилось факторных матриц. В среднем получается по 11 миллиардов раскладов на распределение:"
   ]
  },
  {
   "cell_type": "code",
   "execution_count": 7,
   "id": "1969d78e",
   "metadata": {},
   "outputs": [
    {
     "name": "stdout",
     "output_type": "stream",
     "text": [
      "1.108599e+10\n"
     ]
    }
   ],
   "source": [
    "print(\"{:e}\".format(pref_deal_count / len(pref_distr)))"
   ]
  },
  {
   "cell_type": "markdown",
   "id": "ddaf83d6",
   "metadata": {},
   "source": [
    "Максимальное число раскладов для одного распределения — почти триллион:"
   ]
  },
  {
   "cell_type": "code",
   "execution_count": 8,
   "id": "30e8aa9c",
   "metadata": {},
   "outputs": [
    {
     "name": "stdout",
     "output_type": "stream",
     "text": [
      "8.851046e+11\n"
     ]
    }
   ],
   "source": [
    "print(\"{:e}\".format(np.max(list(pref_distr.values()))))"
   ]
  },
  {
   "cell_type": "markdown",
   "id": "d2e7a417",
   "metadata": {},
   "source": [
    "Для кодирования сдачи теоретически хватит $58$ бит: $18$ бит для распределения мастей, $40$ бит — для самого расклада."
   ]
  },
  {
   "cell_type": "code",
   "execution_count": 9,
   "id": "dfc6b02d",
   "metadata": {},
   "outputs": [
    {
     "name": "stdout",
     "output_type": "stream",
     "text": [
      "1.099512e+12 2.621440e+05\n"
     ]
    }
   ],
   "source": [
    "print(\"{:e}\".format(2 ** 40), \"{:e}\".format(2 ** 18))"
   ]
  },
  {
   "cell_type": "markdown",
   "id": "27ac4f49",
   "metadata": {},
   "source": [
    "В преферансе в момент розыгрыша новой взятки всегда $3$ руки одинакового размера $l$ и $4$ масти, поэтому факторная матрица имеет размер $4 \\times 3$:\n",
    "$$\n",
    "    \\boldD = \\begin{pmatrix}\n",
    "d_{11}& d_{12}& d_{13} \\\\\n",
    "d_{21}& d_{22}& d_{23} \\\\\n",
    "d_{31}& d_{32}& d_{33} \\\\\n",
    "d_{41}& d_{42}& d_{43}\n",
    "\\end{pmatrix},\n",
    "\\quad d_{i1} + d_{i2} + d_{i3} = s_i, \\; 1 \\leqslant i \\leqslant 4,\n",
    "\\quad d_{1j} + d_{2j} + d_{3j} + d_{4j} = l, \\; 1 \\leqslant j \\leqslant 3,\n",
    "\\quad s_1 + s_2 + s_3 + s_4 = 3l.\n",
    "$$"
   ]
  },
  {
   "cell_type": "code",
   "execution_count": 10,
   "id": "09ea0e9d",
   "metadata": {},
   "outputs": [
    {
     "name": "stdout",
     "output_type": "stream",
     "text": [
      "Total distributions: 24303\n",
      "Total variants: 5.550997e+12\n",
      "CPU times: user 911 ms, sys: 20.4 ms, total: 931 ms\n",
      "Wall time: 920 ms\n"
     ]
    }
   ],
   "source": [
    "%%time\n",
    "r = [8, 8, 8, 6]\n",
    "c = [10, 10, 10]\n",
    "pref_distr_no_widow = contingency_table_variants(r, c, verbose=True)"
   ]
  },
  {
   "cell_type": "code",
   "execution_count": 11,
   "id": "069db92e",
   "metadata": {},
   "outputs": [
    {
     "name": "stdout",
     "output_type": "stream",
     "text": [
      "Total distributions: 4206\n",
      "Total variants: 1.062468e+12\n",
      "Total reduced variants: 9.254358e+11\n",
      "CPU times: user 1.62 s, sys: 8.12 ms, total: 1.63 s\n",
      "Wall time: 1.63 s\n"
     ]
    }
   ],
   "source": [
    "%%time\n",
    "test_deal_enumeration(r, c, False)"
   ]
  },
  {
   "cell_type": "code",
   "execution_count": 14,
   "id": "77714b94",
   "metadata": {},
   "outputs": [
    {
     "name": "stdout",
     "output_type": "stream",
     "text": [
      "Total distributions: 12306\n",
      "Total variants: 2.907532e+12\n",
      "Total reduced variants: 2.775768e+12\n",
      "CPU times: user 3.32 s, sys: 12 ms, total: 3.33 s\n",
      "Wall time: 3.33 s\n"
     ]
    }
   ],
   "source": [
    "%%time\n",
    "test_deal_enumeration(r, c, True)"
   ]
  },
  {
   "cell_type": "code",
   "execution_count": 15,
   "id": "1037e2ca",
   "metadata": {},
   "outputs": [
    {
     "name": "stdout",
     "output_type": "stream",
     "text": [
      "Total distributions: 25191\n",
      "Total variants: 5.550997e+12\n",
      "CPU times: user 907 ms, sys: 12.2 ms, total: 919 ms\n",
      "Wall time: 912 ms\n"
     ]
    }
   ],
   "source": [
    "%%time\n",
    "r = [8, 8, 7, 7]\n",
    "c = [10, 10, 10]\n",
    "pref_distr_no_widow = contingency_table_variants(r, c, verbose=True)"
   ]
  },
  {
   "cell_type": "code",
   "execution_count": 16,
   "id": "8664595a",
   "metadata": {},
   "outputs": [
    {
     "name": "stdout",
     "output_type": "stream",
     "text": [
      "Total distributions: 6495\n",
      "Total variants: 1.543156e+12\n",
      "Total reduced variants: 1.388307e+12\n",
      "CPU times: user 2.15 s, sys: 15.9 ms, total: 2.16 s\n",
      "Wall time: 2.15 s\n"
     ]
    }
   ],
   "source": [
    "%%time\n",
    "test_deal_enumeration(r, c, False)"
   ]
  },
  {
   "cell_type": "code",
   "execution_count": 17,
   "id": "42370fc4",
   "metadata": {},
   "outputs": [
    {
     "name": "stdout",
     "output_type": "stream",
     "text": [
      "Total distributions: 12819\n",
      "Total variants: 2.925633e+12\n",
      "Total reduced variants: 2.776345e+12\n",
      "CPU times: user 3.49 s, sys: 4 ms, total: 3.5 s\n",
      "Wall time: 3.49 s\n"
     ]
    }
   ],
   "source": [
    "%%time\n",
    "test_deal_enumeration(r, c, True)"
   ]
  },
  {
   "cell_type": "markdown",
   "id": "2516ad8e",
   "metadata": {},
   "source": [
    "Можно уменьшить число перебираемых раскладов за счёт удаления симметрий. Ограничим перебор матрицами $\\boldD$ со следующими свойствами:\n",
    "\n",
    "* $s_1 \\leqslant s_2 \\leqslant \\ldots \\leqslant s_m$ (масти отсортированы по возрастанию);\n",
    "\n",
    "* если $s_i = s_{i+1}$, то $\\boldd_i \\preccurlyeq \\boldd_{i+1}$ (в лексикографическом смысле);\n",
    "\n",
    "* если $\\boldd_i = \\boldd_{i+1} = \\ldots = \\boldd_{i+p-1}$, то масти $i, i + 1, \\ldots, i+p-1$ можно переставлять между собой; выберем одну такую перестановку, что набор карт масти $j$ лексикографически меньше набора карт масти $j+1$, $i \\leqslant j < i + p$. Количество таких перестановок равно \n",
    "$$\n",
    "\\left|\\left\\{(i_1, \\ldots, i_p)\\colon 1 \\leqslant i_1 \\leqslant i_2 \\leqslant\\ldots \\leqslant i_p \\leqslant |\\boldd_i|\\right\\}\\right| = \\binom{|\\boldd_i| + p - 1}{p}\n",
    "$$\n",
    "При $p=1$ одинаковых мастей нет, и эта формула даёт тот же результат, что и ранее:\n",
    "$$\n",
    "\\binom{|\\boldd_i| + 1 - 1}{1} = |\\boldd_i| = \\binom {s_i}{d_{i1},\\ldots, d_{ik}} = \\frac{s_i!}{d_{i1}!\\cdot d_{i2}! \\cdot \\ldots \\cdot d_{ik}!}\n",
    "$$"
   ]
  },
  {
   "cell_type": "code",
   "execution_count": 83,
   "id": "6b1cd8e1",
   "metadata": {},
   "outputs": [],
   "source": [
    "def get_deal_counts(card_distributions, verbose=0):\n",
    "    result = []\n",
    "    result_reduced = []\n",
    "    if verbose > 0:\n",
    "        print(\"Total suit sizes distributions:\", len(card_distributions))\n",
    "    for suit_sizes, contingency_table_map in card_distributions.items():\n",
    "        if verbose > 0:\n",
    "            print(f\"suit_sizes = {suit_sizes}, size of contingency table map = {len(contingency_table_map)}\")\n",
    "        for contingency_table, count in contingency_table_map.items():\n",
    "            if verbose > 2:\n",
    "                print(np.array(contingency_table).reshape(4, -1))\n",
    "            if verbose > 1:\n",
    "                print(\"Number of card distributions:\", count)\n",
    "            result.append(count[0])\n",
    "            result_reduced.append(count[1])\n",
    "    return np.array(result), np.array(result_reduced)"
   ]
  },
  {
   "cell_type": "code",
   "execution_count": 88,
   "id": "0797bc5e",
   "metadata": {},
   "outputs": [],
   "source": [
    "trump_cnts = dict()\n",
    "notrump_cnts = dict()\n",
    "trump_cnts_reduced = dict()\n",
    "notrump_cnts_reduced = dict()\n",
    "\n",
    "def deal_counts_summary(hand_size, n_hands=3, max_suit_size=8):\n",
    "    deals = get_card_distributions(hand_size, n_hands, max_suit_size, trump=False)\n",
    "    deal_counts, deal_counts_reduced = get_deal_counts(deals, 0)\n",
    "    notrump_cnts[hand_size] = deal_counts\n",
    "    notrump_cnts_reduced[hand_size] = deal_counts_reduced\n",
    "    print(\"Deal no trump variants:\", deal_counts.sum())\n",
    "    print(\"Deal no trump variants reduced:\", deal_counts_reduced.sum())\n",
    "    \n",
    "    deals_trump = get_card_distributions(hand_size, n_hands, max_suit_size, trump=True)\n",
    "    deal_trump_counts, deal_trump_counts_reduced = get_deal_counts(deals_trump, 0)\n",
    "    trump_cnts[hand_size] = deal_trump_counts\n",
    "    trump_cnts_reduced[hand_size] = deal_trump_counts_reduced\n",
    "    print(\"Deal trump variants:\", deal_trump_counts.sum())\n",
    "    print(\"Deal trump variants reduced:\", deal_trump_counts_reduced.sum())\n",
    "    dc_df = pd.DataFrame({'deal_cnt': deal_counts, 'deal_cnt_reduced': deal_counts_reduced})\n",
    "    dc_df_trump = pd.DataFrame({'deal_trump_cnt': deal_trump_counts, \n",
    "                                'deal_trump_cnt_reduced': deal_trump_counts_reduced})\n",
    "    return pd.concat([dc_df.describe().astype(int), dc_df_trump.describe().astype(int)], axis=1)"
   ]
  },
  {
   "cell_type": "code",
   "execution_count": 96,
   "id": "c75920bf",
   "metadata": {},
   "outputs": [
    {
     "name": "stdout",
     "output_type": "stream",
     "text": [
      "Deal no trump variants: 0.0\n",
      "Deal no trump variants reduced: 0.0\n",
      "Deal trump variants: 0.0\n",
      "Deal trump variants reduced: 0.0\n"
     ]
    },
    {
     "ename": "IntCastingNaNError",
     "evalue": "Cannot convert non-finite values (NA or inf) to integer",
     "output_type": "error",
     "traceback": [
      "\u001b[0;31m---------------------------------------------------------------------------\u001b[0m",
      "\u001b[0;31mIntCastingNaNError\u001b[0m                        Traceback (most recent call last)",
      "\u001b[0;32m<timed eval>\u001b[0m in \u001b[0;36m<module>\u001b[0;34m\u001b[0m\n",
      "\u001b[0;32m/tmp/ipykernel_22071/915383950.py\u001b[0m in \u001b[0;36mdeal_counts_summary\u001b[0;34m(hand_size, n_hands, max_suit_size)\u001b[0m\n\u001b[1;32m     21\u001b[0m     dc_df_trump = pd.DataFrame({'deal_trump_cnt': deal_trump_counts, \n\u001b[1;32m     22\u001b[0m                                 'deal_trump_cnt_reduced': deal_trump_counts_reduced})\n\u001b[0;32m---> 23\u001b[0;31m     \u001b[0;32mreturn\u001b[0m \u001b[0mpd\u001b[0m\u001b[0;34m.\u001b[0m\u001b[0mconcat\u001b[0m\u001b[0;34m(\u001b[0m\u001b[0;34m[\u001b[0m\u001b[0mdc_df\u001b[0m\u001b[0;34m.\u001b[0m\u001b[0mdescribe\u001b[0m\u001b[0;34m(\u001b[0m\u001b[0;34m)\u001b[0m\u001b[0;34m.\u001b[0m\u001b[0mastype\u001b[0m\u001b[0;34m(\u001b[0m\u001b[0mint\u001b[0m\u001b[0;34m)\u001b[0m\u001b[0;34m,\u001b[0m \u001b[0mdc_df_trump\u001b[0m\u001b[0;34m.\u001b[0m\u001b[0mdescribe\u001b[0m\u001b[0;34m(\u001b[0m\u001b[0;34m)\u001b[0m\u001b[0;34m.\u001b[0m\u001b[0mastype\u001b[0m\u001b[0;34m(\u001b[0m\u001b[0mint\u001b[0m\u001b[0;34m)\u001b[0m\u001b[0;34m]\u001b[0m\u001b[0;34m,\u001b[0m \u001b[0maxis\u001b[0m\u001b[0;34m=\u001b[0m\u001b[0;36m1\u001b[0m\u001b[0;34m)\u001b[0m\u001b[0;34m\u001b[0m\u001b[0;34m\u001b[0m\u001b[0m\n\u001b[0m",
      "\u001b[0;32m/usr/local/lib/python3.9/dist-packages/pandas/core/generic.py\u001b[0m in \u001b[0;36mastype\u001b[0;34m(self, dtype, copy, errors)\u001b[0m\n\u001b[1;32m   5804\u001b[0m         \u001b[0;32melse\u001b[0m\u001b[0;34m:\u001b[0m\u001b[0;34m\u001b[0m\u001b[0;34m\u001b[0m\u001b[0m\n\u001b[1;32m   5805\u001b[0m             \u001b[0;31m# else, only a single dtype is given\u001b[0m\u001b[0;34m\u001b[0m\u001b[0;34m\u001b[0m\u001b[0m\n\u001b[0;32m-> 5806\u001b[0;31m             \u001b[0mnew_data\u001b[0m \u001b[0;34m=\u001b[0m \u001b[0mself\u001b[0m\u001b[0;34m.\u001b[0m\u001b[0m_mgr\u001b[0m\u001b[0;34m.\u001b[0m\u001b[0mastype\u001b[0m\u001b[0;34m(\u001b[0m\u001b[0mdtype\u001b[0m\u001b[0;34m=\u001b[0m\u001b[0mdtype\u001b[0m\u001b[0;34m,\u001b[0m \u001b[0mcopy\u001b[0m\u001b[0;34m=\u001b[0m\u001b[0mcopy\u001b[0m\u001b[0;34m,\u001b[0m \u001b[0merrors\u001b[0m\u001b[0;34m=\u001b[0m\u001b[0merrors\u001b[0m\u001b[0;34m)\u001b[0m\u001b[0;34m\u001b[0m\u001b[0;34m\u001b[0m\u001b[0m\n\u001b[0m\u001b[1;32m   5807\u001b[0m             \u001b[0;32mreturn\u001b[0m \u001b[0mself\u001b[0m\u001b[0;34m.\u001b[0m\u001b[0m_constructor\u001b[0m\u001b[0;34m(\u001b[0m\u001b[0mnew_data\u001b[0m\u001b[0;34m)\u001b[0m\u001b[0;34m.\u001b[0m\u001b[0m__finalize__\u001b[0m\u001b[0;34m(\u001b[0m\u001b[0mself\u001b[0m\u001b[0;34m,\u001b[0m \u001b[0mmethod\u001b[0m\u001b[0;34m=\u001b[0m\u001b[0;34m\"astype\"\u001b[0m\u001b[0;34m)\u001b[0m\u001b[0;34m\u001b[0m\u001b[0;34m\u001b[0m\u001b[0m\n\u001b[1;32m   5808\u001b[0m \u001b[0;34m\u001b[0m\u001b[0m\n",
      "\u001b[0;32m/usr/local/lib/python3.9/dist-packages/pandas/core/internals/managers.py\u001b[0m in \u001b[0;36mastype\u001b[0;34m(self, dtype, copy, errors)\u001b[0m\n\u001b[1;32m    412\u001b[0m \u001b[0;34m\u001b[0m\u001b[0m\n\u001b[1;32m    413\u001b[0m     \u001b[0;32mdef\u001b[0m \u001b[0mastype\u001b[0m\u001b[0;34m(\u001b[0m\u001b[0mself\u001b[0m\u001b[0;34m:\u001b[0m \u001b[0mT\u001b[0m\u001b[0;34m,\u001b[0m \u001b[0mdtype\u001b[0m\u001b[0;34m,\u001b[0m \u001b[0mcopy\u001b[0m\u001b[0;34m:\u001b[0m \u001b[0mbool\u001b[0m \u001b[0;34m=\u001b[0m \u001b[0;32mFalse\u001b[0m\u001b[0;34m,\u001b[0m \u001b[0merrors\u001b[0m\u001b[0;34m:\u001b[0m \u001b[0mstr\u001b[0m \u001b[0;34m=\u001b[0m \u001b[0;34m\"raise\"\u001b[0m\u001b[0;34m)\u001b[0m \u001b[0;34m->\u001b[0m \u001b[0mT\u001b[0m\u001b[0;34m:\u001b[0m\u001b[0;34m\u001b[0m\u001b[0;34m\u001b[0m\u001b[0m\n\u001b[0;32m--> 414\u001b[0;31m         \u001b[0;32mreturn\u001b[0m \u001b[0mself\u001b[0m\u001b[0;34m.\u001b[0m\u001b[0mapply\u001b[0m\u001b[0;34m(\u001b[0m\u001b[0;34m\"astype\"\u001b[0m\u001b[0;34m,\u001b[0m \u001b[0mdtype\u001b[0m\u001b[0;34m=\u001b[0m\u001b[0mdtype\u001b[0m\u001b[0;34m,\u001b[0m \u001b[0mcopy\u001b[0m\u001b[0;34m=\u001b[0m\u001b[0mcopy\u001b[0m\u001b[0;34m,\u001b[0m \u001b[0merrors\u001b[0m\u001b[0;34m=\u001b[0m\u001b[0merrors\u001b[0m\u001b[0;34m)\u001b[0m\u001b[0;34m\u001b[0m\u001b[0;34m\u001b[0m\u001b[0m\n\u001b[0m\u001b[1;32m    415\u001b[0m \u001b[0;34m\u001b[0m\u001b[0m\n\u001b[1;32m    416\u001b[0m     def convert(\n",
      "\u001b[0;32m/usr/local/lib/python3.9/dist-packages/pandas/core/internals/managers.py\u001b[0m in \u001b[0;36mapply\u001b[0;34m(self, f, align_keys, ignore_failures, **kwargs)\u001b[0m\n\u001b[1;32m    325\u001b[0m                     \u001b[0mapplied\u001b[0m \u001b[0;34m=\u001b[0m \u001b[0mb\u001b[0m\u001b[0;34m.\u001b[0m\u001b[0mapply\u001b[0m\u001b[0;34m(\u001b[0m\u001b[0mf\u001b[0m\u001b[0;34m,\u001b[0m \u001b[0;34m**\u001b[0m\u001b[0mkwargs\u001b[0m\u001b[0;34m)\u001b[0m\u001b[0;34m\u001b[0m\u001b[0;34m\u001b[0m\u001b[0m\n\u001b[1;32m    326\u001b[0m                 \u001b[0;32melse\u001b[0m\u001b[0;34m:\u001b[0m\u001b[0;34m\u001b[0m\u001b[0;34m\u001b[0m\u001b[0m\n\u001b[0;32m--> 327\u001b[0;31m                     \u001b[0mapplied\u001b[0m \u001b[0;34m=\u001b[0m \u001b[0mgetattr\u001b[0m\u001b[0;34m(\u001b[0m\u001b[0mb\u001b[0m\u001b[0;34m,\u001b[0m \u001b[0mf\u001b[0m\u001b[0;34m)\u001b[0m\u001b[0;34m(\u001b[0m\u001b[0;34m**\u001b[0m\u001b[0mkwargs\u001b[0m\u001b[0;34m)\u001b[0m\u001b[0;34m\u001b[0m\u001b[0;34m\u001b[0m\u001b[0m\n\u001b[0m\u001b[1;32m    328\u001b[0m             \u001b[0;32mexcept\u001b[0m \u001b[0;34m(\u001b[0m\u001b[0mTypeError\u001b[0m\u001b[0;34m,\u001b[0m \u001b[0mNotImplementedError\u001b[0m\u001b[0;34m)\u001b[0m\u001b[0;34m:\u001b[0m\u001b[0;34m\u001b[0m\u001b[0;34m\u001b[0m\u001b[0m\n\u001b[1;32m    329\u001b[0m                 \u001b[0;32mif\u001b[0m \u001b[0;32mnot\u001b[0m \u001b[0mignore_failures\u001b[0m\u001b[0;34m:\u001b[0m\u001b[0;34m\u001b[0m\u001b[0;34m\u001b[0m\u001b[0m\n",
      "\u001b[0;32m/usr/local/lib/python3.9/dist-packages/pandas/core/internals/blocks.py\u001b[0m in \u001b[0;36mastype\u001b[0;34m(self, dtype, copy, errors)\u001b[0m\n\u001b[1;32m    590\u001b[0m         \u001b[0mvalues\u001b[0m \u001b[0;34m=\u001b[0m \u001b[0mself\u001b[0m\u001b[0;34m.\u001b[0m\u001b[0mvalues\u001b[0m\u001b[0;34m\u001b[0m\u001b[0;34m\u001b[0m\u001b[0m\n\u001b[1;32m    591\u001b[0m \u001b[0;34m\u001b[0m\u001b[0m\n\u001b[0;32m--> 592\u001b[0;31m         \u001b[0mnew_values\u001b[0m \u001b[0;34m=\u001b[0m \u001b[0mastype_array_safe\u001b[0m\u001b[0;34m(\u001b[0m\u001b[0mvalues\u001b[0m\u001b[0;34m,\u001b[0m \u001b[0mdtype\u001b[0m\u001b[0;34m,\u001b[0m \u001b[0mcopy\u001b[0m\u001b[0;34m=\u001b[0m\u001b[0mcopy\u001b[0m\u001b[0;34m,\u001b[0m \u001b[0merrors\u001b[0m\u001b[0;34m=\u001b[0m\u001b[0merrors\u001b[0m\u001b[0;34m)\u001b[0m\u001b[0;34m\u001b[0m\u001b[0;34m\u001b[0m\u001b[0m\n\u001b[0m\u001b[1;32m    593\u001b[0m \u001b[0;34m\u001b[0m\u001b[0m\n\u001b[1;32m    594\u001b[0m         \u001b[0mnew_values\u001b[0m \u001b[0;34m=\u001b[0m \u001b[0mmaybe_coerce_values\u001b[0m\u001b[0;34m(\u001b[0m\u001b[0mnew_values\u001b[0m\u001b[0;34m)\u001b[0m\u001b[0;34m\u001b[0m\u001b[0;34m\u001b[0m\u001b[0m\n",
      "\u001b[0;32m/usr/local/lib/python3.9/dist-packages/pandas/core/dtypes/cast.py\u001b[0m in \u001b[0;36mastype_array_safe\u001b[0;34m(values, dtype, copy, errors)\u001b[0m\n\u001b[1;32m   1307\u001b[0m \u001b[0;34m\u001b[0m\u001b[0m\n\u001b[1;32m   1308\u001b[0m     \u001b[0;32mtry\u001b[0m\u001b[0;34m:\u001b[0m\u001b[0;34m\u001b[0m\u001b[0;34m\u001b[0m\u001b[0m\n\u001b[0;32m-> 1309\u001b[0;31m         \u001b[0mnew_values\u001b[0m \u001b[0;34m=\u001b[0m \u001b[0mastype_array\u001b[0m\u001b[0;34m(\u001b[0m\u001b[0mvalues\u001b[0m\u001b[0;34m,\u001b[0m \u001b[0mdtype\u001b[0m\u001b[0;34m,\u001b[0m \u001b[0mcopy\u001b[0m\u001b[0;34m=\u001b[0m\u001b[0mcopy\u001b[0m\u001b[0;34m)\u001b[0m\u001b[0;34m\u001b[0m\u001b[0;34m\u001b[0m\u001b[0m\n\u001b[0m\u001b[1;32m   1310\u001b[0m     \u001b[0;32mexcept\u001b[0m \u001b[0;34m(\u001b[0m\u001b[0mValueError\u001b[0m\u001b[0;34m,\u001b[0m \u001b[0mTypeError\u001b[0m\u001b[0;34m)\u001b[0m\u001b[0;34m:\u001b[0m\u001b[0;34m\u001b[0m\u001b[0;34m\u001b[0m\u001b[0m\n\u001b[1;32m   1311\u001b[0m         \u001b[0;31m# e.g. astype_nansafe can fail on object-dtype of strings\u001b[0m\u001b[0;34m\u001b[0m\u001b[0;34m\u001b[0m\u001b[0m\n",
      "\u001b[0;32m/usr/local/lib/python3.9/dist-packages/pandas/core/dtypes/cast.py\u001b[0m in \u001b[0;36mastype_array\u001b[0;34m(values, dtype, copy)\u001b[0m\n\u001b[1;32m   1255\u001b[0m \u001b[0;34m\u001b[0m\u001b[0m\n\u001b[1;32m   1256\u001b[0m     \u001b[0;32melse\u001b[0m\u001b[0;34m:\u001b[0m\u001b[0;34m\u001b[0m\u001b[0;34m\u001b[0m\u001b[0m\n\u001b[0;32m-> 1257\u001b[0;31m         \u001b[0mvalues\u001b[0m \u001b[0;34m=\u001b[0m \u001b[0mastype_nansafe\u001b[0m\u001b[0;34m(\u001b[0m\u001b[0mvalues\u001b[0m\u001b[0;34m,\u001b[0m \u001b[0mdtype\u001b[0m\u001b[0;34m,\u001b[0m \u001b[0mcopy\u001b[0m\u001b[0;34m=\u001b[0m\u001b[0mcopy\u001b[0m\u001b[0;34m)\u001b[0m\u001b[0;34m\u001b[0m\u001b[0;34m\u001b[0m\u001b[0m\n\u001b[0m\u001b[1;32m   1258\u001b[0m \u001b[0;34m\u001b[0m\u001b[0m\n\u001b[1;32m   1259\u001b[0m     \u001b[0;31m# in pandas we don't store numpy str dtypes, so convert to object\u001b[0m\u001b[0;34m\u001b[0m\u001b[0;34m\u001b[0m\u001b[0m\n",
      "\u001b[0;32m/usr/local/lib/python3.9/dist-packages/pandas/core/dtypes/cast.py\u001b[0m in \u001b[0;36mastype_nansafe\u001b[0;34m(arr, dtype, copy, skipna)\u001b[0m\n\u001b[1;32m   1093\u001b[0m     \u001b[0;32mif\u001b[0m \u001b[0marr\u001b[0m\u001b[0;34m.\u001b[0m\u001b[0mndim\u001b[0m \u001b[0;34m>\u001b[0m \u001b[0;36m1\u001b[0m\u001b[0;34m:\u001b[0m\u001b[0;34m\u001b[0m\u001b[0;34m\u001b[0m\u001b[0m\n\u001b[1;32m   1094\u001b[0m         \u001b[0mflat\u001b[0m \u001b[0;34m=\u001b[0m \u001b[0marr\u001b[0m\u001b[0;34m.\u001b[0m\u001b[0mravel\u001b[0m\u001b[0;34m(\u001b[0m\u001b[0;34m)\u001b[0m\u001b[0;34m\u001b[0m\u001b[0;34m\u001b[0m\u001b[0m\n\u001b[0;32m-> 1095\u001b[0;31m         \u001b[0mresult\u001b[0m \u001b[0;34m=\u001b[0m \u001b[0mastype_nansafe\u001b[0m\u001b[0;34m(\u001b[0m\u001b[0mflat\u001b[0m\u001b[0;34m,\u001b[0m \u001b[0mdtype\u001b[0m\u001b[0;34m,\u001b[0m \u001b[0mcopy\u001b[0m\u001b[0;34m=\u001b[0m\u001b[0mcopy\u001b[0m\u001b[0;34m,\u001b[0m \u001b[0mskipna\u001b[0m\u001b[0;34m=\u001b[0m\u001b[0mskipna\u001b[0m\u001b[0;34m)\u001b[0m\u001b[0;34m\u001b[0m\u001b[0;34m\u001b[0m\u001b[0m\n\u001b[0m\u001b[1;32m   1096\u001b[0m         \u001b[0;31m# error: Item \"ExtensionArray\" of \"Union[ExtensionArray, ndarray]\" has no\u001b[0m\u001b[0;34m\u001b[0m\u001b[0;34m\u001b[0m\u001b[0m\n\u001b[1;32m   1097\u001b[0m         \u001b[0;31m# attribute \"reshape\"\u001b[0m\u001b[0;34m\u001b[0m\u001b[0;34m\u001b[0m\u001b[0m\n",
      "\u001b[0;32m/usr/local/lib/python3.9/dist-packages/pandas/core/dtypes/cast.py\u001b[0m in \u001b[0;36mastype_nansafe\u001b[0;34m(arr, dtype, copy, skipna)\u001b[0m\n\u001b[1;32m   1166\u001b[0m \u001b[0;34m\u001b[0m\u001b[0m\n\u001b[1;32m   1167\u001b[0m     \u001b[0;32melif\u001b[0m \u001b[0mnp\u001b[0m\u001b[0;34m.\u001b[0m\u001b[0missubdtype\u001b[0m\u001b[0;34m(\u001b[0m\u001b[0marr\u001b[0m\u001b[0;34m.\u001b[0m\u001b[0mdtype\u001b[0m\u001b[0;34m,\u001b[0m \u001b[0mnp\u001b[0m\u001b[0;34m.\u001b[0m\u001b[0mfloating\u001b[0m\u001b[0;34m)\u001b[0m \u001b[0;32mand\u001b[0m \u001b[0mnp\u001b[0m\u001b[0;34m.\u001b[0m\u001b[0missubdtype\u001b[0m\u001b[0;34m(\u001b[0m\u001b[0mdtype\u001b[0m\u001b[0;34m,\u001b[0m \u001b[0mnp\u001b[0m\u001b[0;34m.\u001b[0m\u001b[0minteger\u001b[0m\u001b[0;34m)\u001b[0m\u001b[0;34m:\u001b[0m\u001b[0;34m\u001b[0m\u001b[0;34m\u001b[0m\u001b[0m\n\u001b[0;32m-> 1168\u001b[0;31m         \u001b[0;32mreturn\u001b[0m \u001b[0mastype_float_to_int_nansafe\u001b[0m\u001b[0;34m(\u001b[0m\u001b[0marr\u001b[0m\u001b[0;34m,\u001b[0m \u001b[0mdtype\u001b[0m\u001b[0;34m,\u001b[0m \u001b[0mcopy\u001b[0m\u001b[0;34m)\u001b[0m\u001b[0;34m\u001b[0m\u001b[0;34m\u001b[0m\u001b[0m\n\u001b[0m\u001b[1;32m   1169\u001b[0m \u001b[0;34m\u001b[0m\u001b[0m\n\u001b[1;32m   1170\u001b[0m     \u001b[0;32melif\u001b[0m \u001b[0mis_object_dtype\u001b[0m\u001b[0;34m(\u001b[0m\u001b[0marr\u001b[0m\u001b[0;34m)\u001b[0m\u001b[0;34m:\u001b[0m\u001b[0;34m\u001b[0m\u001b[0;34m\u001b[0m\u001b[0m\n",
      "\u001b[0;32m/usr/local/lib/python3.9/dist-packages/pandas/core/dtypes/cast.py\u001b[0m in \u001b[0;36mastype_float_to_int_nansafe\u001b[0;34m(values, dtype, copy)\u001b[0m\n\u001b[1;32m   1211\u001b[0m     \"\"\"\n\u001b[1;32m   1212\u001b[0m     \u001b[0;32mif\u001b[0m \u001b[0;32mnot\u001b[0m \u001b[0mnp\u001b[0m\u001b[0;34m.\u001b[0m\u001b[0misfinite\u001b[0m\u001b[0;34m(\u001b[0m\u001b[0mvalues\u001b[0m\u001b[0;34m)\u001b[0m\u001b[0;34m.\u001b[0m\u001b[0mall\u001b[0m\u001b[0;34m(\u001b[0m\u001b[0;34m)\u001b[0m\u001b[0;34m:\u001b[0m\u001b[0;34m\u001b[0m\u001b[0;34m\u001b[0m\u001b[0m\n\u001b[0;32m-> 1213\u001b[0;31m         raise IntCastingNaNError(\n\u001b[0m\u001b[1;32m   1214\u001b[0m             \u001b[0;34m\"Cannot convert non-finite values (NA or inf) to integer\"\u001b[0m\u001b[0;34m\u001b[0m\u001b[0;34m\u001b[0m\u001b[0m\n\u001b[1;32m   1215\u001b[0m         )\n",
      "\u001b[0;31mIntCastingNaNError\u001b[0m: Cannot convert non-finite values (NA or inf) to integer"
     ]
    }
   ],
   "source": [
    "%%time\n",
    "deal_counts_summary(13, 4, 13)"
   ]
  },
  {
   "cell_type": "code",
   "execution_count": 92,
   "id": "8de8e08a",
   "metadata": {},
   "outputs": [],
   "source": [
    "no_tr_cnts_b = [73, 25089, 6467816, 1336331889]\n",
    "tr_cnts_b = [136, 62832, 20689216, 4757949072]"
   ]
  },
  {
   "cell_type": "code",
   "execution_count": 47,
   "id": "40124d08",
   "metadata": {},
   "outputs": [],
   "source": [
    "no_tr_cnts = [13, 555, 19996, 631959, 16350012, 341718684, 5611979988, 68565702195, 567603793650, 2605624201677]\n",
    "tr_cnts = [21, 1188, 55062, 1974972, 56321424, 1251390792, 21311636496, 265235061420, 2198253354300, 9803165865276]"
   ]
  },
  {
   "cell_type": "code",
   "execution_count": 48,
   "id": "21b1d25d",
   "metadata": {},
   "outputs": [
    {
     "data": {
      "text/plain": [
       "(3247764398729, 12289275660951)"
      ]
     },
     "execution_count": 48,
     "metadata": {},
     "output_type": "execute_result"
    }
   ],
   "source": [
    "sum(no_tr_cnts), sum(tr_cnts)"
   ]
  },
  {
   "cell_type": "code",
   "execution_count": 49,
   "id": "bdff600d",
   "metadata": {},
   "outputs": [
    {
     "data": {
      "text/plain": [
       "0.6003712519931653"
      ]
     },
     "execution_count": 49,
     "metadata": {},
     "output_type": "execute_result"
    }
   ],
   "source": [
    "old = 12620951697900 + 26257732924194\n",
    "(old - sum(no_tr_cnts) - sum(tr_cnts)) / old"
   ]
  },
  {
   "cell_type": "code",
   "execution_count": 87,
   "id": "2322cac8",
   "metadata": {},
   "outputs": [
    {
     "data": {
      "text/plain": [
       "{1: array([6, 2, 2, 2, 1, 1, 1, 2, 2, 2]),\n",
       " 5: array([ 224,   56,  336, ...,  840, 2100,  840])}"
      ]
     },
     "execution_count": 87,
     "metadata": {},
     "output_type": "execute_result"
    }
   ],
   "source": [
    "trump_cnts"
   ]
  },
  {
   "cell_type": "code",
   "execution_count": 153,
   "id": "8e1e026a",
   "metadata": {},
   "outputs": [
    {
     "data": {
      "image/png": "[encoded data removed]",
      "text/plain": [
       "<Figure size 1008x504 with 1 Axes>"
      ]
     },
     "metadata": {
      "needs_background": "light"
     },
     "output_type": "display_data"
    }
   ],
   "source": [
    "plt.figure(figsize=(14, 7))\n",
    "plt.boxplot([np.log10(notrump_cnts[i]) for i in range(1, 11)],\n",
    "            whiskerprops=dict(linestyle='-',linewidth=1.5, color='black'),\n",
    "            boxprops={'linewidth': 1.5},\n",
    "            capprops={'linewidth':1.5},\n",
    "            medianprops={'linewidth':2, 'color': 'red'},\n",
    ");\n",
    "plt.yticks(np.arange(0, 11, 2), labels=[r\"$10^0$\", r\"$10^2$\", r\"$10^4$\", r\"$10^6$\", r\"$10^8$\", r\"$10^{10}$\"]);\n",
    "plt.xlabel(\"Этап розыгрыша,\" + r\"\\,$k$\")\n",
    "plt.grid(ls='--')\n",
    "plt.title(\"Распределение числа раскладов по факторным матрицам\");"
   ]
  },
  {
   "cell_type": "code",
   "execution_count": 175,
   "id": "84c49363",
   "metadata": {},
   "outputs": [
    {
     "data": {
      "image/png": "[encoded data removed]",
      "text/plain": [
       "<Figure size 1008x504 with 1 Axes>"
      ]
     },
     "metadata": {
      "needs_background": "light"
     },
     "output_type": "display_data"
    }
   ],
   "source": [
    "i = 7\n",
    "plt.figure(figsize=(14, 7))\n",
    "plt.boxplot([np.log(notrump_cnts[i]), np.log(trump_cnts[i]), np.log(notrump_cnts[i]), np.log(trump_cnts_reduced[i])],\n",
    "            whiskerprops=dict(linestyle='-',linewidth=1.5, color='black'),\n",
    "            boxprops={'linewidth': 1.5},\n",
    "            capprops={'linewidth':1.5},\n",
    "            medianprops={'linewidth':2, 'color': 'red'},\n",
    ");\n",
    "#plt.yticks(np.arange(0, 11, 2), labels=[r\"$10^0$\", r\"$10^2$\", r\"$10^4$\", r\"$10^6$\", r\"$10^8$\", r\"$10^{10}$\"]);\n",
    "plt.xlabel(\"Этап розыгрыша,\" + r\"\\,$k$\")\n",
    "plt.grid(ls='--')\n",
    "plt.title(\"Распределение числа раскладов по факторным матрицам\");"
   ]
  },
  {
   "cell_type": "code",
   "execution_count": 73,
   "id": "8dd3e6ee",
   "metadata": {},
   "outputs": [
    {
     "name": "stdout",
     "output_type": "stream",
     "text": [
      "13 21\n",
      "0.00%, 0.00%\n"
     ]
    }
   ],
   "source": [
    "n = 1\n",
    "print(notrump_cnts_reduced[n].sum(), trump_cnts_reduced[n].sum())\n",
    "print(\"{:.2%}, {:.2%}\".format(1 - notrump_cnts_reduced[n].sum() / notrump_cnts[n].sum(),\n",
    "                              1 - trump_cnts_reduced[n].sum() / trump_cnts[n].sum()))"
   ]
  },
  {
   "cell_type": "code",
   "execution_count": 77,
   "id": "035792ad",
   "metadata": {},
   "outputs": [
    {
     "name": "stdout",
     "output_type": "stream",
     "text": [
      "11661580470951\n"
     ]
    }
   ],
   "source": [
    "s = 0\n",
    "for k, v in trump_cnts_reduced.items():\n",
    "    s += v.sum()\n",
    "print(s)"
   ]
  },
  {
   "cell_type": "code",
   "execution_count": 80,
   "id": "72a31f0b",
   "metadata": {},
   "outputs": [
    {
     "data": {
      "text/plain": [
       "14578111553407"
      ]
     },
     "execution_count": 80,
     "metadata": {},
     "output_type": "execute_result"
    }
   ],
   "source": [
    "best = s + 2916531082456\n",
    "best"
   ]
  },
  {
   "cell_type": "code",
   "execution_count": 81,
   "id": "4f45494e",
   "metadata": {},
   "outputs": [
    {
     "data": {
      "text/plain": [
       "0.6250358854701956"
      ]
     },
     "execution_count": 81,
     "metadata": {},
     "output_type": "execute_result"
    }
   ],
   "source": [
    "(old - best) / old"
   ]
  },
  {
   "cell_type": "code",
   "execution_count": 78,
   "id": "9a635c79",
   "metadata": {},
   "outputs": [
    {
     "data": {
      "text/plain": [
       "0.051076662882133306"
      ]
     },
     "execution_count": 78,
     "metadata": {},
     "output_type": "execute_result"
    }
   ],
   "source": [
    "1 - s / sum(tr_cnts)"
   ]
  },
  {
   "cell_type": "code",
   "execution_count": 10,
   "id": "9fd3b3d3",
   "metadata": {},
   "outputs": [
    {
     "name": "stdout",
     "output_type": "stream",
     "text": [
      "CPU times: user 8.38 s, sys: 15.8 ms, total: 8.4 s\n",
      "Wall time: 8.38 s\n"
     ]
    }
   ],
   "source": [
    "%%time\n",
    "hand_size = 7\n",
    "trump = False\n",
    "deals = get_card_distributions(hand_size, trump=trump)\n",
    "deal_counts, deal_counts_reduced = card_distributions_summary(deals, 0)"
   ]
  },
  {
   "cell_type": "code",
   "execution_count": 11,
   "id": "629b5836",
   "metadata": {},
   "outputs": [
    {
     "name": "stdout",
     "output_type": "stream",
     "text": [
      "Contingency tables: 33053\n",
      "Deal variants: 5611979988\n",
      "Max variants per table: 10584000\n",
      "Deal variants reduced: 5399087904\n",
      "Max reduced variants per table: 10584000\n"
     ]
    }
   ],
   "source": [
    "print(\"Contingency tables:\", len(deal_counts))\n",
    "print(\"Deal variants:\", deal_counts.sum())\n",
    "print(\"Max variants per table:\", deal_counts.max())\n",
    "print(\"Deal variants reduced:\", deal_counts_reduced.sum())\n",
    "print(\"Max reduced variants per table:\", deal_counts_reduced.max())"
   ]
  },
  {
   "cell_type": "code",
   "execution_count": 14,
   "id": "cc7c67de",
   "metadata": {},
   "outputs": [
    {
     "data": {
      "text/html": [
       "<div>\n",
       "<style scoped>\n",
       "    .dataframe tbody tr th:only-of-type {\n",
       "        vertical-align: middle;\n",
       "    }\n",
       "\n",
       "    .dataframe tbody tr th {\n",
       "        vertical-align: top;\n",
       "    }\n",
       "\n",
       "    .dataframe thead th {\n",
       "        text-align: right;\n",
       "    }\n",
       "</style>\n",
       "<table border=\"1\" class=\"dataframe\">\n",
       "  <thead>\n",
       "    <tr style=\"text-align: right;\">\n",
       "      <th></th>\n",
       "      <th>deal_cnt</th>\n",
       "      <th>deal_cnt_reduced</th>\n",
       "    </tr>\n",
       "  </thead>\n",
       "  <tbody>\n",
       "    <tr>\n",
       "      <th>count</th>\n",
       "      <td>33053</td>\n",
       "      <td>33053</td>\n",
       "    </tr>\n",
       "    <tr>\n",
       "      <th>mean</th>\n",
       "      <td>169787</td>\n",
       "      <td>163346</td>\n",
       "    </tr>\n",
       "    <tr>\n",
       "      <th>std</th>\n",
       "      <td>432028</td>\n",
       "      <td>411801</td>\n",
       "    </tr>\n",
       "    <tr>\n",
       "      <th>min</th>\n",
       "      <td>1</td>\n",
       "      <td>1</td>\n",
       "    </tr>\n",
       "    <tr>\n",
       "      <th>25%</th>\n",
       "      <td>7056</td>\n",
       "      <td>7056</td>\n",
       "    </tr>\n",
       "    <tr>\n",
       "      <th>50%</th>\n",
       "      <td>33600</td>\n",
       "      <td>33600</td>\n",
       "    </tr>\n",
       "    <tr>\n",
       "      <th>75%</th>\n",
       "      <td>141120</td>\n",
       "      <td>132300</td>\n",
       "    </tr>\n",
       "    <tr>\n",
       "      <th>max</th>\n",
       "      <td>10584000</td>\n",
       "      <td>10584000</td>\n",
       "    </tr>\n",
       "  </tbody>\n",
       "</table>\n",
       "</div>"
      ],
      "text/plain": [
       "       deal_cnt  deal_cnt_reduced\n",
       "count     33053             33053\n",
       "mean     169787            163346\n",
       "std      432028            411801\n",
       "min           1                 1\n",
       "25%        7056              7056\n",
       "50%       33600             33600\n",
       "75%      141120            132300\n",
       "max    10584000          10584000"
      ]
     },
     "execution_count": 14,
     "metadata": {},
     "output_type": "execute_result"
    }
   ],
   "source": [
    "import pandas as pd\n",
    "dc_df = pd.DataFrame({'deal_cnt': deal_counts, 'deal_cnt_reduced': deal_counts_reduced})\n",
    "dc_df.describe().astype(int)"
   ]
  },
  {
   "cell_type": "code",
   "execution_count": 14,
   "id": "45bca0f4",
   "metadata": {},
   "outputs": [],
   "source": [
    "def build_contingency_tables_indexer(hand_size, trump, reduce_level=2):\n",
    "    deals = get_card_distributions(hand_size, trump=trump, reduce_level=reduce_level)\n",
    "    table_array = np.array([], dtype=np.int8)\n",
    "    table2index = {}\n",
    "    for suit_sizes, contngency_table_map in deals.items():\n",
    "        for contingency_table, count in contngency_table_map.items():\n",
    "            table = np.array(contingency_table, dtype=np.int8).reshape(4, -1)\n",
    "            if table_array.size == 0:\n",
    "                table_array = np.array(table)[np.newaxis, ...]\n",
    "            else:\n",
    "                table_array = np.append(table_array, table[np.newaxis, ...], axis=0)\n",
    "            table2index[contingency_table] = table_array.shape[0] - 1\n",
    "    return table_array, table2index"
   ]
  },
  {
   "cell_type": "code",
   "execution_count": 60,
   "id": "fa70a733",
   "metadata": {},
   "outputs": [],
   "source": [
    "def get_table_index(hand_size, trump, reduce_level, verbose=False):\n",
    "    if verbose:\n",
    "        print(f\"Hand size = {hand_size}\")\n",
    "    tables, table2index = build_contingency_tables_indexer(hand_size, trump, reduce_level=reduce_level)\n",
    "    if verbose:\n",
    "        print(f\"  Shape of table array = {tables.shape}\")\n",
    "        print(\"  Size of tables:\", getsizeof(tables))\n",
    "        print(f\"  Len of table2index map = {len(table2index)}\")\n",
    "        print(\"  Size of table2index:\", getsizeof(table2index))\n",
    "    return tables, table2index"
   ]
  },
  {
   "cell_type": "code",
   "execution_count": 65,
   "id": "d00332d0",
   "metadata": {},
   "outputs": [
    {
     "name": "stdout",
     "output_type": "stream",
     "text": [
      "Hand size = 2\n",
      "  Shape of table array = (59, 4, 3)\n",
      "  Size of tables: 844\n",
      "  Len of table2index map = 59\n",
      "  Size of table2index: 2272\n"
     ]
    }
   ],
   "source": [
    "tables, _ = get_table_index(2, False, 2, verbose=True)"
   ]
  },
  {
   "cell_type": "code",
   "execution_count": 120,
   "id": "fe746311",
   "metadata": {},
   "outputs": [
    {
     "data": {
      "text/plain": [
       "(59, 4, 3)"
      ]
     },
     "execution_count": 120,
     "metadata": {},
     "output_type": "execute_result"
    }
   ],
   "source": [
    "tables.shape"
   ]
  },
  {
   "cell_type": "code",
   "execution_count": 102,
   "id": "796500ea",
   "metadata": {},
   "outputs": [],
   "source": [
    "def save_table_index(hand_size, trump, reduce=True):\n",
    "    tables, table2index = build_contingency_tables_indexer(hand_size, trump, reduce=reduce)\n",
    "    np.save(\"./tables/index2table_\" + str(hand_size) + (\"_trump\" if trump else \"\"), tables)\n",
    "    with open(\"./tables/table2index_\" + str(hand_size) + (\"_trump\" if trump else \"\") + \".pickle\", \"wb\") as f:\n",
    "        pickle.dump(table2index, f, protocol=pickle.HIGHEST_PROTOCOL)"
   ]
  },
  {
   "cell_type": "code",
   "execution_count": 103,
   "id": "b7c08a82",
   "metadata": {},
   "outputs": [
    {
     "name": "stderr",
     "output_type": "stream",
     "text": [
      "100%|███████████████████████████████████████████| 10/10 [03:23<00:00, 20.34s/it]\n"
     ]
    }
   ],
   "source": [
    "for hand_size in trange(1, 11):\n",
    "    save_table_index(hand_size, False)\n",
    "    save_table_index(hand_size, True)"
   ]
  },
  {
   "cell_type": "code",
   "execution_count": 90,
   "id": "59069b9e",
   "metadata": {},
   "outputs": [
    {
     "name": "stdout",
     "output_type": "stream",
     "text": [
      "Hand size = 8\n",
      "  Shape of table array = (164893, 4, 3)\n",
      "  Size of tables: 1978852\n",
      "  Len of table2index map = 164893\n",
      "  Size of table2index: 5242968\n"
     ]
    }
   ],
   "source": [
    "tables, table2index = get_table_index(8, True, verbose=True)"
   ]
  },
  {
   "cell_type": "code",
   "execution_count": 24,
   "id": "038cfa5f",
   "metadata": {},
   "outputs": [
    {
     "data": {
      "text/plain": [
       "(33053, 4, 3)"
      ]
     },
     "execution_count": 24,
     "metadata": {},
     "output_type": "execute_result"
    }
   ],
   "source": [
    "table = np.load('./tables/index2table_7.npy')\n",
    "table.shape"
   ]
  },
  {
   "cell_type": "code",
   "execution_count": 25,
   "id": "e6670690",
   "metadata": {},
   "outputs": [
    {
     "data": {
      "text/plain": [
       "array([[1, 3, 1],\n",
       "       [2, 0, 3],\n",
       "       [3, 2, 0],\n",
       "       [1, 2, 3]], dtype=int8)"
      ]
     },
     "execution_count": 25,
     "metadata": {},
     "output_type": "execute_result"
    }
   ],
   "source": [
    "table[123]"
   ]
  },
  {
   "cell_type": "code",
   "execution_count": 113,
   "id": "23a78d14",
   "metadata": {},
   "outputs": [
    {
     "data": {
      "text/plain": [
       "array([[ True,  True,  True],\n",
       "       [ True,  True,  True],\n",
       "       [ True, False,  True],\n",
       "       [False,  True, False]])"
      ]
     },
     "execution_count": 113,
     "metadata": {},
     "output_type": "execute_result"
    }
   ],
   "source": [
    "table[550] <= table[551]"
   ]
  },
  {
   "cell_type": "code",
   "execution_count": 4,
   "id": "0359f1bf",
   "metadata": {},
   "outputs": [],
   "source": [
    "def print_distributions_summary(trump):\n",
    "    print(f\"Перечисление {'бес' if not trump else ''}козырных вариантов...\")\n",
    "    total_suit_sizes=0\n",
    "    total_variants = 0\n",
    "    total_variants_reduced = 0\n",
    "    total_suit_distributions = 0\n",
    "    total_suit_distributions_reduced = 0\n",
    "    for hand_size in range(1, 11):\n",
    "        print(\"hand_size = {}:\".format(hand_size))\n",
    "        deals = get_card_distributions(hand_size, trump=trump, reduce_perms=False)\n",
    "        print(\"  Число вариантов распределения размеров мастей:\", len(deals))\n",
    "        suit_distrs, variants = card_distributions_summary(deals)\n",
    "        print(\"  Число факторных матриц:\", suit_distrs)\n",
    "        reduced_deals = get_card_distributions(hand_size, trump=trump, reduce_perms=True)\n",
    "        suit_distrs_reduced, variants_reduced = card_distributions_summary(reduced_deals)\n",
    "        print(\"  Число факторных матриц после удаления симметрий:\", suit_distrs_reduced)\n",
    "        if variants > 1e6:\n",
    "            print(\"  Число раскладов: {:e}\".format(variants))\n",
    "        else:\n",
    "            print(\"  Число раскладов:\", variants)\n",
    "        total_suit_distributions += suit_distrs\n",
    "        total_variants += variants\n",
    "        total_suit_sizes += len(deals)\n",
    "        \n",
    "        if variants > 1e6:\n",
    "            print(\"  Число раскладов после удаления симметрий: {:e}\".format(variants_reduced))\n",
    "        else:\n",
    "            print(\"  Число раскладов после удаления симметрий:\", variants_reduced)\n",
    "        total_suit_distributions_reduced += suit_distrs_reduced\n",
    "        total_variants_reduced += variants_reduced\n",
    "        print(\"  Среднее число раскладов на одну матрицу: {:.2f}\".format(variants / suit_distrs))\n",
    "        print(\"  Среднее число раскладов на одну матрицу после удаления симметрий: {:.2f}\".format(\n",
    "            variants_reduced / suit_distrs_reduced\n",
    "        ))\n",
    "        print(\"  Экономия: {:.4%}\".format(1 - total_variants_reduced / total_variants))\n",
    "        \n",
    "    print(\"\\nОбщее число раскладов: {:e}\".format(total_variants))\n",
    "    print(\"Общее число вариантов распределения размеров мастей:\", total_suit_sizes)\n",
    "    print(\"Общее число факторных матриц:\", total_suit_distributions)\n",
    "    print(\"Среднее число раскладов на одну матрицу:\", total_variants / total_suit_distributions)\n",
    "\n",
    "    print(\"\\nОбщее число раскладов после удаления симметрий: {:e}\".format(total_variants_reduced))\n",
    "    print(\"Общее число факторных матриц после удаления симметрий:\", total_suit_distributions_reduced)\n",
    "    print(\"Общая экономия: {:.4%}\".format(1. - total_variants_reduced / total_variants))\n",
    "    print(\"Среднее число раскладов на одну матрицу после удаления симметрий: {:.2f}\".format(\n",
    "        total_variants_reduced / total_suit_distributions_reduced\n",
    "    ))"
   ]
  },
  {
   "cell_type": "code",
   "execution_count": 14,
   "id": "2ba82389",
   "metadata": {},
   "outputs": [
    {
     "name": "stdout",
     "output_type": "stream",
     "text": [
      "Перечисление бескозырных вариантов...\n",
      "hand_size = 1:\n",
      "  Число вариантов распределения размеров мастей: 3\n",
      "  Число факторных матриц: 10\n",
      "  Число факторных матриц после удаления симметрий: 5\n",
      "  Число раскладов: 18\n",
      "  Число раскладов после удаления симметрий: 13\n",
      "  Среднее число раскладов на одну матрицу: 1.80\n",
      "  Среднее число раскладов на одну матрицу после удаления симметрий: 2.60\n",
      "  Экономия: 27.7778%\n",
      "hand_size = 2:\n",
      "  Число вариантов распределения размеров мастей: 9\n",
      "  Число факторных матриц: 119\n",
      "  Число факторных матриц после удаления симметрий: 59\n",
      "  Число раскладов: 810\n",
      "  Число раскладов после удаления симметрий: 534\n",
      "  Среднее число раскладов на одну матрицу: 6.81\n",
      "  Среднее число раскладов на одну матрицу после удаления симметрий: 9.05\n",
      "  Экономия: 33.9372%\n",
      "hand_size = 3:\n",
      "  Число вариантов распределения размеров мастей: 17\n",
      "  Число факторных матриц: 719\n",
      "  Число факторных матриц после удаления симметрий: 389\n",
      "  Число раскладов: 28560\n",
      "  Число раскладов после удаления симметрий: 19560\n",
      "  Среднее число раскладов на одну матрицу: 39.72\n",
      "  Среднее число раскладов на одну матрицу после удаления симметрий: 50.28\n",
      "  Экономия: 31.5809%\n",
      "hand_size = 4:\n",
      "  Число вариантов распределения размеров мастей: 27\n",
      "  Число факторных матриц: 3606\n",
      "  Число факторных матриц после удаления симметрий: 1921\n",
      "  Число раскладов: 935550\n",
      "  Число раскладов после удаления симметрий: 609351\n",
      "  Среднее число раскладов на одну матрицу: 259.44\n",
      "  Среднее число раскладов на одну матрицу после удаления симметрий: 317.21\n",
      "  Экономия: 34.7670%\n",
      "hand_size = 5:\n",
      "  Число вариантов распределения размеров мастей: 31\n",
      "  Число факторных матриц: 11474\n",
      "  Число факторных матриц после удаления симметрий: 6806\n",
      "  Число раскладов: 2.345944e+07\n",
      "  Число раскладов после удаления симметрий: 1.587866e+07\n",
      "  Среднее число раскладов на одну матрицу: 2044.57\n",
      "  Среднее число раскладов на одну матрицу после удаления симметрий: 2333.04\n",
      "  Экономия: 32.4113%\n",
      "hand_size = 6:\n",
      "  Число вариантов распределения размеров мастей: 31\n",
      "  Число факторных матриц: 30980\n",
      "  Число факторных матриц после удаления симметрий: 17825\n",
      "  Число раскладов: 5.317472e+08\n",
      "  Число раскладов после удаления симметрий: 3.292586e+08\n",
      "  Среднее число раскладов на одну матрицу: 17164.21\n",
      "  Среднее число раскладов на одну матрицу после удаления симметрий: 18471.73\n",
      "  Экономия: 37.8309%\n",
      "hand_size = 7:\n",
      "  Число вариантов распределения размеров мастей: 23\n",
      "  Число факторных матриц: 57730\n",
      "  Число факторных матриц после удаления симметрий: 33053\n",
      "  Число раскладов: 9.178678e+09\n",
      "  Число раскладов после удаления симметрий: 5.399088e+09\n",
      "  Среднее число раскладов на одну матрицу: 158993.21\n",
      "  Среднее число раскладов на одну матрицу после удаления симметрий: 163346.38\n",
      "  Экономия: 40.9867%\n",
      "hand_size = 8:\n",
      "  Число вариантов распределения размеров мастей: 15\n",
      "  Число факторных матриц: 88684\n",
      "  Число факторных матриц после удаления симметрий: 41650\n",
      "  Число раскладов: 1.419827e+11\n",
      "  Число раскладов после удаления симметрий: 6.513390e+10\n",
      "  Среднее число раскладов на одну матрицу: 1600995.41\n",
      "  Среднее число раскладов на одну матрицу после удаления симметрий: 1563839.21\n",
      "  Экономия: 53.2824%\n",
      "hand_size = 9:\n",
      "  Число вариантов распределения размеров мастей: 6\n",
      "  Число факторных матриц: 78180\n",
      "  Число факторных матриц после удаления симметрий: 31428\n",
      "  Число раскладов: 1.367241e+12\n",
      "  Число раскладов после удаления симметрий: 5.319091e+11\n",
      "  Среднее число раскладов на одну матрицу: 17488367.73\n",
      "  Среднее число раскладов на одну матрицу после удаления симметрий: 16924686.90\n",
      "  Экономия: 60.3157%\n",
      "hand_size = 10:\n",
      "  Число вариантов распределения размеров мастей: 2\n",
      "  Число факторных матриц: 49494\n",
      "  Число факторных матриц после удаления симметрий: 10701\n",
      "  Число раскладов: 1.110199e+13\n",
      "  Число раскладов после удаления симметрий: 2.313743e+12\n",
      "  Среднее число раскладов на одну матрицу: 224309887.72\n",
      "  Среднее число раскладов на одну матрицу после удаления симметрий: 216217481.04\n",
      "  Экономия: 76.8914%\n",
      "\n",
      "Общее число раскладов: 1.262095e+13\n",
      "Общее число вариантов распределения размеров мастей: 164\n",
      "Общее число факторных матриц: 320996\n",
      "Среднее число раскладов на одну матрицу: 39318096.48064151\n",
      "\n",
      "Общее число раскладов после удаления симметрий: 2.916531e+12\n",
      "Общее число факторных матриц после удаления симметрий: 143837\n",
      "Общая экономия: 76.8914%\n",
      "Среднее число раскладов на одну матрицу после удаления симметрий: 20276640.10\n",
      "CPU times: user 47.3 s, sys: 128 ms, total: 47.5 s\n",
      "Wall time: 47.4 s\n"
     ]
    }
   ],
   "source": [
    "%%time\n",
    "print_distributions_summary(False)"
   ]
  },
  {
   "cell_type": "code",
   "execution_count": 15,
   "id": "c2cd4e18",
   "metadata": {
    "scrolled": false
   },
   "outputs": [
    {
     "name": "stdout",
     "output_type": "stream",
     "text": [
      "Перечисление козырных вариантов...\n",
      "hand_size = 1:\n",
      "  Число вариантов распределения размеров мастей: 4\n",
      "  Число факторных матриц: 13\n",
      "  Число факторных матриц после удаления симметрий: 10\n",
      "  Число раскладов: 24\n",
      "  Число раскладов после удаления симметрий: 21\n",
      "  Среднее число раскладов на одну матрицу: 1.85\n",
      "  Среднее число раскладов на одну матрицу после удаления симметрий: 2.10\n",
      "  Экономия: 12.5000%\n",
      "hand_size = 2:\n",
      "  Число вариантов распределения размеров мастей: 16\n",
      "  Число факторных матриц: 224\n",
      "  Число факторных матриц после удаления симметрий: 159\n",
      "  Число раскладов: 1440\n",
      "  Число раскладов после удаления симметрий: 1182\n",
      "  Среднее число раскладов на одну матрицу: 6.43\n",
      "  Среднее число раскладов на одну матрицу после удаления симметрий: 7.43\n",
      "  Экономия: 17.8279%\n",
      "hand_size = 3:\n",
      "  Число вариантов распределения размеров мастей: 40\n",
      "  Число факторных матриц: 1785\n",
      "  Число факторных матриц после удаления симметрий: 1272\n",
      "  Число раскладов: 67200\n",
      "  Число раскладов после удаления симметрий: 54486\n",
      "  Среднее число раскладов на одну матрицу: 37.65\n",
      "  Среднее число раскладов на одну матрицу после удаления симметрий: 42.83\n",
      "  Экономия: 18.8964%\n",
      "hand_size = 4:\n",
      "  Число вариантов распределения размеров мастей: 69\n",
      "  Число факторных матриц: 9199\n",
      "  Число факторных матриц после удаления симметрий: 6801\n",
      "  Число раскладов: 2.390850e+06\n",
      "  Число раскладов после удаления симметрий: 1.947030e+06\n",
      "  Среднее число раскладов на одну матрицу: 259.90\n",
      "  Среднее число раскладов на одну матрицу после удаления симметрий: 286.29\n",
      "  Экономия: 18.5726%\n",
      "hand_size = 5:\n",
      "  Число вариантов распределения размеров мастей: 90\n",
      "  Число факторных матриц: 33787\n",
      "  Число факторных матриц после удаления симметрий: 25509\n",
      "  Число раскладов: 6.810804e+07\n",
      "  Число раскладов после удаления симметрий: 5.546477e+07\n",
      "  Среднее число раскладов на одну матрицу: 2015.81\n",
      "  Среднее число раскладов на одну матрицу после удаления симметрий: 2174.32\n",
      "  Экономия: 18.5639%\n",
      "hand_size = 6:\n",
      "  Число вариантов распределения размеров мастей: 90\n",
      "  Число факторных матриц: 90417\n",
      "  Число факторных матриц после удаления симметрий: 68760\n",
      "  Число раскладов: 1.543782e+09\n",
      "  Число раскладов после удаления симметрий: 1.230253e+09\n",
      "  Среднее число раскладов на одну матрицу: 17074.03\n",
      "  Среднее число раскладов на одну матрицу после удаления симметрий: 17891.99\n",
      "  Экономия: 20.2329%\n",
      "hand_size = 7:\n",
      "  Число вариантов распределения размеров мастей: 69\n",
      "  Число факторных матриц: 175547\n",
      "  Число факторных матриц после удаления симметрий: 129969\n",
      "  Число раскладов: 2.753603e+10\n",
      "  Число раскладов после удаления симметрий: 2.090795e+10\n",
      "  Среднее число раскладов на одну матрицу: 156858.47\n",
      "  Среднее число раскладов на одну матрицу после удаления симметрий: 160868.77\n",
      "  Экономия: 23.8580%\n",
      "hand_size = 8:\n",
      "  Число вариантов распределения размеров мастей: 40\n",
      "  Число факторных матриц: 239596\n",
      "  Число факторных матриц после удаления симметрий: 164893\n",
      "  Число раскладов: 3.786205e+11\n",
      "  Число раскладов после удаления симметрий: 2.588405e+11\n",
      "  Среднее число раскладов на одну матрицу: 1580245.37\n",
      "  Среднее число раскладов на одну матрицу после удаления симметрий: 1569748.51\n",
      "  Экономия: 31.0799%\n",
      "hand_size = 9:\n",
      "  Число вариантов распределения размеров мастей: 16\n",
      "  Число факторных матриц: 209835\n",
      "  Число факторных матриц после удаления симметрий: 124563\n",
      "  Число раскладов: 3.645975e+12\n",
      "  Число раскладов после удаления симметрий: 2.127227e+12\n",
      "  Среднее число раскладов на одну матрицу: 17375437.39\n",
      "  Среднее число раскладов на одну матрицу после удаления симметрий: 17077522.72\n",
      "  Экономия: 40.5916%\n",
      "hand_size = 10:\n",
      "  Число вариантов распределения размеров мастей: 4\n",
      "  Число факторных матриц: 98988\n",
      "  Число факторных матриц после удаления симметрий: 42084\n",
      "  Число раскладов: 2.220399e+13\n",
      "  Число раскладов после удаления симметрий: 9.253317e+12\n",
      "  Среднее число раскладов на одну матрицу: 224309887.72\n",
      "  Среднее число раскладов на одну матрицу после удаления симметрий: 219877311.89\n",
      "  Экономия: 55.5880%\n",
      "\n",
      "Общее число раскладов: 2.625773e+13\n",
      "Общее число вариантов распределения размеров мастей: 438\n",
      "Общее число факторных матриц: 859391\n",
      "Среднее число раскладов на одну матрицу: 30553883.999476373\n",
      "\n",
      "Общее число раскладов после удаления симметрий: 1.166158e+13\n",
      "Общее число факторных матриц после удаления симметрий: 564020\n",
      "Общая экономия: 55.5880%\n",
      "Среднее число раскладов на одну матрицу после удаления симметрий: 20675827.93\n",
      "CPU times: user 2min 42s, sys: 528 ms, total: 2min 42s\n",
      "Wall time: 2min 42s\n"
     ]
    }
   ],
   "source": [
    "%%time\n",
    "print_distributions_summary(True)"
   ]
  },
  {
   "cell_type": "code",
   "execution_count": 31,
   "id": "1373032d",
   "metadata": {},
   "outputs": [],
   "source": [
    "def plot_card_distributions(hand_size, trump, reduce=True):\n",
    "    values = []\n",
    "    deals = get_card_distributions(hand_size, trump=trump, reduce_perms=reduce)\n",
    "    for _, table_map in deals.items():\n",
    "        for table, count in table_map.items():\n",
    "            values.append(count)\n",
    "    plt.figure(figsize=(14, 7))\n",
    "    values = np.array(values)\n",
    "    print(len(values))\n",
    "    plt.hist(values, bins=100, log=True, histtype='stepfilled', color='r', edgecolor='b', lw=2)\n",
    "    eps = values.max() * 0.01\n",
    "    plt.xlim(-eps, values.max() + eps)"
   ]
  },
  {
   "cell_type": "code",
   "execution_count": 32,
   "id": "4c00e173",
   "metadata": {},
   "outputs": [
    {
     "name": "stdout",
     "output_type": "stream",
     "text": [
      "25509\n"
     ]
    },
    {
     "data": {
      "image/png": "[encoded data removed]",
      "text/plain": [
       "<Figure size 1008x504 with 1 Axes>"
      ]
     },
     "metadata": {
      "needs_background": "light"
     },
     "output_type": "display_data"
    }
   ],
   "source": [
    "plot_card_distributions(5, True, True)"
   ]
  },
  {
   "cell_type": "code",
   "execution_count": 5,
   "id": "5399fc8b",
   "metadata": {},
   "outputs": [
    {
     "name": "stdout",
     "output_type": "stream",
     "text": [
      "17825\n"
     ]
    },
    {
     "data": {
      "image/png": "[encoded data removed]",
      "text/plain": [
       "<Figure size 1008x504 with 1 Axes>"
      ]
     },
     "metadata": {
      "needs_background": "light"
     },
     "output_type": "display_data"
    }
   ],
   "source": [
    "plot_card_distributions(6, False)"
   ]
  },
  {
   "cell_type": "code",
   "execution_count": 6,
   "id": "13321afa",
   "metadata": {},
   "outputs": [
    {
     "name": "stdout",
     "output_type": "stream",
     "text": [
      "129969\n"
     ]
    },
    {
     "data": {
      "image/png": "[encoded data removed]",
      "text/plain": [
       "<Figure size 1008x504 with 1 Axes>"
      ]
     },
     "metadata": {
      "needs_background": "light"
     },
     "output_type": "display_data"
    }
   ],
   "source": [
    "plot_card_distributions(7, True)"
   ]
  },
  {
   "cell_type": "code",
   "execution_count": 35,
   "id": "ca3e47d8",
   "metadata": {},
   "outputs": [
    {
     "name": "stdout",
     "output_type": "stream",
     "text": [
      "31428\n"
     ]
    },
    {
     "data": {
      "image/png": "[encoded data removed]",
      "text/plain": [
       "<Figure size 1008x504 with 1 Axes>"
      ]
     },
     "metadata": {
      "needs_background": "light"
     },
     "output_type": "display_data"
    }
   ],
   "source": [
    "plot_card_distributions(9, False)"
   ]
  },
  {
   "cell_type": "code",
   "execution_count": 36,
   "id": "e8b21cf7",
   "metadata": {},
   "outputs": [
    {
     "name": "stdout",
     "output_type": "stream",
     "text": [
      "124563\n"
     ]
    },
    {
     "data": {
      "image/png": "[encoded data removed]",
      "text/plain": [
       "<Figure size 1008x504 with 1 Axes>"
      ]
     },
     "metadata": {
      "needs_background": "light"
     },
     "output_type": "display_data"
    }
   ],
   "source": [
    "plot_card_distributions(9, True)"
   ]
  },
  {
   "cell_type": "code",
   "execution_count": 33,
   "id": "1b6414b3",
   "metadata": {},
   "outputs": [
    {
     "name": "stdout",
     "output_type": "stream",
     "text": [
      "10701\n"
     ]
    },
    {
     "data": {
      "image/png": "[encoded data removed]",
      "text/plain": [
       "<Figure size 1008x504 with 1 Axes>"
      ]
     },
     "metadata": {
      "needs_background": "light"
     },
     "output_type": "display_data"
    }
   ],
   "source": [
    "plot_card_distributions(10, False)"
   ]
  },
  {
   "cell_type": "code",
   "execution_count": 34,
   "id": "0ec5b967",
   "metadata": {},
   "outputs": [
    {
     "name": "stdout",
     "output_type": "stream",
     "text": [
      "42084\n"
     ]
    },
    {
     "data": {
      "image/png": "[encoded data removed]",
      "text/plain": [
       "<Figure size 1008x504 with 1 Axes>"
      ]
     },
     "metadata": {
      "needs_background": "light"
     },
     "output_type": "display_data"
    }
   ],
   "source": [
    "plot_card_distributions(10, True)"
   ]
  },
  {
   "cell_type": "code",
   "execution_count": 14,
   "id": "06d82b61",
   "metadata": {},
   "outputs": [
    {
     "name": "stdout",
     "output_type": "stream",
     "text": [
      "hand_size = 1\n",
      "  no trump\n",
      "    [0 1 1 1]\n",
      "    [0 0 1 2]\n",
      "    [0 0 0 3]\n",
      "  trump\n",
      "    [3 0 0 0]\n",
      "    [2 0 0 1]\n",
      "    [1 0 1 1]\n",
      "    [1 0 0 2]\n",
      "hand_size = 2\n",
      "  no trump\n",
      "    [1 1 2 2]\n",
      "    [0 2 2 2]\n",
      "    [1 1 1 3]\n",
      "    [0 1 2 3]\n",
      "    [0 0 3 3]\n",
      "    [0 1 1 4]\n",
      "    [0 0 2 4]\n",
      "    [0 0 1 5]\n",
      "    [0 0 0 6]\n",
      "  trump\n",
      "    [6 0 0 0]\n",
      "    [5 0 0 1]\n",
      "    [4 0 1 1]\n",
      "    [3 1 1 1]\n",
      "    [4 0 0 2]\n",
      "    [3 0 1 2]\n",
      "    [2 1 1 2]\n",
      "    [2 0 2 2]\n",
      "    [1 1 2 2]\n",
      "    [3 0 0 3]\n",
      "    [2 0 1 3]\n",
      "    [1 1 1 3]\n",
      "    [1 0 2 3]\n",
      "    [2 0 0 4]\n",
      "    [1 0 1 4]\n",
      "    [1 0 0 5]\n",
      "hand_size = 3\n",
      "  no trump\n",
      "    [2 2 2 3]\n",
      "    [1 2 3 3]\n",
      "    [0 3 3 3]\n",
      "    [1 2 2 4]\n",
      "    [1 1 3 4]\n",
      "    [0 2 3 4]\n",
      "    [0 1 4 4]\n",
      "    [1 1 2 5]\n",
      "    [0 2 2 5]\n",
      "    [0 1 3 5]\n",
      "    [0 0 4 5]\n",
      "    [1 1 1 6]\n",
      "    [0 1 2 6]\n",
      "    [0 0 3 6]\n",
      "    [0 1 1 7]\n",
      "    [0 0 2 7]\n",
      "    [0 0 1 8]\n",
      "  trump\n",
      "    [8 0 0 1]\n",
      "    [7 0 1 1]\n",
      "    [6 1 1 1]\n",
      "    [7 0 0 2]\n",
      "    [6 0 1 2]\n",
      "    [5 1 1 2]\n",
      "    [5 0 2 2]\n",
      "    [4 1 2 2]\n",
      "    [3 2 2 2]\n",
      "    [6 0 0 3]\n",
      "    [5 0 1 3]\n",
      "    [4 1 1 3]\n",
      "    [4 0 2 3]\n",
      "    [3 1 2 3]\n",
      "    [2 2 2 3]\n",
      "    [3 0 3 3]\n",
      "    [2 1 3 3]\n",
      "    [1 2 3 3]\n",
      "    [5 0 0 4]\n",
      "    [4 0 1 4]\n",
      "    [3 1 1 4]\n",
      "    [3 0 2 4]\n",
      "    [2 1 2 4]\n",
      "    [1 2 2 4]\n",
      "    [2 0 3 4]\n",
      "    [1 1 3 4]\n",
      "    [1 0 4 4]\n",
      "    [4 0 0 5]\n",
      "    [3 0 1 5]\n",
      "    [2 1 1 5]\n",
      "    [2 0 2 5]\n",
      "    [1 1 2 5]\n",
      "    [1 0 3 5]\n",
      "    [3 0 0 6]\n",
      "    [2 0 1 6]\n",
      "    [1 1 1 6]\n",
      "    [1 0 2 6]\n",
      "    [2 0 0 7]\n",
      "    [1 0 1 7]\n",
      "    [1 0 0 8]\n",
      "hand_size = 4\n",
      "  no trump\n",
      "    [3 3 3 3]\n",
      "    [2 3 3 4]\n",
      "    [2 2 4 4]\n",
      "    [1 3 4 4]\n",
      "    [0 4 4 4]\n",
      "    [2 2 3 5]\n",
      "    [1 3 3 5]\n",
      "    [1 2 4 5]\n",
      "    [0 3 4 5]\n",
      "    [1 1 5 5]\n",
      "    [0 2 5 5]\n",
      "    [2 2 2 6]\n",
      "    [1 2 3 6]\n",
      "    [0 3 3 6]\n",
      "    [1 1 4 6]\n",
      "    [0 2 4 6]\n",
      "    [0 1 5 6]\n",
      "    [0 0 6 6]\n",
      "    [1 2 2 7]\n",
      "    [1 1 3 7]\n",
      "    [0 2 3 7]\n",
      "    [0 1 4 7]\n",
      "    [0 0 5 7]\n",
      "    [1 1 2 8]\n",
      "    [0 2 2 8]\n",
      "    [0 1 3 8]\n",
      "    [0 0 4 8]\n",
      "  trump\n",
      "    [8 1 1 2]\n",
      "    [8 0 2 2]\n",
      "    [7 1 2 2]\n",
      "    [6 2 2 2]\n",
      "    [8 0 1 3]\n",
      "    [7 1 1 3]\n",
      "    [7 0 2 3]\n",
      "    [6 1 2 3]\n",
      "    [5 2 2 3]\n",
      "    [6 0 3 3]\n",
      "    [5 1 3 3]\n",
      "    [4 2 3 3]\n",
      "    [3 3 3 3]\n",
      "    [8 0 0 4]\n",
      "    [7 0 1 4]\n",
      "    [6 1 1 4]\n",
      "    [6 0 2 4]\n",
      "    [5 1 2 4]\n",
      "    [4 2 2 4]\n",
      "    [5 0 3 4]\n",
      "    [4 1 3 4]\n",
      "    [3 2 3 4]\n",
      "    [2 3 3 4]\n",
      "    [4 0 4 4]\n",
      "    [3 1 4 4]\n",
      "    [2 2 4 4]\n",
      "    [1 3 4 4]\n",
      "    [7 0 0 5]\n",
      "    [6 0 1 5]\n",
      "    [5 1 1 5]\n",
      "    [5 0 2 5]\n",
      "    [4 1 2 5]\n",
      "    [3 2 2 5]\n",
      "    [4 0 3 5]\n",
      "    [3 1 3 5]\n",
      "    [2 2 3 5]\n",
      "    [1 3 3 5]\n",
      "    [3 0 4 5]\n",
      "    [2 1 4 5]\n",
      "    [1 2 4 5]\n",
      "    [2 0 5 5]\n",
      "    [1 1 5 5]\n",
      "    [6 0 0 6]\n",
      "    [5 0 1 6]\n",
      "    [4 1 1 6]\n",
      "    [4 0 2 6]\n",
      "    [3 1 2 6]\n",
      "    [2 2 2 6]\n",
      "    [3 0 3 6]\n",
      "    [2 1 3 6]\n",
      "    [1 2 3 6]\n",
      "    [2 0 4 6]\n",
      "    [1 1 4 6]\n",
      "    [1 0 5 6]\n",
      "    [5 0 0 7]\n",
      "    [4 0 1 7]\n",
      "    [3 1 1 7]\n",
      "    [3 0 2 7]\n",
      "    [2 1 2 7]\n",
      "    [1 2 2 7]\n",
      "    [2 0 3 7]\n",
      "    [1 1 3 7]\n",
      "    [1 0 4 7]\n",
      "    [4 0 0 8]\n",
      "    [3 0 1 8]\n",
      "    [2 1 1 8]\n",
      "    [2 0 2 8]\n",
      "    [1 1 2 8]\n",
      "    [1 0 3 8]\n",
      "hand_size = 5\n",
      "  no trump\n",
      "    [3 4 4 4]\n",
      "    [3 3 4 5]\n",
      "    [2 4 4 5]\n",
      "    [2 3 5 5]\n",
      "    [1 4 5 5]\n",
      "    [0 5 5 5]\n",
      "    [3 3 3 6]\n",
      "    [2 3 4 6]\n",
      "    [1 4 4 6]\n",
      "    [2 2 5 6]\n",
      "    [1 3 5 6]\n",
      "    [0 4 5 6]\n",
      "    [1 2 6 6]\n",
      "    [0 3 6 6]\n",
      "    [2 3 3 7]\n",
      "    [2 2 4 7]\n",
      "    [1 3 4 7]\n",
      "    [0 4 4 7]\n",
      "    [1 2 5 7]\n",
      "    [0 3 5 7]\n",
      "    [1 1 6 7]\n",
      "    [0 2 6 7]\n",
      "    [0 1 7 7]\n",
      "    [2 2 3 8]\n",
      "    [1 3 3 8]\n",
      "    [1 2 4 8]\n",
      "    [0 3 4 8]\n",
      "    [1 1 5 8]\n",
      "    [0 2 5 8]\n",
      "    [0 1 6 8]\n",
      "    [0 0 7 8]\n",
      "  trump\n",
      "    [8 2 2 3]\n",
      "    [8 1 3 3]\n",
      "    [7 2 3 3]\n",
      "    [6 3 3 3]\n",
      "    [8 1 2 4]\n",
      "    [7 2 2 4]\n",
      "    [8 0 3 4]\n",
      "    [7 1 3 4]\n",
      "    [6 2 3 4]\n",
      "    [5 3 3 4]\n",
      "    [7 0 4 4]\n",
      "    [6 1 4 4]\n",
      "    [5 2 4 4]\n",
      "    [4 3 4 4]\n",
      "    [3 4 4 4]\n",
      "    [8 1 1 5]\n",
      "    [8 0 2 5]\n",
      "    [7 1 2 5]\n",
      "    [6 2 2 5]\n",
      "    [7 0 3 5]\n",
      "    [6 1 3 5]\n",
      "    [5 2 3 5]\n",
      "    [4 3 3 5]\n",
      "    [6 0 4 5]\n",
      "    [5 1 4 5]\n",
      "    [4 2 4 5]\n",
      "    [3 3 4 5]\n",
      "    [2 4 4 5]\n",
      "    [5 0 5 5]\n",
      "    [4 1 5 5]\n",
      "    [3 2 5 5]\n",
      "    [2 3 5 5]\n",
      "    [1 4 5 5]\n",
      "    [8 0 1 6]\n",
      "    [7 1 1 6]\n",
      "    [7 0 2 6]\n",
      "    [6 1 2 6]\n",
      "    [5 2 2 6]\n",
      "    [6 0 3 6]\n",
      "    [5 1 3 6]\n",
      "    [4 2 3 6]\n",
      "    [3 3 3 6]\n",
      "    [5 0 4 6]\n",
      "    [4 1 4 6]\n",
      "    [3 2 4 6]\n",
      "    [2 3 4 6]\n",
      "    [1 4 4 6]\n",
      "    [4 0 5 6]\n",
      "    [3 1 5 6]\n",
      "    [2 2 5 6]\n",
      "    [1 3 5 6]\n",
      "    [3 0 6 6]\n",
      "    [2 1 6 6]\n",
      "    [1 2 6 6]\n",
      "    [8 0 0 7]\n",
      "    [7 0 1 7]\n",
      "    [6 1 1 7]\n",
      "    [6 0 2 7]\n",
      "    [5 1 2 7]\n",
      "    [4 2 2 7]\n",
      "    [5 0 3 7]\n",
      "    [4 1 3 7]\n",
      "    [3 2 3 7]\n",
      "    [2 3 3 7]\n",
      "    [4 0 4 7]\n",
      "    [3 1 4 7]\n",
      "    [2 2 4 7]\n",
      "    [1 3 4 7]\n",
      "    [3 0 5 7]\n",
      "    [2 1 5 7]\n",
      "    [1 2 5 7]\n",
      "    [2 0 6 7]\n",
      "    [1 1 6 7]\n",
      "    [1 0 7 7]\n",
      "    [7 0 0 8]\n",
      "    [6 0 1 8]\n",
      "    [5 1 1 8]\n",
      "    [5 0 2 8]\n",
      "    [4 1 2 8]\n",
      "    [3 2 2 8]\n",
      "    [4 0 3 8]\n",
      "    [3 1 3 8]\n",
      "    [2 2 3 8]\n",
      "    [1 3 3 8]\n",
      "    [3 0 4 8]\n",
      "    [2 1 4 8]\n",
      "    [1 2 4 8]\n",
      "    [2 0 5 8]\n",
      "    [1 1 5 8]\n",
      "    [1 0 6 8]\n",
      "hand_size = 6\n",
      "  no trump\n",
      "    [4 4 5 5]\n",
      "    [3 5 5 5]\n",
      "    [4 4 4 6]\n",
      "    [3 4 5 6]\n",
      "    [2 5 5 6]\n",
      "    [3 3 6 6]\n",
      "    [2 4 6 6]\n",
      "    [1 5 6 6]\n",
      "    [0 6 6 6]\n",
      "    [3 4 4 7]\n",
      "    [3 3 5 7]\n",
      "    [2 4 5 7]\n",
      "    [1 5 5 7]\n",
      "    [2 3 6 7]\n",
      "    [1 4 6 7]\n",
      "    [0 5 6 7]\n",
      "    [2 2 7 7]\n",
      "    [1 3 7 7]\n",
      "    [0 4 7 7]\n",
      "    [3 3 4 8]\n",
      "    [2 4 4 8]\n",
      "    [2 3 5 8]\n",
      "    [1 4 5 8]\n",
      "    [0 5 5 8]\n",
      "    [2 2 6 8]\n",
      "    [1 3 6 8]\n",
      "    [0 4 6 8]\n",
      "    [1 2 7 8]\n",
      "    [0 3 7 8]\n",
      "    [1 1 8 8]\n",
      "    [0 2 8 8]\n",
      "  trump\n",
      "    [8 3 3 4]\n",
      "    [8 2 4 4]\n",
      "    [7 3 4 4]\n",
      "    [6 4 4 4]\n",
      "    [8 2 3 5]\n",
      "    [7 3 3 5]\n",
      "    [8 1 4 5]\n",
      "    [7 2 4 5]\n",
      "    [6 3 4 5]\n",
      "    [5 4 4 5]\n",
      "    [8 0 5 5]\n",
      "    [7 1 5 5]\n",
      "    [6 2 5 5]\n",
      "    [5 3 5 5]\n",
      "    [4 4 5 5]\n",
      "    [3 5 5 5]\n",
      "    [8 2 2 6]\n",
      "    [8 1 3 6]\n",
      "    [7 2 3 6]\n",
      "    [6 3 3 6]\n",
      "    [8 0 4 6]\n",
      "    [7 1 4 6]\n",
      "    [6 2 4 6]\n",
      "    [5 3 4 6]\n",
      "    [4 4 4 6]\n",
      "    [7 0 5 6]\n",
      "    [6 1 5 6]\n",
      "    [5 2 5 6]\n",
      "    [4 3 5 6]\n",
      "    [3 4 5 6]\n",
      "    [2 5 5 6]\n",
      "    [6 0 6 6]\n",
      "    [5 1 6 6]\n",
      "    [4 2 6 6]\n",
      "    [3 3 6 6]\n",
      "    [2 4 6 6]\n",
      "    [1 5 6 6]\n",
      "    [8 1 2 7]\n",
      "    [7 2 2 7]\n",
      "    [8 0 3 7]\n",
      "    [7 1 3 7]\n",
      "    [6 2 3 7]\n",
      "    [5 3 3 7]\n",
      "    [7 0 4 7]\n",
      "    [6 1 4 7]\n",
      "    [5 2 4 7]\n",
      "    [4 3 4 7]\n",
      "    [3 4 4 7]\n",
      "    [6 0 5 7]\n",
      "    [5 1 5 7]\n",
      "    [4 2 5 7]\n",
      "    [3 3 5 7]\n",
      "    [2 4 5 7]\n",
      "    [1 5 5 7]\n",
      "    [5 0 6 7]\n",
      "    [4 1 6 7]\n",
      "    [3 2 6 7]\n",
      "    [2 3 6 7]\n",
      "    [1 4 6 7]\n",
      "    [4 0 7 7]\n",
      "    [3 1 7 7]\n",
      "    [2 2 7 7]\n",
      "    [1 3 7 7]\n",
      "    [8 1 1 8]\n",
      "    [8 0 2 8]\n",
      "    [7 1 2 8]\n",
      "    [6 2 2 8]\n",
      "    [7 0 3 8]\n",
      "    [6 1 3 8]\n",
      "    [5 2 3 8]\n",
      "    [4 3 3 8]\n",
      "    [6 0 4 8]\n",
      "    [5 1 4 8]\n",
      "    [4 2 4 8]\n",
      "    [3 3 4 8]\n",
      "    [2 4 4 8]\n",
      "    [5 0 5 8]\n",
      "    [4 1 5 8]\n",
      "    [3 2 5 8]\n",
      "    [2 3 5 8]\n",
      "    [1 4 5 8]\n",
      "    [4 0 6 8]\n",
      "    [3 1 6 8]\n",
      "    [2 2 6 8]\n",
      "    [1 3 6 8]\n",
      "    [3 0 7 8]\n",
      "    [2 1 7 8]\n",
      "    [1 2 7 8]\n",
      "    [2 0 8 8]\n",
      "    [1 1 8 8]\n",
      "hand_size = 7\n",
      "  no trump\n",
      "    [5 5 5 6]\n",
      "    [4 5 6 6]\n",
      "    [3 6 6 6]\n",
      "    [4 5 5 7]\n",
      "    [4 4 6 7]\n",
      "    [3 5 6 7]\n",
      "    [2 6 6 7]\n",
      "    [3 4 7 7]\n",
      "    [2 5 7 7]\n",
      "    [1 6 7 7]\n",
      "    [0 7 7 7]\n",
      "    [4 4 5 8]\n",
      "    [3 5 5 8]\n",
      "    [3 4 6 8]\n",
      "    [2 5 6 8]\n",
      "    [1 6 6 8]\n",
      "    [3 3 7 8]\n",
      "    [2 4 7 8]\n",
      "    [1 5 7 8]\n",
      "    [0 6 7 8]\n",
      "    [2 3 8 8]\n",
      "    [1 4 8 8]\n",
      "    [0 5 8 8]\n",
      "  trump\n",
      "    [8 4 4 5]\n",
      "    [8 3 5 5]\n",
      "    [7 4 5 5]\n",
      "    [6 5 5 5]\n",
      "    [8 3 4 6]\n",
      "    [7 4 4 6]\n",
      "    [8 2 5 6]\n",
      "    [7 3 5 6]\n",
      "    [6 4 5 6]\n",
      "    [5 5 5 6]\n",
      "    [8 1 6 6]\n",
      "    [7 2 6 6]\n",
      "    [6 3 6 6]\n",
      "    [5 4 6 6]\n",
      "    [4 5 6 6]\n",
      "    [3 6 6 6]\n",
      "    [8 3 3 7]\n",
      "    [8 2 4 7]\n",
      "    [7 3 4 7]\n",
      "    [6 4 4 7]\n",
      "    [8 1 5 7]\n",
      "    [7 2 5 7]\n",
      "    [6 3 5 7]\n",
      "    [5 4 5 7]\n",
      "    [4 5 5 7]\n",
      "    [8 0 6 7]\n",
      "    [7 1 6 7]\n",
      "    [6 2 6 7]\n",
      "    [5 3 6 7]\n",
      "    [4 4 6 7]\n",
      "    [3 5 6 7]\n",
      "    [2 6 6 7]\n",
      "    [7 0 7 7]\n",
      "    [6 1 7 7]\n",
      "    [5 2 7 7]\n",
      "    [4 3 7 7]\n",
      "    [3 4 7 7]\n",
      "    [2 5 7 7]\n",
      "    [1 6 7 7]\n",
      "    [8 2 3 8]\n",
      "    [7 3 3 8]\n",
      "    [8 1 4 8]\n",
      "    [7 2 4 8]\n",
      "    [6 3 4 8]\n",
      "    [5 4 4 8]\n",
      "    [8 0 5 8]\n",
      "    [7 1 5 8]\n",
      "    [6 2 5 8]\n",
      "    [5 3 5 8]\n",
      "    [4 4 5 8]\n",
      "    [3 5 5 8]\n",
      "    [7 0 6 8]\n",
      "    [6 1 6 8]\n",
      "    [5 2 6 8]\n",
      "    [4 3 6 8]\n",
      "    [3 4 6 8]\n",
      "    [2 5 6 8]\n",
      "    [1 6 6 8]\n",
      "    [6 0 7 8]\n",
      "    [5 1 7 8]\n",
      "    [4 2 7 8]\n",
      "    [3 3 7 8]\n",
      "    [2 4 7 8]\n",
      "    [1 5 7 8]\n",
      "    [5 0 8 8]\n",
      "    [4 1 8 8]\n",
      "    [3 2 8 8]\n",
      "    [2 3 8 8]\n",
      "    [1 4 8 8]\n",
      "hand_size = 8\n",
      "  no trump\n",
      "    [6 6 6 6]\n",
      "    [5 6 6 7]\n",
      "    [5 5 7 7]\n",
      "    [4 6 7 7]\n",
      "    [3 7 7 7]\n",
      "    [5 5 6 8]\n",
      "    [4 6 6 8]\n",
      "    [4 5 7 8]\n",
      "    [3 6 7 8]\n",
      "    [2 7 7 8]\n",
      "    [4 4 8 8]\n",
      "    [3 5 8 8]\n",
      "    [2 6 8 8]\n",
      "    [1 7 8 8]\n",
      "    [0 8 8 8]\n",
      "  trump\n",
      "    [8 5 5 6]\n",
      "    [8 4 6 6]\n",
      "    [7 5 6 6]\n",
      "    [6 6 6 6]\n",
      "    [8 4 5 7]\n",
      "    [7 5 5 7]\n",
      "    [8 3 6 7]\n",
      "    [7 4 6 7]\n",
      "    [6 5 6 7]\n",
      "    [5 6 6 7]\n",
      "    [8 2 7 7]\n",
      "    [7 3 7 7]\n",
      "    [6 4 7 7]\n",
      "    [5 5 7 7]\n",
      "    [4 6 7 7]\n",
      "    [3 7 7 7]\n",
      "    [8 4 4 8]\n",
      "    [8 3 5 8]\n",
      "    [7 4 5 8]\n",
      "    [6 5 5 8]\n",
      "    [8 2 6 8]\n",
      "    [7 3 6 8]\n",
      "    [6 4 6 8]\n",
      "    [5 5 6 8]\n",
      "    [4 6 6 8]\n",
      "    [8 1 7 8]\n",
      "    [7 2 7 8]\n",
      "    [6 3 7 8]\n",
      "    [5 4 7 8]\n",
      "    [4 5 7 8]\n",
      "    [3 6 7 8]\n",
      "    [2 7 7 8]\n",
      "    [8 0 8 8]\n",
      "    [7 1 8 8]\n",
      "    [6 2 8 8]\n",
      "    [5 3 8 8]\n",
      "    [4 4 8 8]\n",
      "    [3 5 8 8]\n",
      "    [2 6 8 8]\n",
      "    [1 7 8 8]\n",
      "hand_size = 9\n",
      "  no trump\n",
      "    [6 7 7 7]\n",
      "    [6 6 7 8]\n",
      "    [5 7 7 8]\n",
      "    [5 6 8 8]\n",
      "    [4 7 8 8]\n",
      "    [3 8 8 8]\n",
      "  trump\n",
      "    [8 6 6 7]\n",
      "    [8 5 7 7]\n",
      "    [7 6 7 7]\n",
      "    [6 7 7 7]\n",
      "    [8 5 6 8]\n",
      "    [7 6 6 8]\n",
      "    [8 4 7 8]\n",
      "    [7 5 7 8]\n",
      "    [6 6 7 8]\n",
      "    [5 7 7 8]\n",
      "    [8 3 8 8]\n",
      "    [7 4 8 8]\n",
      "    [6 5 8 8]\n",
      "    [5 6 8 8]\n",
      "    [4 7 8 8]\n",
      "    [3 8 8 8]\n",
      "hand_size = 10\n",
      "  no trump\n",
      "    [7 7 8 8]\n",
      "    [6 8 8 8]\n",
      "  trump\n",
      "    [8 7 7 8]\n",
      "    [8 6 8 8]\n",
      "    [7 7 8 8]\n",
      "    [6 8 8 8]\n",
      "438 164\n"
     ]
    }
   ],
   "source": [
    "trump_total = 0\n",
    "no_trump_total = 0\n",
    "for hand_size in range(1, 11):\n",
    "    print(\"hand_size =\", hand_size)\n",
    "    for trump in [False, True]:\n",
    "        print((\"  \" if trump else \"  no \") + \"trump\")\n",
    "        for suit_sizes in generate_suit_size_distributions(3*[hand_size], trump_idx=0 if trump else None):\n",
    "            print(f\"    {suit_sizes}\")\n",
    "            if trump:\n",
    "                trump_total += 1\n",
    "            else:\n",
    "                no_trump_total += 1\n",
    "print(trump_total, no_trump_total)"
   ]
  },
  {
   "cell_type": "code",
   "execution_count": 7,
   "id": "19b22d36",
   "metadata": {},
   "outputs": [
    {
     "name": "stderr",
     "output_type": "stream",
     "text": [
      "248358it [00:05, 49106.30it/s]"
     ]
    },
    {
     "name": "stdout",
     "output_type": "stream",
     "text": [
      "248358\n"
     ]
    },
    {
     "name": "stderr",
     "output_type": "stream",
     "text": [
      "\n"
     ]
    }
   ],
   "source": [
    "from tqdm import tqdm\n",
    "\n",
    "c = 0\n",
    "for matrix in tqdm(contingency_table([8, 8, 8, 8], [10, 10, 10, 2])):\n",
    "    c += 1\n",
    "print(c)"
   ]
  }
 ],
 "metadata": {
  "kernelspec": {
   "display_name": "Python 3 (ipykernel)",
   "language": "python",
   "name": "python3"
  },
  "language_info": {
   "codemirror_mode": {
    "name": "ipython",
    "version": 3
   },
   "file_extension": ".py",
   "mimetype": "text/x-python",
   "name": "python",
   "nbconvert_exporter": "python",
   "pygments_lexer": "ipython3",
   "version": "3.10.4"
  }
 },
 "nbformat": 4,
 "nbformat_minor": 5
}
