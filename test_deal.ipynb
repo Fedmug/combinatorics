{
 "cells": [
  {
   "cell_type": "code",
   "execution_count": 1,
   "id": "5779c5fe",
   "metadata": {},
   "outputs": [],
   "source": [
    "from pref_deal import *\n",
    "from multiperms import multiperm2index\n",
    "import numpy as np\n",
    "import pandas as pd\n",
    "import re"
   ]
  },
  {
   "cell_type": "markdown",
   "id": "a3a2b9c4",
   "metadata": {},
   "source": [
    "Возьмём какую-нибудь рандомную сдачу из архива:"
   ]
  },
  {
   "cell_type": "code",
   "execution_count": 2,
   "id": "309b5971",
   "metadata": {},
   "outputs": [
    {
     "data": {
      "text/plain": [
       "['♥9♦9', '♠9♣QJ97♦AJ7♥A8', '♠Q107♦KQ♥KQJ107', '♠AKJ8♣AK108♦108']"
      ]
     },
     "execution_count": 2,
     "metadata": {},
     "output_type": "execute_result"
    }
   ],
   "source": [
    "df = pd.read_csv('../YellowArchive/data_406/406184500_406185000/yellow_deals.csv')\n",
    "list(df.iloc[1][['north', 'east', 'south', 'west']])"
   ]
  },
  {
   "cell_type": "markdown",
   "id": "92132771",
   "metadata": {},
   "source": [
    "Построим матрицу по этой сдаче:"
   ]
  },
  {
   "cell_type": "code",
   "execution_count": 11,
   "id": "de733974",
   "metadata": {},
   "outputs": [
    {
     "name": "stdout",
     "output_type": "stream",
     "text": [
      "CPU times: user 281 µs, sys: 83 µs, total: 364 µs\n",
      "Wall time: 425 µs\n"
     ]
    },
    {
     "data": {
      "text/plain": [
       "♠9 ♧QJ97 ♦AJ7 ♥A8 \n",
       "♠QT7 ♧- ♦KQ ♥KQJT7 \n",
       "♠AKJ8 ♧AKT8 ♦T8 ♥-"
      ]
     },
     "execution_count": 11,
     "metadata": {},
     "output_type": "execute_result"
    }
   ],
   "source": [
    "%%time\n",
    "hand_strings = ['♠9♣QJ97♦AJ7♥A8', '♠Q107♦KQ♥KQJ107', '♠AKJ8♣AK108♦108']\n",
    "deal_matrix = PrefDealMatrix.from_strings(hand_strings, trump=2)\n",
    "deal_matrix"
   ]
  },
  {
   "cell_type": "code",
   "execution_count": 12,
   "id": "e62e0581",
   "metadata": {},
   "outputs": [
    {
     "name": "stdout",
     "output_type": "stream",
     "text": [
      "11502728032044657\n",
      "CPU times: user 2.12 ms, sys: 0 ns, total: 2.12 ms\n",
      "Wall time: 1.86 ms\n"
     ]
    }
   ],
   "source": [
    "%%time\n",
    "deal_hash = hash(deal_matrix)\n",
    "print(deal_hash)"
   ]
  },
  {
   "cell_type": "code",
   "execution_count": 14,
   "id": "fcfccd8f",
   "metadata": {},
   "outputs": [
    {
     "data": {
      "text/plain": [
       "2"
      ]
     },
     "execution_count": 14,
     "metadata": {},
     "output_type": "execute_result"
    }
   ],
   "source": [
    "deal_matrix.trump"
   ]
  },
  {
   "cell_type": "markdown",
   "id": "604ae593",
   "metadata": {},
   "source": [
    "Построение матрицы и вычисление хеша занимает порядка миллисекунд, что много. Что там с восстановлением из хеша?"
   ]
  },
  {
   "cell_type": "code",
   "execution_count": 15,
   "id": "30a6043d",
   "metadata": {},
   "outputs": [
    {
     "name": "stdout",
     "output_type": "stream",
     "text": [
      "CPU times: user 2.56 ms, sys: 1.18 ms, total: 3.74 ms\n",
      "Wall time: 3.04 ms\n"
     ]
    },
    {
     "data": {
      "text/plain": [
       "♠9 ♧QJ97 ♦AJ8 ♥A9 \n",
       "♠QT7 ♧- ♦KQ ♥KQJT8 \n",
       "♠AKJ8 ♧AKT8 ♦T9 ♥-"
      ]
     },
     "execution_count": 15,
     "metadata": {},
     "output_type": "execute_result"
    }
   ],
   "source": [
    "%%time\n",
    "deal_from_hash = PrefDealMatrix.from_hash(deal_hash)\n",
    "deal_from_hash"
   ]
  },
  {
   "cell_type": "markdown",
   "id": "c6dc7316",
   "metadata": {},
   "source": [
    "Тоже довольно медленно, восстанавливается сдвинутая (уплотнённая) в сторону туза матрица."
   ]
  },
  {
   "cell_type": "markdown",
   "id": "4f53a3e3",
   "metadata": {},
   "source": [
    "Сделаем ход:"
   ]
  },
  {
   "cell_type": "code",
   "execution_count": 25,
   "id": "7e518cf2",
   "metadata": {},
   "outputs": [
    {
     "data": {
      "text/plain": [
       "♠9 ♧J97 ♦AJ7 ♥A8 \n",
       "♠QT7 ♧- ♦KQ ♥KQT7 \n",
       "♠AKJ8 ♧KT8 ♦T8 ♥-"
      ]
     },
     "execution_count": 25,
     "metadata": {},
     "output_type": "execute_result"
    }
   ],
   "source": [
    "deal_matrix.do_move(np.array([13, 28, 15], dtype=np.uint8))\n",
    "deal_matrix"
   ]
  },
  {
   "cell_type": "code",
   "execution_count": 26,
   "id": "22642f79",
   "metadata": {},
   "outputs": [
    {
     "name": "stdout",
     "output_type": "stream",
     "text": [
      "84963744407776958\n",
      "CPU times: user 1.05 ms, sys: 634 µs, total: 1.69 ms\n",
      "Wall time: 1.6 ms\n"
     ]
    }
   ],
   "source": [
    "%%time\n",
    "deal_hash_9 = hash(deal_matrix)\n",
    "print(deal_hash_9)"
   ]
  },
  {
   "cell_type": "markdown",
   "id": "032f4202",
   "metadata": {},
   "source": [
    "Упс, при восстановлении из хеша козырем стала пика:"
   ]
  },
  {
   "cell_type": "code",
   "execution_count": 28,
   "id": "20a54d80",
   "metadata": {},
   "outputs": [
    {
     "name": "stdout",
     "output_type": "stream",
     "text": [
      "CPU times: user 3.82 ms, sys: 0 ns, total: 3.82 ms\n",
      "Wall time: 3.03 ms\n"
     ]
    },
    {
     "data": {
      "text/plain": [
       "♤9 ♣KJ9 ♦AJ8 ♥AT \n",
       "♤QT7 ♣- ♦KQ ♥KQJ9 \n",
       "♤AKJ8 ♣AQT ♦T9 ♥-"
      ]
     },
     "execution_count": 28,
     "metadata": {},
     "output_type": "execute_result"
    }
   ],
   "source": [
    "%%time\n",
    "deal_9_from_hash = PrefDealMatrix.from_hash(deal_hash_9)\n",
    "deal_9_from_hash"
   ]
  },
  {
   "cell_type": "code",
   "execution_count": 16,
   "id": "ba1a9e48",
   "metadata": {},
   "outputs": [
    {
     "data": {
      "text/plain": [
       "2"
      ]
     },
     "execution_count": 16,
     "metadata": {},
     "output_type": "execute_result"
    }
   ],
   "source": [
    "deal_from_hash.trump"
   ]
  },
  {
   "cell_type": "code",
   "execution_count": 17,
   "id": "74306322",
   "metadata": {},
   "outputs": [
    {
     "data": {
      "text/plain": [
       "11502728032044657"
      ]
     },
     "execution_count": 17,
     "metadata": {},
     "output_type": "execute_result"
    }
   ],
   "source": [
    "hash(deal_from_hash)"
   ]
  },
  {
   "cell_type": "code",
   "execution_count": 38,
   "id": "b215ad7b",
   "metadata": {},
   "outputs": [
    {
     "name": "stdout",
     "output_type": "stream",
     "text": [
      "5.074758e+18\n"
     ]
    }
   ],
   "source": [
    "max_hash = 0\n",
    "fields = ['east', 'south', 'west', 'north']\n",
    "\n",
    "for i in range(24):\n",
    "    for n_fields in [3, 4]:\n",
    "        trump = np.random.randint(17 - 4 * n_fields)\n",
    "        deal = PrefDealMatrix.from_strings(list(df.iloc[i][fields[:n_fields]]), trump=trump)\n",
    "        deal_hash = hash(deal)\n",
    "        deal_from_hash = PrefDealMatrix.from_hash(deal_hash)\n",
    "        if deal != deal_from_hash:\n",
    "            # print(deal.card_matrix)\n",
    "            print(deal)\n",
    "            print(deal_hash)\n",
    "            print(deal_from_hash)\n",
    "        max_hash = max(max_hash, deal_hash)\n",
    "            # print(widow, order, hash(deal))\n",
    "            # tigtened_deal = PrefDealMatrix(deal.get_tightened_matrix(), order, widow)\n",
    "            # print(\"Tightened deal:\")\n",
    "            # print(tigtened_deal)\n",
    "            # print()\n",
    "            # tight_hash = hash(tigtened_deal)\n",
    "            # max_tight_hash = max(max_tight_hash, tight_hash)\n",
    "            #if tight_hash != deal_hash:\n",
    "            #    print(widow, order, deal_hash, tight_hash)\n",
    "            #    print(deal)\n",
    "    # print()\n",
    "print(f\"{max_hash:e}\")# , f\"{max_hash_widow:e}\", f\"{max_tight_hash:e}\")"
   ]
  },
  {
   "cell_type": "markdown",
   "id": "6839fdec",
   "metadata": {},
   "source": [
    "Тут первая рука играет 7 треф, поэтому переставить надо всего лишь первые две строки матрицы:"
   ]
  },
  {
   "cell_type": "code",
   "execution_count": 18,
   "id": "36b2df82",
   "metadata": {},
   "outputs": [
    {
     "data": {
      "text/plain": [
       "♠7 ♣KJ7 ♦AQJ ♡A97 \n",
       "♠K ♣Q9 ♦K97 ♡KJT8 \n",
       "♠AQ98 ♣AT8 ♦T8 ♡Q"
      ]
     },
     "execution_count": 18,
     "metadata": {},
     "output_type": "execute_result"
    }
   ],
   "source": [
    "deal_7_clubs = PrefDealMatrix.from_strings(['♠7♣KJ7♦AQJ♥A97', '♠K♣Q9♦K97♥KJ108', '♠AQ98♣A108♦108♥Q'],\n",
    "                                           trump=4)\n",
    "deal_7_clubs"
   ]
  },
  {
   "cell_type": "code",
   "execution_count": 19,
   "id": "b4d9ad05",
   "metadata": {},
   "outputs": [
    {
     "data": {
      "text/plain": [
       "array([[  1,  64, 166],\n",
       "       [ 81,  36, 138],\n",
       "       [176,  69,  10],\n",
       "       [133,  90,  32]], dtype=uint8)"
      ]
     },
     "execution_count": 19,
     "metadata": {},
     "output_type": "execute_result"
    }
   ],
   "source": [
    "deal_7_clubs.card_matrix"
   ]
  },
  {
   "cell_type": "code",
   "execution_count": 20,
   "id": "af842d96",
   "metadata": {},
   "outputs": [
    {
     "data": {
      "text/plain": [
       "♠9 ♣KJ7 ♦AQJ ♡A97 \n",
       "♠K ♣Q9 ♦K97 ♡KJT8 \n",
       "♠AQJT ♣AT8 ♦T8 ♡Q"
      ]
     },
     "execution_count": 20,
     "metadata": {},
     "output_type": "execute_result"
    }
   ],
   "source": [
    "PrefDealMatrix.from_hash(hash(deal_7_clubs))"
   ]
  },
  {
   "cell_type": "code",
   "execution_count": 5,
   "id": "0a82380a",
   "metadata": {},
   "outputs": [
    {
     "data": {
      "text/plain": [
       "array([3, 2, 3, 4, 4, 3, 3, 1], dtype=int16)"
      ]
     },
     "execution_count": 5,
     "metadata": {},
     "output_type": "execute_result"
    }
   ],
   "source": [
    "mp = suit_codes2multiperm(deal_7_clubs.card_matrix[0], 'little', True)\n",
    "mp"
   ]
  },
  {
   "cell_type": "code",
   "execution_count": 6,
   "id": "5fc4342d",
   "metadata": {},
   "outputs": [
    {
     "data": {
      "text/plain": [
       "array([128,  64,  36,   8], dtype=uint8)"
      ]
     },
     "execution_count": 6,
     "metadata": {},
     "output_type": "execute_result"
    }
   ],
   "source": [
    "multiperm2suit_codes(mp - 1, 'little', 4)"
   ]
  },
  {
   "cell_type": "code",
   "execution_count": 37,
   "id": "22c83525",
   "metadata": {},
   "outputs": [
    {
     "data": {
      "text/plain": [
       "array([[1, 1, 4, 2],\n",
       "       [3, 2, 3, 0],\n",
       "       [3, 3, 2, 0],\n",
       "       [3, 4, 1, 0]])"
      ]
     },
     "execution_count": 37,
     "metadata": {},
     "output_type": "execute_result"
    }
   ],
   "source": [
    "np.hstack((deal_7_clubs.contingency_table(), np.array([2, 0, 0, 0])[:,None]))"
   ]
  },
  {
   "cell_type": "code",
   "execution_count": 7,
   "id": "53db4588",
   "metadata": {
    "scrolled": true
   },
   "outputs": [
    {
     "name": "stdout",
     "output_type": "stream",
     "text": [
      "[0 2 2 3 3 2 1 2]\n",
      "840 [1 1 4 2]\n",
      "53\n",
      "[0 2 1 2 0 1 0 2]\n",
      "560 [3 2 3 0]\n",
      "170\n",
      "[1 2 1 2 0 0 1 0]\n",
      "560 [3 3 2 0]\n",
      "407\n",
      "[0 1 0 1 1 2 1 0]\n",
      "280 [3 4 1 0]\n",
      "42\n",
      "CPU times: user 4.14 ms, sys: 247 µs, total: 4.39 ms\n",
      "Wall time: 3.73 ms\n"
     ]
    }
   ],
   "source": [
    "%%time\n",
    "index = hash(deal_7_clubs)"
   ]
  },
  {
   "cell_type": "code",
   "execution_count": 8,
   "id": "5732484c",
   "metadata": {},
   "outputs": [
    {
     "name": "stdout",
     "output_type": "stream",
     "text": [
      "53\n",
      "840 [1 1 4 2]\n",
      "[0 2 2 3 3 2 1 2]\n",
      "170\n",
      "560 [3 2 3 0]\n",
      "[0 2 1 2 0 1 0 2]\n",
      "407\n",
      "560 [3 3 2 0]\n",
      "[1 2 1 2 0 0 1 0]\n",
      "42\n",
      "280 [3 4 1 0]\n",
      "[0 1 0 1 1 2 1 0]\n"
     ]
    },
    {
     "data": {
      "text/plain": [
       "♠7 ♣KJ7 ♦AQJ ♥A97 \n",
       "♠K ♣Q9 ♦K97 ♥KJT8 \n",
       "♠AQ98 ♣AT8 ♦T8 ♥Q"
      ]
     },
     "execution_count": 8,
     "metadata": {},
     "output_type": "execute_result"
    }
   ],
   "source": [
    "deal_from_index = PrefDealMatrix.from_hash(index, 'big')\n",
    "deal_from_index"
   ]
  },
  {
   "cell_type": "code",
   "execution_count": 9,
   "id": "55d0950f",
   "metadata": {},
   "outputs": [
    {
     "data": {
      "text/plain": [
       "array([[128,   2, 101],\n",
       "       [138,  36,  81],\n",
       "       [ 13, 162,  80],\n",
       "       [161,  90,   4]], dtype=uint8)"
      ]
     },
     "execution_count": 9,
     "metadata": {},
     "output_type": "execute_result"
    }
   ],
   "source": [
    "deal_from_index.card_matrix"
   ]
  },
  {
   "cell_type": "code",
   "execution_count": 10,
   "id": "43297983",
   "metadata": {},
   "outputs": [
    {
     "data": {
      "text/plain": [
       "array([[128,   2, 101],\n",
       "       [138,  36,  81],\n",
       "       [ 13, 162,  80],\n",
       "       [161,  90,   4]], dtype=uint8)"
      ]
     },
     "execution_count": 10,
     "metadata": {},
     "output_type": "execute_result"
    }
   ],
   "source": [
    "deal_7_clubs.card_matrix"
   ]
  },
  {
   "cell_type": "code",
   "execution_count": 9,
   "id": "212cdd41",
   "metadata": {},
   "outputs": [
    {
     "data": {
      "text/plain": [
       "♠9 ♣KJ7 ♦AQJ ♥A97 \n",
       "♠K ♣Q9 ♦K97 ♥KJT8 \n",
       "♠AQJT ♣AT8 ♦T8 ♥Q"
      ]
     },
     "execution_count": 9,
     "metadata": {},
     "output_type": "execute_result"
    }
   ],
   "source": [
    "deal_7_clubs.tighten_cards()\n",
    "deal_7_clubs"
   ]
  },
  {
   "cell_type": "code",
   "execution_count": 16,
   "id": "141cd6c5",
   "metadata": {},
   "outputs": [
    {
     "name": "stdout",
     "output_type": "stream",
     "text": [
      "6.744097e+15\n"
     ]
    }
   ],
   "source": [
    "print(f\"{hash(deal_7_clubs):e}\")"
   ]
  },
  {
   "cell_type": "code",
   "execution_count": 12,
   "id": "291a3bea",
   "metadata": {},
   "outputs": [
    {
     "ename": "NameError",
     "evalue": "name 'deal_6_diamonds' is not defined",
     "output_type": "error",
     "traceback": [
      "\u001b[0;31m---------------------------------------------------------------------------\u001b[0m",
      "\u001b[0;31mNameError\u001b[0m                                 Traceback (most recent call last)",
      "\u001b[0;32m<timed exec>\u001b[0m in \u001b[0;36m<module>\u001b[0;34m\u001b[0m\n",
      "\u001b[0;31mNameError\u001b[0m: name 'deal_6_diamonds' is not defined"
     ]
    }
   ],
   "source": [
    "%%time\n",
    "widow = True\n",
    "for i in range(4):\n",
    "    mp = suit_codes2multiperm(deal_6_diamonds.card_matrix[i], 'big', widow)\n",
    "    ns = [np.sum(mp == i) for i in range(1, 4)]\n",
    "    if widow:\n",
    "        ns = np.append(ns, np.sum(mp == deal_7_clubs.card_matrix.shape[1] + 1))\n",
    "    print(ns, mp)\n",
    "    print(multiperm2index(mp[mp > 0] - 1, ns))"
   ]
  },
  {
   "cell_type": "code",
   "execution_count": 5,
   "id": "156ad8ae",
   "metadata": {},
   "outputs": [
    {
     "data": {
      "text/plain": [
       "array([[ 32,   2,  29],\n",
       "       [138,  36,  81],\n",
       "       [ 13, 162,  80],\n",
       "       [161,  90,   4]], dtype=uint8)"
      ]
     },
     "execution_count": 5,
     "metadata": {},
     "output_type": "execute_result"
    }
   ],
   "source": [
    "deal_7_clubs.card_matrix"
   ]
  },
  {
   "cell_type": "code",
   "execution_count": 4,
   "id": "fba5d794",
   "metadata": {},
   "outputs": [
    {
     "data": {
      "text/plain": [
       "array([[1, 1, 4],\n",
       "       [3, 2, 3],\n",
       "       [3, 3, 2],\n",
       "       [3, 4, 1]], dtype=uint8)"
      ]
     },
     "execution_count": 4,
     "metadata": {},
     "output_type": "execute_result"
    }
   ],
   "source": [
    "deal_7_clubs.contingency_table()"
   ]
  },
  {
   "cell_type": "markdown",
   "id": "c8354a10",
   "metadata": {},
   "source": [
    "Перестановка имеет вид $(1, 0, 2, 3)$:"
   ]
  },
  {
   "cell_type": "code",
   "execution_count": 5,
   "id": "fd61c574",
   "metadata": {},
   "outputs": [
    {
     "data": {
      "text/plain": [
       "array([[3, 2, 3],\n",
       "       [1, 1, 4],\n",
       "       [3, 3, 2],\n",
       "       [3, 4, 1]], dtype=uint8)"
      ]
     },
     "execution_count": 5,
     "metadata": {},
     "output_type": "execute_result"
    }
   ],
   "source": [
    "deal_7_clubs.contingency_table()[[1, 0, 2, 3]]"
   ]
  },
  {
   "cell_type": "code",
   "execution_count": 8,
   "id": "be5e697e",
   "metadata": {},
   "outputs": [
    {
     "name": "stdout",
     "output_type": "stream",
     "text": [
      "[0 2 2 3 3 2 1 2]\n",
      "[0 2 1 2 0 1 0 2]\n",
      "[1 2 1 2 0 0 1 0]\n",
      "[0 1 0 1 1 2 1 0]\n"
     ]
    }
   ],
   "source": [
    "for i in range(4):\n",
    "    print(suit_codes2multiperm(deal_7_clubs.card_matrix[i], True))"
   ]
  },
  {
   "cell_type": "code",
   "execution_count": 17,
   "id": "bbf7e26f",
   "metadata": {},
   "outputs": [
    {
     "data": {
      "text/plain": [
       "array([0, 2, 1, 2, 0, 1, 0, 2], dtype=int16)"
      ]
     },
     "execution_count": 17,
     "metadata": {},
     "output_type": "execute_result"
    }
   ],
   "source": [
    "np.dot(np.arange(3, dtype=np.int8), np.unpackbits(deal_7_clubs.card_matrix[1], bitorder='little').reshape((3, -1)))"
   ]
  },
  {
   "cell_type": "code",
   "execution_count": 24,
   "id": "b349acfd",
   "metadata": {},
   "outputs": [
    {
     "data": {
      "text/plain": [
       "array([0, 0, 0, 1, 1, 0, 0, 0], dtype=uint8)"
      ]
     },
     "execution_count": 24,
     "metadata": {},
     "output_type": "execute_result"
    }
   ],
   "source": [
    "np.unpackbits(np.invert(deal_7_clubs.card_matrix[0].sum(dtype=np.uint8)), bitorder='little')"
   ]
  },
  {
   "cell_type": "markdown",
   "id": "5dad6002",
   "metadata": {},
   "source": [
    "А вот где третья рука играет 6 бубей:"
   ]
  },
  {
   "cell_type": "code",
   "execution_count": 6,
   "id": "dddbe2ff",
   "metadata": {},
   "outputs": [
    {
     "data": {
      "text/plain": [
       "♠QJT87 ♣AT ♦9 ♥JT \n",
       "♠K ♣J8 ♦AKQ ♥A987 \n",
       "♠A9 ♣KQ97 ♦JT87 ♥-"
      ]
     },
     "execution_count": 6,
     "metadata": {},
     "output_type": "execute_result"
    }
   ],
   "source": [
    "deal_6_diamonds = PrefDealMatrix.from_strings(['♠QJ1087♣A10♦9♥J10', '♠K♣J8♦AKQ♥A987', '♠A9♣KQ97♦J1087'],\n",
    "                                              bit_order='big', widow=True)\n",
    "deal_6_diamonds"
   ]
  },
  {
   "cell_type": "code",
   "execution_count": 3,
   "id": "1b0c602a",
   "metadata": {},
   "outputs": [
    {
     "data": {
      "text/plain": [
       "65570378535478109"
      ]
     },
     "execution_count": 3,
     "metadata": {},
     "output_type": "execute_result"
    }
   ],
   "source": [
    "hash(deal_6_diamonds)"
   ]
  },
  {
   "cell_type": "code",
   "execution_count": 4,
   "id": "ae5b7c24",
   "metadata": {},
   "outputs": [
    {
     "data": {
      "text/plain": [
       "array([[5, 1, 2],\n",
       "       [2, 2, 4],\n",
       "       [1, 3, 4],\n",
       "       [2, 4, 0]], dtype=uint8)"
      ]
     },
     "execution_count": 4,
     "metadata": {},
     "output_type": "execute_result"
    }
   ],
   "source": [
    "deal_6_diamonds.contingency_table()"
   ]
  },
  {
   "cell_type": "markdown",
   "id": "1ba83411",
   "metadata": {},
   "source": [
    "Тут потребуется перестановка $(2, 3, 1, 0)$:"
   ]
  },
  {
   "cell_type": "code",
   "execution_count": 5,
   "id": "d42ca2fd",
   "metadata": {},
   "outputs": [
    {
     "data": {
      "text/plain": [
       "array([[1, 3, 4],\n",
       "       [2, 4, 0],\n",
       "       [2, 2, 4],\n",
       "       [5, 1, 2]], dtype=uint8)"
      ]
     },
     "execution_count": 5,
     "metadata": {},
     "output_type": "execute_result"
    }
   ],
   "source": [
    "deal_6_diamonds.contingency_table()[[2, 3, 1, 0]]"
   ]
  },
  {
   "cell_type": "code",
   "execution_count": 6,
   "id": "7c301534",
   "metadata": {},
   "outputs": [],
   "source": [
    "for i in range(24):\n",
    "    for widow in [False, True]:\n",
    "        for order in ['big', 'little']:\n",
    "            deal = PrefDealMatrix.from_strings(list(df.iloc[i][['east', 'south', 'west']]), order, widow)\n",
    "            # print(deal.card_matrix)\n",
    "            for j in range(4):\n",
    "                mp = suit_codes2multiperm(deal.card_matrix[j], order, widow)\n",
    "                suit_codes = multiperm2suit_codes(mp - 1, order, 4 if widow else 3)\n",
    "                if not np.array_equal(deal.card_matrix[j], suit_codes[:3]):\n",
    "                    print(i, j, widow, order)\n",
    "                    print(suit_codes)"
   ]
  },
  {
   "cell_type": "code",
   "execution_count": 7,
   "id": "a022dbc3",
   "metadata": {},
   "outputs": [
    {
     "name": "stdout",
     "output_type": "stream",
     "text": [
      "[220   2  33]\n",
      "Big:\n",
      "[1 1 3 1 1 1 2 3]\n",
      "[220   2  33]\n",
      "Little:\n",
      "[3 2 1 1 1 3 1 1]\n",
      "[220   2  33]\n",
      "\n",
      "[ 17  72 166]\n",
      "Big:\n",
      "[3 2 3 1 2 3 3 1]\n",
      "[ 17  72 166]\n",
      "Little:\n",
      "[1 3 3 2 1 3 2 3]\n",
      "[ 17  72 166]\n",
      "\n",
      "[ 32   7 216]\n",
      "Big:\n",
      "[3 3 1 3 3 2 2 2]\n",
      "[ 32   7 216]\n",
      "Little:\n",
      "[2 2 2 3 3 1 3 3]\n",
      "[ 32   7 216]\n",
      "\n",
      "[ 24 225   0]\n",
      "Big:\n",
      "[2 2 2 1 1 4 4 2]\n",
      "[ 24 225   0   6]\n",
      "Little:\n",
      "[2 4 4 1 1 2 2 2]\n",
      "[ 24 225   0   6]\n",
      "\n"
     ]
    }
   ],
   "source": [
    "for i in range(4):\n",
    "    mp_big = suit_codes2multiperm(deal_6_diamonds.card_matrix[i], 'big', True)\n",
    "    mat_big = multiperm2suit_codes(mp_big - 1, 'big')\n",
    "    print(deal_6_diamonds.card_matrix[i])\n",
    "    print(\"Big:\")\n",
    "    print(mp_big)\n",
    "    print(mat_big)\n",
    "    \n",
    "    mp_little = suit_codes2multiperm(deal_6_diamonds.card_matrix[i], 'little', True)\n",
    "    mat_little = multiperm2suit_codes(mp_little - 1, 'little')\n",
    "    print(\"Little:\")\n",
    "    print(mp_little)\n",
    "    print(mat_little)\n",
    "    print()"
   ]
  },
  {
   "cell_type": "code",
   "execution_count": 10,
   "id": "8fc3c246",
   "metadata": {},
   "outputs": [
    {
     "data": {
      "text/plain": [
       "(array([[0, 0, 0, 1, 1, 0, 0, 0],\n",
       "        [1, 0, 0, 0, 0, 1, 1, 1],\n",
       "        [0, 0, 0, 0, 0, 0, 0, 0]], dtype=uint8),\n",
       " array([[0, 1, 1, 0, 0, 0],\n",
       "        [1, 0, 0, 1, 1, 1],\n",
       "        [0, 0, 0, 0, 0, 0]], dtype=uint8),\n",
       " array([0, 1, 1, 0, 0, 0, 0, 0]))"
      ]
     },
     "execution_count": 10,
     "metadata": {},
     "output_type": "execute_result"
    }
   ],
   "source": [
    "suit_bits = np.unpackbits(deal_6_diamonds.card_matrix[3]).reshape((3, -1))\n",
    "non_zero_bits = suit_bits.sum(axis=0, dtype=np.uint8) >0\n",
    "suit_bits, suit_bits[:, non_zero_bits], 1 - non_zero_bits"
   ]
  },
  {
   "cell_type": "code",
   "execution_count": 21,
   "id": "b7f8cbf3",
   "metadata": {},
   "outputs": [
    {
     "data": {
      "text/plain": [
       "(array([[1, 0, 0, 0, 0, 0, 0, 0],\n",
       "        [0, 0, 0, 0, 0, 0, 1, 0],\n",
       "        [0, 1, 1, 0, 0, 1, 0, 1]], dtype=uint8),\n",
       " array([[1, 0, 0, 0, 0, 0],\n",
       "        [0, 0, 0, 0, 1, 0],\n",
       "        [0, 1, 1, 1, 0, 1]], dtype=uint8))"
      ]
     },
     "execution_count": 21,
     "metadata": {},
     "output_type": "execute_result"
    }
   ],
   "source": [
    "suit_bits = np.unpackbits(deal_7_clubs.card_matrix[0], bitorder='big').reshape((3, -1))\n",
    "non_zero_bits = suit_bits.sum(axis=0, dtype=np.uint8) >0\n",
    "suit_bits, suit_bits[:, non_zero_bits]"
   ]
  },
  {
   "cell_type": "code",
   "execution_count": 33,
   "id": "64372f37",
   "metadata": {},
   "outputs": [
    {
     "data": {
      "text/plain": [
       "array([128], dtype=uint8)"
      ]
     },
     "execution_count": 33,
     "metadata": {},
     "output_type": "execute_result"
    }
   ],
   "source": [
    "bits = np.unpackbits(np.array(128, dtype=np.uint8), bitorder='big')\n",
    "np.packbits(bits[:-3], bitorder='big')"
   ]
  },
  {
   "cell_type": "code",
   "execution_count": 31,
   "id": "46237fef",
   "metadata": {},
   "outputs": [
    {
     "data": {
      "text/plain": [
       "array([1, 0, 0, 0, 0, 0, 0, 0], dtype=uint8)"
      ]
     },
     "execution_count": 31,
     "metadata": {},
     "output_type": "execute_result"
    }
   ],
   "source": [
    "bits"
   ]
  },
  {
   "cell_type": "code",
   "execution_count": 20,
   "id": "3ce4794e",
   "metadata": {},
   "outputs": [
    {
     "data": {
      "text/plain": [
       "array([  4,  64, 184], dtype=uint8)"
      ]
     },
     "execution_count": 20,
     "metadata": {},
     "output_type": "execute_result"
    }
   ],
   "source": [
    "np.packbits(suit_bits[:, non_zero_bits], axis=1, bitorder='big').ravel()"
   ]
  },
  {
   "cell_type": "code",
   "execution_count": 3,
   "id": "4177ec85",
   "metadata": {},
   "outputs": [],
   "source": [
    "hand_list = ['♠KQJ9♣J♦Q♥AJ107', '♠8♣AKQ10♦KJ7♥K8', '♠A107♣987♦A10♥Q9']\n",
    "mizere_list = ['♠98♣QJ7♦QJ87♥8', '♠AQ7♣A9♦A9♥Q97', '♠KJ10♣K108♦K10♥KJ']\n",
    "missing_list = ['♠A8♣A♦AJ10♥AQ109', '♠KQ1097♣Q10♦9♥K8', '♣KJ987♦KQ87♥7']"
   ]
  },
  {
   "cell_type": "code",
   "execution_count": 5,
   "id": "56ac1beb",
   "metadata": {},
   "outputs": [
    {
     "data": {
      "text/plain": [
       "array([161, 132, 132,  37], dtype=uint8)"
      ]
     },
     "execution_count": 5,
     "metadata": {},
     "output_type": "execute_result"
    }
   ],
   "source": [
    "bin_array = parse_hand_string(mizere_list[1], 'little')\n",
    "bin_array"
   ]
  },
  {
   "cell_type": "code",
   "execution_count": 6,
   "id": "d449e31b",
   "metadata": {},
   "outputs": [
    {
     "data": {
      "text/plain": [
       "array([ 64,  23, 138,  66], dtype=uint8)"
      ]
     },
     "execution_count": 6,
     "metadata": {},
     "output_type": "execute_result"
    }
   ],
   "source": [
    "bin_array = parse_hand_string(hand_list[1], 'big')\n",
    "bin_array"
   ]
  },
  {
   "cell_type": "code",
   "execution_count": 33,
   "id": "bbb5dbe8",
   "metadata": {},
   "outputs": [
    {
     "data": {
      "text/plain": [
       "'10100001'"
      ]
     },
     "execution_count": 33,
     "metadata": {},
     "output_type": "execute_result"
    }
   ],
   "source": [
    "np.binary_repr(bin_array[0])"
   ]
  },
  {
   "cell_type": "code",
   "execution_count": 40,
   "id": "b65547bb",
   "metadata": {},
   "outputs": [
    {
     "data": {
      "text/plain": [
       "array([66,  8,  8, 74], dtype=uint8)"
      ]
     },
     "execution_count": 40,
     "metadata": {},
     "output_type": "execute_result"
    }
   ],
   "source": [
    "np.left_shift(bin_array, 1)"
   ]
  },
  {
   "cell_type": "code",
   "execution_count": 37,
   "id": "e1953a09",
   "metadata": {},
   "outputs": [
    {
     "data": {
      "text/plain": [
       "array([161, 132, 132,  37], dtype=uint8)"
      ]
     },
     "execution_count": 37,
     "metadata": {},
     "output_type": "execute_result"
    }
   ],
   "source": [
    "bin_array"
   ]
  },
  {
   "cell_type": "code",
   "execution_count": 18,
   "id": "af00ca7b",
   "metadata": {},
   "outputs": [
    {
     "name": "stdout",
     "output_type": "stream",
     "text": [
      "CPU times: user 469 µs, sys: 573 µs, total: 1.04 ms\n",
      "Wall time: 914 µs\n"
     ]
    }
   ],
   "source": [
    "%%time\n",
    "deal = PrefDealMatrix.from_strings(hand_list)\n",
    "mizere_deal = PrefDealMatrix.from_strings(mizere_list)\n",
    "missing_deal = PrefDealMatrix.from_strings(missing_list)"
   ]
  },
  {
   "cell_type": "code",
   "execution_count": 10,
   "id": "c3005c2b",
   "metadata": {},
   "outputs": [
    {
     "data": {
      "text/plain": [
       "(array([8, 8, 6, 8], dtype=uint64),\n",
       " array([8, 8, 8, 6], dtype=uint64),\n",
       " array([7, 8, 8, 7], dtype=uint64))"
      ]
     },
     "execution_count": 10,
     "metadata": {},
     "output_type": "execute_result"
    }
   ],
   "source": [
    "deal.suit_sizes(), mizere_deal.suit_sizes(), missing_deal.suit_sizes()"
   ]
  },
  {
   "cell_type": "code",
   "execution_count": 11,
   "id": "38170a89",
   "metadata": {},
   "outputs": [
    {
     "data": {
      "text/plain": [
       "♠KQJ9 ♣J ♦Q ♥AJT7 \n",
       "♠8 ♣AKQT ♦KJ7 ♥K8 \n",
       "♠AT7 ♣987 ♦AT ♥Q9"
      ]
     },
     "execution_count": 11,
     "metadata": {},
     "output_type": "execute_result"
    }
   ],
   "source": [
    "deal"
   ]
  },
  {
   "cell_type": "code",
   "execution_count": 12,
   "id": "3482f3a6",
   "metadata": {},
   "outputs": [
    {
     "data": {
      "text/plain": [
       "♠98 ♣QJ7 ♦QJ87 ♥8 \n",
       "♠AQ7 ♣A9 ♦A9 ♥Q97 \n",
       "♠KJT ♣KT8 ♦KT ♥KJ"
      ]
     },
     "execution_count": 12,
     "metadata": {},
     "output_type": "execute_result"
    }
   ],
   "source": [
    "mizere_deal"
   ]
  },
  {
   "cell_type": "code",
   "execution_count": 13,
   "id": "f25703d6",
   "metadata": {},
   "outputs": [
    {
     "data": {
      "text/plain": [
       "♠A8 ♣A ♦AJT ♥AQT9 \n",
       "♠KQT97 ♣QT ♦9 ♥K8 \n",
       "♠ ♣KJ987 ♦KQ87 ♥7"
      ]
     },
     "execution_count": 13,
     "metadata": {},
     "output_type": "execute_result"
    }
   ],
   "source": [
    "missing_deal"
   ]
  },
  {
   "cell_type": "code",
   "execution_count": 14,
   "id": "c163bc45",
   "metadata": {},
   "outputs": [],
   "source": [
    "deal.permute_suits()"
   ]
  },
  {
   "cell_type": "code",
   "execution_count": 15,
   "id": "79ca6cfb",
   "metadata": {},
   "outputs": [
    {
     "data": {
      "text/plain": [
       "♠Q ♣KQJ9 ♦J ♥AJT7 \n",
       "♠KJ7 ♣8 ♦AKQT ♥K8 \n",
       "♠AT ♣AT7 ♦987 ♥Q9"
      ]
     },
     "execution_count": 15,
     "metadata": {},
     "output_type": "execute_result"
    }
   ],
   "source": [
    "deal"
   ]
  },
  {
   "cell_type": "code",
   "execution_count": 16,
   "id": "9adf0470",
   "metadata": {},
   "outputs": [
    {
     "data": {
      "text/plain": [
       "array([[1, 3, 2],\n",
       "       [4, 1, 3],\n",
       "       [1, 4, 3],\n",
       "       [4, 2, 2]], dtype=uint8)"
      ]
     },
     "execution_count": 16,
     "metadata": {},
     "output_type": "execute_result"
    }
   ],
   "source": [
    "deal.contingency_table()"
   ]
  },
  {
   "cell_type": "code",
   "execution_count": 13,
   "id": "bbe7a607",
   "metadata": {},
   "outputs": [
    {
     "data": {
      "text/plain": [
       "array([[2, 3, 3],\n",
       "       [3, 2, 3],\n",
       "       [4, 2, 2],\n",
       "       [1, 3, 2]], dtype=uint8)"
      ]
     },
     "execution_count": 13,
     "metadata": {},
     "output_type": "execute_result"
    }
   ],
   "source": [
    "mizere_deal.contingency_table()"
   ]
  },
  {
   "cell_type": "code",
   "execution_count": 14,
   "id": "978f4eaf",
   "metadata": {},
   "outputs": [
    {
     "data": {
      "text/plain": [
       "array([[  6, 161,  88],\n",
       "       [ 49, 132,  74],\n",
       "       [ 51, 132,  72],\n",
       "       [  2,  37,  80]], dtype=uint8)"
      ]
     },
     "execution_count": 14,
     "metadata": {},
     "output_type": "execute_result"
    }
   ],
   "source": [
    "mizere_deal.card_matrix"
   ]
  }
 ],
 "metadata": {
  "kernelspec": {
   "display_name": "Python 3 (ipykernel)",
   "language": "python",
   "name": "python3"
  },
  "language_info": {
   "codemirror_mode": {
    "name": "ipython",
    "version": 3
   },
   "file_extension": ".py",
   "mimetype": "text/x-python",
   "name": "python",
   "nbconvert_exporter": "python",
   "pygments_lexer": "ipython3",
   "version": "3.10.4"
  }
 },
 "nbformat": 4,
 "nbformat_minor": 5
}
