{
 "cells": [
  {
   "cell_type": "code",
   "execution_count": 2,
   "id": "c208f542",
   "metadata": {},
   "outputs": [],
   "source": [
    "from perms import *\n",
    "import numpy as np"
   ]
  },
  {
   "cell_type": "code",
   "execution_count": 3,
   "id": "c1ef3a23",
   "metadata": {},
   "outputs": [
    {
     "data": {
      "text/plain": [
       "array([3, 0, 1, 2])"
      ]
     },
     "execution_count": 3,
     "metadata": {},
     "output_type": "execute_result"
    }
   ],
   "source": [
    "invert_permutation([1, 2, 3, 0])"
   ]
  },
  {
   "cell_type": "code",
   "execution_count": 4,
   "id": "f184657d",
   "metadata": {},
   "outputs": [
    {
     "name": "stdout",
     "output_type": "stream",
     "text": [
      "CPU times: user 579 µs, sys: 1.07 ms, total: 1.65 ms\n",
      "Wall time: 1.34 ms\n"
     ]
    },
    {
     "data": {
      "text/plain": [
       "81577"
      ]
     },
     "execution_count": 4,
     "metadata": {},
     "output_type": "execute_result"
    }
   ],
   "source": [
    "%%time\n",
    "perm2index(np.array([3, 1, 4, 5, 9, 2, 6, 8, 7]) - 1)"
   ]
  },
  {
   "cell_type": "code",
   "execution_count": 5,
   "id": "7eb321fc",
   "metadata": {},
   "outputs": [
    {
     "name": "stdout",
     "output_type": "stream",
     "text": [
      "CPU times: user 167 µs, sys: 0 ns, total: 167 µs\n",
      "Wall time: 172 µs\n"
     ]
    },
    {
     "data": {
      "text/plain": [
       "array([3, 1, 4, 5, 9, 2, 6, 8, 7])"
      ]
     },
     "execution_count": 5,
     "metadata": {},
     "output_type": "execute_result"
    }
   ],
   "source": [
    "%%time\n",
    "index2perm(81577, 9) + 1"
   ]
  },
  {
   "cell_type": "code",
   "execution_count": 5,
   "id": "37b4a551",
   "metadata": {
    "scrolled": true
   },
   "outputs": [
    {
     "name": "stdout",
     "output_type": "stream",
     "text": [
      "Mean column values: [1.5 1.5 1.5 1.5]\n",
      "Column std: [1.11803399 1.11803399 1.11803399 1.11803399]\n",
      "Perm: [0 1 2 3]\n",
      "Inversion table: [0 0 0 0]\n",
      "0\n",
      "Perm: [0 1 3 2]\n",
      "Inversion table: [0 1 0 0]\n",
      "1\n",
      "Perm: [0 2 1 3]\n",
      "Inversion table: [0 0 1 0]\n",
      "2\n",
      "Perm: [0 2 3 1]\n",
      "Inversion table: [0 1 1 0]\n",
      "3\n",
      "Perm: [0 3 1 2]\n",
      "Inversion table: [0 0 2 0]\n",
      "4\n",
      "Perm: [0 3 2 1]\n",
      "Inversion table: [0 1 2 0]\n",
      "5\n",
      "Perm: [1 0 2 3]\n",
      "Inversion table: [0 0 0 1]\n",
      "6\n",
      "Perm: [1 0 3 2]\n",
      "Inversion table: [0 1 0 1]\n",
      "7\n",
      "Perm: [1 2 0 3]\n",
      "Inversion table: [0 0 1 1]\n",
      "8\n",
      "Perm: [1 2 3 0]\n",
      "Inversion table: [0 1 1 1]\n",
      "9\n",
      "Perm: [1 3 0 2]\n",
      "Inversion table: [0 0 2 1]\n",
      "10\n",
      "Perm: [1 3 2 0]\n",
      "Inversion table: [0 1 2 1]\n",
      "11\n",
      "Perm: [2 0 1 3]\n",
      "Inversion table: [0 0 0 2]\n",
      "12\n",
      "Perm: [2 0 3 1]\n",
      "Inversion table: [0 1 0 2]\n",
      "13\n",
      "Perm: [2 1 0 3]\n",
      "Inversion table: [0 0 1 2]\n",
      "14\n",
      "Perm: [2 1 3 0]\n",
      "Inversion table: [0 1 1 2]\n",
      "15\n",
      "Perm: [2 3 0 1]\n",
      "Inversion table: [0 0 2 2]\n",
      "16\n",
      "Perm: [2 3 1 0]\n",
      "Inversion table: [0 1 2 2]\n",
      "17\n",
      "Perm: [3 0 1 2]\n",
      "Inversion table: [0 0 0 3]\n",
      "18\n",
      "Perm: [3 0 2 1]\n",
      "Inversion table: [0 1 0 3]\n",
      "19\n",
      "Perm: [3 1 0 2]\n",
      "Inversion table: [0 0 1 3]\n",
      "20\n",
      "Perm: [3 1 2 0]\n",
      "Inversion table: [0 1 1 3]\n",
      "21\n",
      "Perm: [3 2 0 1]\n",
      "Inversion table: [0 0 2 3]\n",
      "22\n",
      "Perm: [3 2 1 0]\n",
      "Inversion table: [0 1 2 3]\n",
      "23\n"
     ]
    }
   ],
   "source": [
    "N = 4\n",
    "for perm in get_all_perms(N, False):\n",
    "    it = inversion_table(perm)[::-1]\n",
    "    print(\"Perm:\", perm)\n",
    "    print(\"Inversion table:\", it)\n",
    "    print(factoradic2decimal(it))"
   ]
  },
  {
   "cell_type": "code",
   "execution_count": 16,
   "id": "f0640fd4",
   "metadata": {},
   "outputs": [
    {
     "name": "stdout",
     "output_type": "stream",
     "text": [
      "[1637 2317 2858 2350  434 4759 1528 3662 2461  649]\n"
     ]
    }
   ],
   "source": [
    "N = 5000\n",
    "np.random.seed(2312)\n",
    "random_perm = np.arange(N)\n",
    "np.random.shuffle(random_perm)\n",
    "print(random_perm[:10])"
   ]
  },
  {
   "cell_type": "code",
   "execution_count": 18,
   "id": "1e6ca7e5",
   "metadata": {},
   "outputs": [
    {
     "name": "stdout",
     "output_type": "stream",
     "text": [
      "CPU times: user 158 ms, sys: 4.08 ms, total: 162 ms\n",
      "Wall time: 161 ms\n"
     ]
    },
    {
     "data": {
      "text/plain": [
       "array([8, 5, 0, 3, 3, 4, 0, 2, 0, 0], dtype=int32)"
      ]
     },
     "execution_count": 18,
     "metadata": {},
     "output_type": "execute_result"
    }
   ],
   "source": [
    "%%time\n",
    "it = inversion_table(random_perm)\n",
    "it[-10:]"
   ]
  },
  {
   "cell_type": "code",
   "execution_count": 2,
   "id": "bc6aa4d9",
   "metadata": {},
   "outputs": [
    {
     "name": "stdout",
     "output_type": "stream",
     "text": [
      "Mean column values: [1.5 1.5 1.5 1.5]\n",
      "Column std: [1.11803399 1.11803399 1.11803399 1.11803399]\n",
      "CPU times: user 489 µs, sys: 1.01 ms, total: 1.5 ms\n",
      "Wall time: 1.25 ms\n"
     ]
    }
   ],
   "source": [
    "%%time\n",
    "p4 = get_all_perms(4, False)"
   ]
  },
  {
   "cell_type": "code",
   "execution_count": 4,
   "id": "fa75500d",
   "metadata": {},
   "outputs": [
    {
     "name": "stdout",
     "output_type": "stream",
     "text": [
      "Mean column values: [1.5 1.5 1.5 1.5]\n",
      "Column std: [1.11803399 1.11803399 1.11803399 1.11803399]\n",
      "CPU times: user 2.3 ms, sys: 0 ns, total: 2.3 ms\n",
      "Wall time: 1.66 ms\n"
     ]
    }
   ],
   "source": [
    "%%time\n",
    "p4_fast = get_all_perms(4, True)"
   ]
  },
  {
   "cell_type": "code",
   "execution_count": 5,
   "id": "8b71d930",
   "metadata": {},
   "outputs": [
    {
     "name": "stdout",
     "output_type": "stream",
     "text": [
      "Mean column values: [2. 2. 2. 2. 2.]\n",
      "Column std: [1.41421356 1.41421356 1.41421356 1.41421356 1.41421356]\n",
      "CPU times: user 3.45 ms, sys: 0 ns, total: 3.45 ms\n",
      "Wall time: 2.37 ms\n"
     ]
    }
   ],
   "source": [
    "%%time\n",
    "p5 = get_all_perms(5, False)"
   ]
  },
  {
   "cell_type": "code",
   "execution_count": 6,
   "id": "3e3e2b06",
   "metadata": {},
   "outputs": [
    {
     "name": "stdout",
     "output_type": "stream",
     "text": [
      "Mean column values: [2. 2. 2. 2. 2.]\n",
      "Column std: [1.41421356 1.41421356 1.41421356 1.41421356 1.41421356]\n",
      "CPU times: user 0 ns, sys: 4.3 ms, total: 4.3 ms\n",
      "Wall time: 2.85 ms\n"
     ]
    }
   ],
   "source": [
    "%%time\n",
    "p5_fast = get_all_perms(5, True)"
   ]
  },
  {
   "cell_type": "code",
   "execution_count": 4,
   "id": "66def367",
   "metadata": {},
   "outputs": [
    {
     "name": "stdout",
     "output_type": "stream",
     "text": [
      "Mean column values: [2.5 2.5 2.5 2.5 2.5 2.5]\n",
      "Сolumn std: [1.70782513 1.70782513 1.70782513 1.70782513 1.70782513 1.70782513]\n",
      "CPU times: user 7.91 ms, sys: 0 ns, total: 7.91 ms\n",
      "Wall time: 5.51 ms\n"
     ]
    }
   ],
   "source": [
    "%%time\n",
    "p6 = get_all_perms(6)"
   ]
  },
  {
   "cell_type": "code",
   "execution_count": 10,
   "id": "6baf87ca",
   "metadata": {},
   "outputs": [
    {
     "name": "stdout",
     "output_type": "stream",
     "text": [
      "Mean column values: [2.5 2.5 2.5 2.5 2.5 2.5]\n",
      "Column std: [1.70782513 1.70782513 1.70782513 1.70782513 1.70782513 1.70782513]\n",
      "CPU times: user 8.08 ms, sys: 0 ns, total: 8.08 ms\n",
      "Wall time: 4.96 ms\n"
     ]
    }
   ],
   "source": [
    "%%time\n",
    "p6_fast = get_all_perms(6, True)"
   ]
  },
  {
   "cell_type": "code",
   "execution_count": 14,
   "id": "a875eec0",
   "metadata": {},
   "outputs": [
    {
     "name": "stdout",
     "output_type": "stream",
     "text": [
      "Mean column values: [3. 3. 3. 3. 3. 3. 3.]\n",
      "Column std: [2. 2. 2. 2. 2. 2. 2.]\n",
      "CPU times: user 21.6 ms, sys: 2.28 ms, total: 23.8 ms\n",
      "Wall time: 21 ms\n"
     ]
    }
   ],
   "source": [
    "%%time\n",
    "p7 = get_all_perms(7, False)"
   ]
  },
  {
   "cell_type": "code",
   "execution_count": 15,
   "id": "1dc75458",
   "metadata": {},
   "outputs": [
    {
     "name": "stdout",
     "output_type": "stream",
     "text": [
      "Mean column values: [3. 3. 3. 3. 3. 3. 3.]\n",
      "Column std: [2. 2. 2. 2. 2. 2. 2.]\n",
      "CPU times: user 17.4 ms, sys: 0 ns, total: 17.4 ms\n",
      "Wall time: 15.7 ms\n"
     ]
    }
   ],
   "source": [
    "%%time\n",
    "p7_fast = get_all_perms(7, True)"
   ]
  },
  {
   "cell_type": "code",
   "execution_count": 18,
   "id": "85ffa9c6",
   "metadata": {},
   "outputs": [
    {
     "name": "stdout",
     "output_type": "stream",
     "text": [
      "Mean column values: [3.5 3.5 3.5 3.5 3.5 3.5 3.5 3.5]\n",
      "Column std: [2.29128785 2.29128785 2.29128785 2.29128785 2.29128785 2.29128785\n",
      " 2.29128785 2.29128785]\n",
      "CPU times: user 118 ms, sys: 3.73 ms, total: 121 ms\n",
      "Wall time: 117 ms\n"
     ]
    }
   ],
   "source": [
    "%%time\n",
    "p8 = get_all_perms(8, False)"
   ]
  },
  {
   "cell_type": "code",
   "execution_count": 19,
   "id": "159013b0",
   "metadata": {},
   "outputs": [
    {
     "name": "stdout",
     "output_type": "stream",
     "text": [
      "Mean column values: [3.5 3.5 3.5 3.5 3.5 3.5 3.5 3.5]\n",
      "Column std: [2.29128785 2.29128785 2.29128785 2.29128785 2.29128785 2.29128785\n",
      " 2.29128785 2.29128785]\n",
      "CPU times: user 101 ms, sys: 0 ns, total: 101 ms\n",
      "Wall time: 99.6 ms\n"
     ]
    }
   ],
   "source": [
    "%%time\n",
    "p8_fast = get_all_perms(8, True)"
   ]
  },
  {
   "cell_type": "code",
   "execution_count": 21,
   "id": "8620f92c",
   "metadata": {},
   "outputs": [
    {
     "name": "stdout",
     "output_type": "stream",
     "text": [
      "Mean column values: [4. 4. 4. 4. 4. 4. 4. 4. 4.]\n",
      "Column std: [2.5819889 2.5819889 2.5819889 2.5819889 2.5819889 2.5819889 2.5819889\n",
      " 2.5819889 2.5819889]\n",
      "CPU times: user 726 ms, sys: 0 ns, total: 726 ms\n",
      "Wall time: 724 ms\n"
     ]
    }
   ],
   "source": [
    "%%time\n",
    "p9 = get_all_perms(9, False)"
   ]
  },
  {
   "cell_type": "code",
   "execution_count": 23,
   "id": "da491d00",
   "metadata": {},
   "outputs": [
    {
     "name": "stdout",
     "output_type": "stream",
     "text": [
      "Mean column values: [4. 4. 4. 4. 4. 4. 4. 4. 4.]\n",
      "Column std: [2.5819889 2.5819889 2.5819889 2.5819889 2.5819889 2.5819889 2.5819889\n",
      " 2.5819889 2.5819889]\n",
      "CPU times: user 581 ms, sys: 0 ns, total: 581 ms\n",
      "Wall time: 579 ms\n"
     ]
    }
   ],
   "source": [
    "%%time\n",
    "p9 = get_all_perms(9, True)"
   ]
  },
  {
   "cell_type": "code",
   "execution_count": 6,
   "id": "ec1af52d",
   "metadata": {},
   "outputs": [],
   "source": [
    "from multiperms import *\n",
    "import numpy as np"
   ]
  },
  {
   "cell_type": "code",
   "execution_count": 7,
   "id": "289a121d",
   "metadata": {},
   "outputs": [],
   "source": [
    "from math import factorial\n",
    "\n",
    "def multinomial_fact(ns):\n",
    "    result = 1\n",
    "    sum = 0\n",
    "    for n in ns:\n",
    "        result *= factorial(n)\n",
    "        sum += n\n",
    "    return factorial(sum) // result"
   ]
  },
  {
   "cell_type": "code",
   "execution_count": 8,
   "id": "5b10a22b",
   "metadata": {},
   "outputs": [
    {
     "name": "stdout",
     "output_type": "stream",
     "text": [
      "1.53 µs ± 19.3 ns per loop (mean ± std. dev. of 7 runs, 1000000 loops each)\n"
     ]
    }
   ],
   "source": [
    "%%timeit\n",
    "multinomial([2, 5, 10])"
   ]
  },
  {
   "cell_type": "code",
   "execution_count": 9,
   "id": "278ba210",
   "metadata": {},
   "outputs": [
    {
     "name": "stdout",
     "output_type": "stream",
     "text": [
      "2.71 µs ± 45.3 ns per loop (mean ± std. dev. of 7 runs, 100000 loops each)\n"
     ]
    }
   ],
   "source": [
    "%%timeit\n",
    "multinomial([10, 5, 2])"
   ]
  },
  {
   "cell_type": "code",
   "execution_count": 10,
   "id": "c6da358c",
   "metadata": {},
   "outputs": [
    {
     "data": {
      "text/plain": [
       "90"
      ]
     },
     "execution_count": 10,
     "metadata": {},
     "output_type": "execute_result"
    }
   ],
   "source": [
    "multinomial([2, 2, 2])"
   ]
  },
  {
   "cell_type": "code",
   "execution_count": 11,
   "id": "657f6be3",
   "metadata": {},
   "outputs": [
    {
     "name": "stdout",
     "output_type": "stream",
     "text": [
      "396 ns ± 1.23 ns per loop (mean ± std. dev. of 7 runs, 1000000 loops each)\n"
     ]
    }
   ],
   "source": [
    "%%timeit\n",
    "multinomial_fact([2, 5, 10])"
   ]
  },
  {
   "cell_type": "code",
   "execution_count": 12,
   "id": "fae36cc8",
   "metadata": {},
   "outputs": [
    {
     "name": "stdout",
     "output_type": "stream",
     "text": [
      "427 ns ± 15.6 ns per loop (mean ± std. dev. of 7 runs, 1000000 loops each)\n"
     ]
    }
   ],
   "source": [
    "%%timeit\n",
    "multinomial_fact([10, 5, 2])"
   ]
  },
  {
   "cell_type": "code",
   "execution_count": 13,
   "id": "3585830d",
   "metadata": {},
   "outputs": [
    {
     "name": "stdout",
     "output_type": "stream",
     "text": [
      "CPU times: user 160 µs, sys: 18 µs, total: 178 µs\n",
      "Wall time: 183 µs\n"
     ]
    },
    {
     "data": {
      "text/plain": [
       "5385767739532458473930198705053828723360253144523655155268062979484577897907829425062550101338275420640799582526161954989809891207875437088569096390819798968109715908325529654407615618147755031578292158539941608689694714448905275207866200574100659688922083055560106367426108943208849509479818543517740686966631927020953418862956499419512450053998790042810316385724904026415918670182711585716258915869694578535213827865297178128908863594435562129579739526"
      ]
     },
     "execution_count": 13,
     "metadata": {},
     "output_type": "execute_result"
    }
   ],
   "source": [
    "%%time\n",
    "N = 10 ** 6\n",
    "multinomial(np.array([100, 2, N]))"
   ]
  },
  {
   "cell_type": "code",
   "execution_count": 14,
   "id": "c4be8c01",
   "metadata": {},
   "outputs": [],
   "source": [
    "from itertools import permutations\n",
    "from more_itertools import distinct_permutations"
   ]
  },
  {
   "cell_type": "code",
   "execution_count": 15,
   "id": "06ae838b",
   "metadata": {},
   "outputs": [
    {
     "name": "stdout",
     "output_type": "stream",
     "text": [
      "27720\n",
      "[0, 0, 0, 1, 1, 1, 1, 2, 2, 2, 2, 2]\n"
     ]
    }
   ],
   "source": [
    "ns = np.array([3, 4, 5])\n",
    "print(multinomial(np.copy(ns)))\n",
    "multiset = []\n",
    "for i, n in enumerate(ns):\n",
    "    multiset.extend(n * [i,])\n",
    "print(multiset)\n",
    "for perm in sorted(distinct_permutations(multiset)):\n",
    "    # print(perm)\n",
    "    index = multiperm2index(np.array(perm), np.copy(ns))\n",
    "    assert np.allclose(perm, index2multiperm(index, np.copy(ns))) "
   ]
  },
  {
   "cell_type": "code",
   "execution_count": 16,
   "id": "8c821ca7",
   "metadata": {},
   "outputs": [
    {
     "name": "stdout",
     "output_type": "stream",
     "text": [
      "CPU times: user 1.28 ms, sys: 103 µs, total: 1.38 ms\n",
      "Wall time: 905 µs\n"
     ]
    },
    {
     "data": {
      "text/plain": [
       "array([0, 0, 0, 2, 1, 1, 2, 2, 2, 2, 2, 2, 1, 1, 2])"
      ]
     },
     "execution_count": 16,
     "metadata": {},
     "output_type": "execute_result"
    }
   ],
   "source": [
    "%%time\n",
    "index2multiperm(198, np.array([3, 4, 8]))"
   ]
  }
 ],
 "metadata": {
  "kernelspec": {
   "display_name": "Python 3 (ipykernel)",
   "language": "python",
   "name": "python3"
  },
  "language_info": {
   "codemirror_mode": {
    "name": "ipython",
    "version": 3
   },
   "file_extension": ".py",
   "mimetype": "text/x-python",
   "name": "python",
   "nbconvert_exporter": "python",
   "pygments_lexer": "ipython3",
   "version": "3.9.7"
  }
 },
 "nbformat": 4,
 "nbformat_minor": 5
}
