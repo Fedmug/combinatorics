{
 "cells": [
  {
   "cell_type": "code",
   "execution_count": 1,
   "id": "277ce715",
   "metadata": {},
   "outputs": [],
   "source": [
    "import numpy as np\n",
    "from combinations import generate_suit_size_distributions, contingency_table, check_lex_order_for, bounded_compositions\n",
    "from pref_contingency_tables import PrefContingencyTable\n",
    "from tqdm import tqdm\n",
    "from sympy.utilities.iterables import multiset_permutations\n",
    "from itertools import combinations\n",
    "from multiperms import multinomial, index2multiperm, multiperm2index"
   ]
  },
  {
   "cell_type": "markdown",
   "id": "493450e6",
   "metadata": {},
   "source": [
    "### NB! Тут описан алгоритм кодирования факторных матриц"
   ]
  },
  {
   "cell_type": "markdown",
   "id": "8b3b2d58",
   "metadata": {},
   "source": [
    "Будем считать, что масти размера $0$ не бывает, тогда количество мастей может быть переменным, от $1$ до $4$. В соответствии с этим факторные матрицы имеют переменное число строк, по числу мастей."
   ]
  },
  {
   "cell_type": "code",
   "execution_count": 2,
   "id": "52eae0fd",
   "metadata": {},
   "outputs": [],
   "source": [
    "def is_sorted_for(a: np.array):\n",
    "    for i in range(a.shape[0] - 1):\n",
    "        if a[i] > a[i + 1]:\n",
    "            return False\n",
    "    return True\n",
    "\n",
    "def get_suit_sizes(n_suits, n_hands=3, max_hand_size=10, max_suit_size=8, reduce=True):\n",
    "    result = []\n",
    "    for hand_size in range(1, min(max_hand_size, n_suits * max_suit_size // n_hands) + 1):\n",
    "        for suit_sizes in bounded_compositions(n_hands * hand_size, n_suits, n_suits * [max_suit_size]):\n",
    "            if np.min(suit_sizes) > 0:\n",
    "                if not reduce or is_sorted_for(suit_sizes[1:]):\n",
    "                    result.append(np.copy(suit_sizes))\n",
    "    return np.vstack(result)\n",
    "\n",
    "def get_contingency_matrices(suit_sizes: np.array, n_hands=3, hand_sizes=None, reduce_perms=True):\n",
    "    '''\n",
    "    Returns all contingency tables with row sums equal to suit_sizes and column sums equal to hands_sizes.\n",
    "    If reduced_perms = true, then rows with equal sums are sorted lexicographically.\n",
    "    '''\n",
    "    matrices = []\n",
    "    for i in range(suit_sizes.shape[0]):\n",
    "        if hand_sizes is None:\n",
    "            hands_sizes = n_hands * [suit_sizes[i].sum() // n_hands]\n",
    "        else:\n",
    "            hands_sizes= hand_sizes\n",
    "        for table in contingency_table(suit_sizes[i], hands_sizes):\n",
    "            if reduce_perms:\n",
    "            # check if equal suit sizes are ordered lexicographically\n",
    "                lex_flag = False\n",
    "                for j in range(1, len(suit_sizes[i]) - 1):\n",
    "                    if suit_sizes[i][j] == suit_sizes[i][j+1] and \\\n",
    "                    not check_lex_order_for(table[j], table[j + 1]):\n",
    "                        lex_flag = True\n",
    "                        break\n",
    "                if lex_flag:\n",
    "                    continue            \n",
    "            matrices.append(np.copy(table)[None, :])\n",
    "    return np.concatenate(matrices, axis=0)"
   ]
  },
  {
   "cell_type": "code",
   "execution_count": 3,
   "id": "884f93e1",
   "metadata": {},
   "outputs": [
    {
     "name": "stdout",
     "output_type": "stream",
     "text": [
      "1560 438\n"
     ]
    }
   ],
   "source": [
    "total = 0 \n",
    "total_reduced = 0\n",
    "for h in range(1, 5):\n",
    "    total += get_suit_sizes(h, reduce=False).shape[0]\n",
    "    total_reduced += get_suit_sizes(h, reduce=True).shape[0]\n",
    "print(total, total_reduced)"
   ]
  },
  {
   "cell_type": "code",
   "execution_count": 55,
   "id": "a98d26dc",
   "metadata": {},
   "outputs": [
    {
     "data": {
      "text/plain": [
       "array([ 1.54308063-0.j,  4.00024374-0.j, 10.067662  -0.j, 27.30823284-0.j])"
      ]
     },
     "execution_count": 55,
     "metadata": {},
     "output_type": "execute_result"
    }
   ],
   "source": [
    "np.cos(np.array([1j, 2.0635j, 3j, 4j]))"
   ]
  },
  {
   "cell_type": "markdown",
   "id": "de122da5",
   "metadata": {},
   "source": [
    "Сначала посмотрим на матрицы сдач в первоначальном состоянии (с прикупом):"
   ]
  },
  {
   "cell_type": "code",
   "execution_count": 4,
   "id": "94a5eea7",
   "metadata": {},
   "outputs": [],
   "source": [
    "mat_all = get_contingency_matrices(np.array([8, 8, 8, 8], dtype=np.int8)[None, :], hand_sizes=[10, 10, 10, 2])\n",
    "mat_all_full = get_contingency_matrices(\n",
    "    np.array([8, 8, 8, 8], dtype=np.int8)[None, :], hand_sizes=[10, 10, 10, 2], reduce_perms=False\n",
    ")"
   ]
  },
  {
   "cell_type": "markdown",
   "id": "d1107c50",
   "metadata": {},
   "source": [
    "За счёт удаления лишних перестановок мастей произсходит сокращение почти ровно в 6 раз:"
   ]
  },
  {
   "cell_type": "code",
   "execution_count": 5,
   "id": "242ec20f",
   "metadata": {},
   "outputs": [
    {
     "data": {
      "text/plain": [
       "((42084, 4, 4), (248358, 4, 4))"
      ]
     },
     "execution_count": 5,
     "metadata": {},
     "output_type": "execute_result"
    }
   ],
   "source": [
    "mat_all.shape, mat_all_full.shape"
   ]
  },
  {
   "cell_type": "markdown",
   "id": "d6771e18",
   "metadata": {},
   "source": [
    "На этапе торговли порядок мастей имеет значение, поэтому надо будет учесть все возможные расклады $32$ карт."
   ]
  },
  {
   "cell_type": "code",
   "execution_count": 6,
   "id": "e2523d8b",
   "metadata": {},
   "outputs": [
    {
     "name": "stderr",
     "output_type": "stream",
     "text": [
      "100%|████████████████████████████████| 248358/248358 [00:06<00:00, 40233.32it/s]\n"
     ]
    }
   ],
   "source": [
    "deal_counts = []\n",
    "for matrix in tqdm(mat_all_full):\n",
    "    count = 1\n",
    "    for row in matrix:\n",
    "        count *= multinomial(row)\n",
    "    deal_counts.append(count)"
   ]
  },
  {
   "cell_type": "code",
   "execution_count": 7,
   "id": "92986d5c",
   "metadata": {},
   "outputs": [
    {
     "data": {
      "text/plain": [
       "(array([442552320000, 497871360000, 590069760000, 663828480000,\n",
       "        885104640000]),\n",
       " array([384,  36,  72,  72,  90]))"
      ]
     },
     "execution_count": 7,
     "metadata": {},
     "output_type": "execute_result"
    }
   ],
   "source": [
    "vals, cnts = np.unique(deal_counts, return_counts=True)\n",
    "vals[-5:], cnts[-5:]"
   ]
  },
  {
   "cell_type": "markdown",
   "id": "9eb5787f",
   "metadata": {},
   "source": [
    "Максимально имеем почти триллион раскладов на одну матрицу, что потребует $40$ бит для кодирования, остальные $24$ надо употребить на саму матрицу. Две карты прикупа можно разбросать десятью способами по мастям: $4$ одной масти и $\\binom 42 = 6$ разных мастей. Таким образом, последний столбец матрицы требует 4 бита для кодирования. Например:\n",
    "\n",
    "|  code  | column    |\n",
    "| :----: | :-----:   |\n",
    "| 0000   | [2,0,0,0] | \n",
    "| 0001   | [0,2,0,0] | \n",
    "| 0010   | [0,0,2,0] | \n",
    "| 0111   | [0,0,0,2] | \n",
    "| 0011   | [0,0,1,1] | \n",
    "| 0101   | [0,1,0,1] | \n",
    "| 0110   | [0,1,1,0] | \n",
    "| 1001   | [1,0,0,1] | \n",
    "| 1010   | [1,0,1,0] |\n",
    "| 1100   | [1,1,0,0] | \n",
    "\n",
    "Коды $0100$, $1000$, $1011$, $1101$, $1110$, $1111$ пока остаются свободными."
   ]
  },
  {
   "cell_type": "markdown",
   "id": "114b8aac",
   "metadata": {},
   "source": [
    "Из оставшейся матрицы размера $4\\times 3$ достаточно хранить $6$ чисел из левой верхней подматрицы размера $3\\times 2$, поскольку оставшиеся значения восстанавливаются по известным суммам строк и столбцов. Матрица содержит числа от $0$ до $8$, причём появление числа $8$ в строке означает, что все остальные значения строки равны нулю. Поэтому будем записывать числа $0$ до $7$ как есть (для этого нужно 3 бита); если же первые два числа в строке равны $(0, 8)$ или $(8, 0)$, то запишем их как $(2, 7)$ или $(7, 2)$ соответственно. Таким образом, все матрицы размера $4\\times 3$ требуют для хранения $18$ бит, а матрицы с меньшим числом мастей — ещё меньше. "
   ]
  },
  {
   "cell_type": "code",
   "execution_count": 13,
   "id": "8f708048",
   "metadata": {},
   "outputs": [
    {
     "data": {
      "text/plain": [
       "array([[4, 4, 0, 0],\n",
       "       [0, 3, 4, 1],\n",
       "       [1, 3, 3, 1],\n",
       "       [5, 0, 3, 0]])"
      ]
     },
     "execution_count": 13,
     "metadata": {},
     "output_type": "execute_result"
    }
   ],
   "source": [
    "np.random.seed(2482359)\n",
    "m = mat_all_full[np.random.randint(248358)]\n",
    "m"
   ]
  },
  {
   "cell_type": "code",
   "execution_count": 14,
   "id": "6551c29c",
   "metadata": {},
   "outputs": [],
   "source": [
    "def check_matrix(matrix):\n",
    "    pct = PrefContingencyTable(matrix)\n",
    "    index = hash(pct)\n",
    "    matrix_from_index = PrefContingencyTable.from_hash(index).matrix\n",
    "    assert np.all(matrix == matrix_from_index), f\"{matrix} != {matrix_from_index}\"\n",
    "    return index"
   ]
  },
  {
   "cell_type": "code",
   "execution_count": 15,
   "id": "f3a2354c",
   "metadata": {},
   "outputs": [
    {
     "data": {
      "text/plain": [
       "♠ 4400\n",
       "♣ 0341\n",
       "♦ 1331\n",
       "♥ 5030"
      ]
     },
     "execution_count": 15,
     "metadata": {},
     "output_type": "execute_result"
    }
   ],
   "source": [
    "pct = PrefContingencyTable(m)\n",
    "PrefContingencyTable.from_hash(hash(pct))"
   ]
  },
  {
   "cell_type": "code",
   "execution_count": 16,
   "id": "7c7359af",
   "metadata": {},
   "outputs": [],
   "source": [
    "def check_matrix_array(matrices):\n",
    "    max_hash = 0\n",
    "    for matrix in tqdm(matrices):\n",
    "        max_hash = max(max_hash, check_matrix(matrix))\n",
    "    return max_hash"
   ]
  },
  {
   "cell_type": "code",
   "execution_count": 17,
   "id": "6bd024bf",
   "metadata": {},
   "outputs": [
    {
     "name": "stderr",
     "output_type": "stream",
     "text": [
      "100%|███████████████████████████████████| 42084/42084 [00:06<00:00, 6490.64it/s]\n"
     ]
    },
    {
     "data": {
      "text/plain": [
       "15271400"
      ]
     },
     "execution_count": 17,
     "metadata": {},
     "output_type": "execute_result"
    }
   ],
   "source": [
    "check_matrix_array(mat_all)"
   ]
  },
  {
   "cell_type": "code",
   "execution_count": 18,
   "id": "52672ac0",
   "metadata": {},
   "outputs": [
    {
     "name": "stderr",
     "output_type": "stream",
     "text": [
      "100%|█████████████████████████████████| 248358/248358 [00:37<00:00, 6600.69it/s]\n"
     ]
    },
    {
     "data": {
      "text/plain": [
       "15299748"
      ]
     },
     "execution_count": 18,
     "metadata": {},
     "output_type": "execute_result"
    }
   ],
   "source": [
    "check_matrix_array(mat_all_full)"
   ]
  },
  {
   "cell_type": "markdown",
   "id": "da978ea9",
   "metadata": {},
   "source": [
    "### Схема кодирования"
   ]
  },
  {
   "cell_type": "markdown",
   "id": "1fc59f29",
   "metadata": {},
   "source": [
    "У матриц, которые возникают во время розыгрыша, может быть различное количество мастей, их размеров, а также размеров рук (в отличие от матриц первоначального этапа сдачи с жёстко фиксированными размерами рук и мастей). Поэтому требуется хранить также размеры мастей в количестве до $4$ штук, со значениями от $1$ до $8$. Максимально для этого понадобится $12$ бит, что вместе с $18$-ю битами для матрицы составляет $30$ бит. За границу четырёх байт лучше не вылезать (чтобы сведения о матрицах без раскладов умещались в 32-битный int). С этой целью выделим два младших бита для диспатчинга:\n",
    "\n",
    "* $00$: матрица полного расклада с мастями размера $[8, 8, 8, 8]$ и руками длин $[10, 10, 10, 2]$; далее $4 + 18 + 40 = 62$ бита предназначены для кодирования последнего столбца, верхней левой подматрицы и самого расклада; всё вместе идеально влазит в $64$-битный int; \n",
    "\n",
    "* $01$: матрица розыгрыша $10$-го этапа с руками длин $[10, 10, 10]$; размеры мастей восстанавливаются по тем же $4$ битам, что и в предыдущем случае; биты с 25-го по 28-й бит показывают козырную масть или её отсутствие;\n",
    "\n",
    "* $10$: матрица розыгрыша этапов $1$—$9$ с четырьмя мастями; далее $12 + 18 =30$ бит отводятся для размеров мастей и факторной матрицы; 33-й бит показывает наличие козыря;\n",
    "\n",
    "* $11$:  матрица розыгрыша этапов $1$—$8$ с $<4$ мастями; следующие два бита содержат число мастей, потом снова размеры мастей сами матрицы; 33-й бит показывает наличие козыря."
   ]
  },
  {
   "cell_type": "markdown",
   "id": "1c0f722b",
   "metadata": {},
   "source": [
    "Теперь посмотрим, сколько матриц для числа мастей от 1 до 4 с разными режимами сокращений, и проверим хеширование на них."
   ]
  },
  {
   "cell_type": "code",
   "execution_count": 19,
   "id": "59b67ef4",
   "metadata": {},
   "outputs": [
    {
     "name": "stdout",
     "output_type": "stream",
     "text": [
      "(2, 3) (2, 3) (2, 3)\n"
     ]
    },
    {
     "name": "stderr",
     "output_type": "stream",
     "text": [
      "100%|███████████████████████████████████████████| 2/2 [00:00<00:00, 3339.41it/s]\n"
     ]
    },
    {
     "name": "stdout",
     "output_type": "stream",
     "text": [
      "87\n"
     ]
    },
    {
     "name": "stderr",
     "output_type": "stream",
     "text": [
      "100%|███████████████████████████████████████████| 2/2 [00:00<00:00, 2077.42it/s]\n"
     ]
    },
    {
     "name": "stdout",
     "output_type": "stream",
     "text": [
      "87\n"
     ]
    },
    {
     "name": "stderr",
     "output_type": "stream",
     "text": [
      "100%|███████████████████████████████████████████| 2/2 [00:00<00:00, 4249.55it/s]"
     ]
    },
    {
     "name": "stdout",
     "output_type": "stream",
     "text": [
      "87\n"
     ]
    },
    {
     "name": "stderr",
     "output_type": "stream",
     "text": [
      "\n"
     ]
    }
   ],
   "source": [
    "mat1 = get_contingency_matrices(get_suit_sizes(1))\n",
    "mat1_full = get_contingency_matrices(get_suit_sizes(1), reduce_perms=False)\n",
    "mat1_full_full = get_contingency_matrices(get_suit_sizes(1, reduce=False), reduce_perms=False)\n",
    "print(mat1.shape, mat1_full.shape, mat1_full_full.shape)\n",
    "print(check_matrix_array(mat1))\n",
    "print(check_matrix_array(mat1_full))\n",
    "print(check_matrix_array(mat1_full_full))"
   ]
  },
  {
   "cell_type": "code",
   "execution_count": 22,
   "id": "7b334947",
   "metadata": {},
   "outputs": [
    {
     "name": "stdout",
     "output_type": "stream",
     "text": [
      "(232, 2, 3) (232, 2, 3) (232, 2, 3)\n"
     ]
    },
    {
     "name": "stderr",
     "output_type": "stream",
     "text": [
      "100%|███████████████████████████████████████| 232/232 [00:00<00:00, 4577.49it/s]\n"
     ]
    },
    {
     "name": "stdout",
     "output_type": "stream",
     "text": [
      "44923\n"
     ]
    },
    {
     "name": "stderr",
     "output_type": "stream",
     "text": [
      "100%|███████████████████████████████████████| 232/232 [00:00<00:00, 6761.72it/s]\n"
     ]
    },
    {
     "name": "stdout",
     "output_type": "stream",
     "text": [
      "44923\n"
     ]
    },
    {
     "name": "stderr",
     "output_type": "stream",
     "text": [
      "100%|███████████████████████████████████████| 232/232 [00:00<00:00, 8429.52it/s]"
     ]
    },
    {
     "name": "stdout",
     "output_type": "stream",
     "text": [
      "44923\n"
     ]
    },
    {
     "name": "stderr",
     "output_type": "stream",
     "text": [
      "\n"
     ]
    }
   ],
   "source": [
    "mat2 = get_contingency_matrices(get_suit_sizes(2))\n",
    "mat2_full = get_contingency_matrices(get_suit_sizes(2), reduce_perms=False)\n",
    "mat2_full_full = get_contingency_matrices(get_suit_sizes(2, reduce=False), reduce_perms=False)\n",
    "print(mat2.shape, mat2_full.shape, mat2_full_full.shape)\n",
    "print(check_matrix_array(mat2))\n",
    "print(check_matrix_array(mat2_full))\n",
    "print(check_matrix_array(mat2_full_full))"
   ]
  },
  {
   "cell_type": "code",
   "execution_count": 23,
   "id": "3fcd4aa1",
   "metadata": {},
   "outputs": [
    {
     "data": {
      "text/plain": [
       "array([[[1, 1, 0],\n",
       "        [0, 0, 1]],\n",
       "\n",
       "       [[1, 0, 1],\n",
       "        [0, 1, 0]],\n",
       "\n",
       "       [[0, 1, 1],\n",
       "        [1, 0, 0]],\n",
       "\n",
       "       ...,\n",
       "\n",
       "       [[2, 0, 5],\n",
       "        [3, 5, 0]],\n",
       "\n",
       "       [[1, 1, 5],\n",
       "        [4, 4, 0]],\n",
       "\n",
       "       [[0, 2, 5],\n",
       "        [5, 3, 0]]])"
      ]
     },
     "execution_count": 23,
     "metadata": {},
     "output_type": "execute_result"
    }
   ],
   "source": [
    "mat2"
   ]
  },
  {
   "cell_type": "code",
   "execution_count": 17,
   "id": "90935f31",
   "metadata": {},
   "outputs": [
    {
     "name": "stdout",
     "output_type": "stream",
     "text": [
      "(13059, 3, 3) (15339, 3, 3) (26018, 3, 3)\n"
     ]
    },
    {
     "name": "stderr",
     "output_type": "stream",
     "text": [
      "100%|██████████████████████████████████| 13059/13059 [00:00<00:00, 15569.03it/s]\n"
     ]
    },
    {
     "name": "stdout",
     "output_type": "stream",
     "text": [
      "30474239\n"
     ]
    },
    {
     "name": "stderr",
     "output_type": "stream",
     "text": [
      "100%|██████████████████████████████████| 15339/15339 [00:00<00:00, 15786.21it/s]\n"
     ]
    },
    {
     "name": "stdout",
     "output_type": "stream",
     "text": [
      "30605311\n"
     ]
    },
    {
     "name": "stderr",
     "output_type": "stream",
     "text": [
      "100%|██████████████████████████████████| 26018/26018 [00:01<00:00, 15958.40it/s]"
     ]
    },
    {
     "name": "stdout",
     "output_type": "stream",
     "text": [
      "30605311\n"
     ]
    },
    {
     "name": "stderr",
     "output_type": "stream",
     "text": [
      "\n"
     ]
    }
   ],
   "source": [
    "mat3 = get_contingency_matrices(get_suit_sizes(3))\n",
    "mat3_full = get_contingency_matrices(get_suit_sizes(3), reduce_perms=False)\n",
    "mat3_full_full = get_contingency_matrices(get_suit_sizes(3, reduce=False), reduce_perms=False)\n",
    "print(mat3.shape, mat3_full.shape, mat3_full_full.shape)\n",
    "print(check_matrix_array(mat3))\n",
    "print(check_matrix_array(mat3_full))\n",
    "print(check_matrix_array(mat3_full_full))"
   ]
  },
  {
   "cell_type": "code",
   "execution_count": 18,
   "id": "ebbc1301",
   "metadata": {},
   "outputs": [
    {
     "name": "stdout",
     "output_type": "stream",
     "text": [
      "(550727, 4, 3) (843818, 4, 3) (3265636, 4, 3)\n"
     ]
    },
    {
     "name": "stderr",
     "output_type": "stream",
     "text": [
      "100%|████████████████████████████████| 550727/550727 [00:39<00:00, 14004.30it/s]\n"
     ]
    },
    {
     "name": "stdout",
     "output_type": "stream",
     "text": [
      "3907043278\n"
     ]
    },
    {
     "name": "stderr",
     "output_type": "stream",
     "text": [
      "100%|████████████████████████████████| 843818/843818 [01:00<00:00, 13871.87it/s]\n"
     ]
    },
    {
     "name": "stdout",
     "output_type": "stream",
     "text": [
      "3916595178\n"
     ]
    },
    {
     "name": "stderr",
     "output_type": "stream",
     "text": [
      "100%|██████████████████████████████| 3265636/3265636 [03:54<00:00, 13911.21it/s]"
     ]
    },
    {
     "name": "stdout",
     "output_type": "stream",
     "text": [
      "3916595178\n"
     ]
    },
    {
     "name": "stderr",
     "output_type": "stream",
     "text": [
      "\n"
     ]
    }
   ],
   "source": [
    "mat4 = get_contingency_matrices(get_suit_sizes(4))\n",
    "mat4_full = get_contingency_matrices(get_suit_sizes(4), reduce_perms=False)\n",
    "mat4_full_full = get_contingency_matrices(get_suit_sizes(4, reduce=False), reduce_perms=False)\n",
    "print(mat4.shape, mat4_full.shape, mat4_full_full.shape)\n",
    "print(check_matrix_array(mat4))\n",
    "print(check_matrix_array(mat4_full))\n",
    "print(check_matrix_array(mat4_full_full))"
   ]
  },
  {
   "cell_type": "markdown",
   "id": "faeb2b85",
   "metadata": {},
   "source": [
    "По очевидным причинам разница есть только, когда масти 3 или 4. Наибольшую выгоду даёт сортировка размеров мастей. А кодировать можно матрицы с любыми режимам сокращений."
   ]
  },
  {
   "cell_type": "code",
   "execution_count": 15,
   "id": "016d704d",
   "metadata": {},
   "outputs": [],
   "source": [
    "from collections import defaultdict\n",
    "\n",
    "def matrix_stats(all_matrices):\n",
    "    moves = defaultdict(list)\n",
    "    deals = defaultdict(list)\n",
    "    for matrices in all_matrices:\n",
    "        for matrix in matrices:\n",
    "            hand_size = np.sum(matrix) // 3\n",
    "            pct = PrefContingencyTable(matrix, True)\n",
    "            moves[hand_size].append(pct.count_moves())\n",
    "            deals[hand_size].append(pct.count_deals())\n",
    "    return moves, deals"
   ]
  },
  {
   "cell_type": "code",
   "execution_count": 36,
   "id": "3041c83c",
   "metadata": {},
   "outputs": [],
   "source": [
    "deals, moves = matrix_stats([mat1, mat2, mat3, mat4])"
   ]
  },
  {
   "cell_type": "code",
   "execution_count": 50,
   "id": "42477408",
   "metadata": {},
   "outputs": [
    {
     "data": {
      "text/plain": [
       "array([6.        , 2.21688445, 2.21192057])"
      ]
     },
     "execution_count": 50,
     "metadata": {},
     "output_type": "execute_result"
    }
   ],
   "source": [
    "hand_size = 6\n",
    "np.average(np.vstack(deals[hand_size]), axis=0, weights=moves[hand_size])"
   ]
  },
  {
   "cell_type": "code",
   "execution_count": 5,
   "id": "f373d112",
   "metadata": {},
   "outputs": [
    {
     "data": {
      "text/plain": [
       "array([[0, 6, 2],\n",
       "       [2, 2, 1],\n",
       "       [6, 0, 0],\n",
       "       [1, 1, 6]])"
      ]
     },
     "execution_count": 5,
     "metadata": {},
     "output_type": "execute_result"
    }
   ],
   "source": [
    "pct = PrefContingencyTable(mat4[np.random.randint(mat4.shape[0])], True)\n",
    "pct.matrix"
   ]
  },
  {
   "cell_type": "code",
   "execution_count": 7,
   "id": "5c7b4d00",
   "metadata": {},
   "outputs": [
    {
     "data": {
      "text/plain": [
       "(47040, array([9.        , 4.55555556, 2.        ]))"
      ]
     },
     "execution_count": 7,
     "metadata": {},
     "output_type": "execute_result"
    }
   ],
   "source": [
    "pct.count_deals(), pct.count_moves(reduce=False)"
   ]
  },
  {
   "cell_type": "code",
   "execution_count": 20,
   "id": "920da71c",
   "metadata": {},
   "outputs": [
    {
     "data": {
      "text/plain": [
       "(47040, array([3.        , 1.33333333, 1.25      ]))"
      ]
     },
     "execution_count": 20,
     "metadata": {},
     "output_type": "execute_result"
    }
   ],
   "source": [
    "pct.count_deals(), pct.count_moves(reduce=True, suit_moves=suit_moves)"
   ]
  },
  {
   "cell_type": "code",
   "execution_count": 8,
   "id": "9b5c38d7",
   "metadata": {},
   "outputs": [
    {
     "data": {
      "text/plain": [
       "True"
      ]
     },
     "execution_count": 8,
     "metadata": {},
     "output_type": "execute_result"
    }
   ],
   "source": [
    "pct.trump"
   ]
  },
  {
   "cell_type": "code",
   "execution_count": 23,
   "id": "5df700a3",
   "metadata": {},
   "outputs": [
    {
     "data": {
      "text/plain": [
       "array([2., 2., 2.])"
      ]
     },
     "execution_count": 23,
     "metadata": {},
     "output_type": "execute_result"
    }
   ],
   "source": [
    "PrefContingencyTable(mat1[1], False).count_moves()"
   ]
  },
  {
   "cell_type": "code",
   "execution_count": 16,
   "id": "5e7c5c76",
   "metadata": {},
   "outputs": [
    {
     "data": {
      "text/plain": [
       "5644800"
      ]
     },
     "execution_count": 16,
     "metadata": {},
     "output_type": "execute_result"
    }
   ],
   "source": [
    "PrefContingencyTable(mat4[-1121], False).count_deals()"
   ]
  },
  {
   "cell_type": "code",
   "execution_count": 24,
   "id": "cc991951",
   "metadata": {},
   "outputs": [
    {
     "data": {
      "text/plain": [
       "array([[0],\n",
       "       [2],\n",
       "       [3]])"
      ]
     },
     "execution_count": 24,
     "metadata": {},
     "output_type": "execute_result"
    }
   ],
   "source": [
    "np.argwhere(mat4[-1121, :, 0] > 0)"
   ]
  },
  {
   "cell_type": "code",
   "execution_count": 27,
   "id": "199f8984",
   "metadata": {},
   "outputs": [
    {
     "data": {
      "text/plain": [
       "array([[1, 2, 3],\n",
       "       [0, 6, 2],\n",
       "       [2, 2, 4],\n",
       "       [7, 0, 1]])"
      ]
     },
     "execution_count": 27,
     "metadata": {},
     "output_type": "execute_result"
    }
   ],
   "source": [
    "mat4[-1121]"
   ]
  },
  {
   "cell_type": "code",
   "execution_count": 36,
   "id": "2d1a35ce",
   "metadata": {},
   "outputs": [
    {
     "data": {
      "text/plain": [
       "array([[ 1,  2,  3],\n",
       "       [ 2,  4, 12],\n",
       "       [14,  0, 12]])"
      ]
     },
     "execution_count": 36,
     "metadata": {},
     "output_type": "execute_result"
    }
   ],
   "source": [
    "mat4[-1121][np.where(mat4[-1121, :, 0] > 0)].cumprod(axis=0)"
   ]
  },
  {
   "cell_type": "code",
   "execution_count": 31,
   "id": "0ef9be90",
   "metadata": {},
   "outputs": [
    {
     "data": {
      "text/plain": [
       "array([[1, 2, 3],\n",
       "       [0, 6, 2],\n",
       "       [2, 2, 4],\n",
       "       [7, 0, 1]])"
      ]
     },
     "execution_count": 31,
     "metadata": {},
     "output_type": "execute_result"
    }
   ],
   "source": [
    "m = np.copy(mat4[-1121])\n",
    "m"
   ]
  },
  {
   "cell_type": "code",
   "execution_count": 33,
   "id": "13f9ef49",
   "metadata": {},
   "outputs": [
    {
     "data": {
      "text/plain": [
       "array([[1, 2, 3],\n",
       "       [2, 2, 4],\n",
       "       [7, 0, 1]])"
      ]
     },
     "execution_count": 33,
     "metadata": {},
     "output_type": "execute_result"
    }
   ],
   "source": [
    "m[np.where(m[:, 0] > 0)]"
   ]
  },
  {
   "cell_type": "code",
   "execution_count": 9,
   "id": "7869f2d3",
   "metadata": {},
   "outputs": [
    {
     "data": {
      "text/plain": [
       "(843818, 4, 3)"
      ]
     },
     "execution_count": 9,
     "metadata": {},
     "output_type": "execute_result"
    }
   ],
   "source": [
    "get_contingency_matrices(get_suit_sizes(4), reduce_perms=False).shape"
   ]
  },
  {
   "cell_type": "code",
   "execution_count": 40,
   "id": "f5f44962",
   "metadata": {},
   "outputs": [
    {
     "data": {
      "text/plain": [
       "True"
      ]
     },
     "execution_count": 40,
     "metadata": {},
     "output_type": "execute_result"
    }
   ],
   "source": [
    "np.allclose(mat2.reshape((-1, 3)), np.vstack(mat2)) "
   ]
  },
  {
   "cell_type": "markdown",
   "id": "a4d8d9df",
   "metadata": {},
   "source": [
    "#### Далее идёт что-то о подсчёте распределения числа взяток между руками при фиксированных размерах мастей"
   ]
  },
  {
   "cell_type": "code",
   "execution_count": 13,
   "id": "c15992e5",
   "metadata": {},
   "outputs": [],
   "source": [
    "def perm2suit(perm, n_hands=3):\n",
    "    result = [[] for i in range(n_hands)]\n",
    "    for i, hand_index in enumerate(perm):\n",
    "        result[hand_index].append(i)\n",
    "    return result\n",
    "\n",
    "class TrickCounter:\n",
    "    def __init__(self, n_hands=3, reduce=True):\n",
    "        self.trick = []\n",
    "        self.reduce = reduce\n",
    "        self.result = np.zeros(n_hands, dtype=np.int32)\n",
    "        \n",
    "    def __call__(self, suit):\n",
    "        for i, card in enumerate(suit[0]):\n",
    "            if self.reduce and i + 1 < len(suit[0]) and card + 1 == suit[0][i + 1]:\n",
    "                continue\n",
    "            self.trick.append(card)\n",
    "            if len(suit) > 1:\n",
    "                self(suit[1:])\n",
    "            else:\n",
    "                self.result[np.argmax(self.trick)] += 1\n",
    "            self.trick.pop()\n",
    "            \n",
    "    def count(self):\n",
    "        return self.result\n",
    "\n",
    "class SuitTricksCounter:\n",
    "    def __init__(self, suit_sizes, n_hands):\n",
    "        self.suit_sizes = suit_sizes\n",
    "        self.cards = list(range(sum(suit_sizes)))\n",
    "        self.cards_by_hand = []\n",
    "        self.total = np.zeros(n_hands, dtype=np.int32)\n",
    "        self.total_reduced = np.zeros(n_hands, dtype=np.int32)\n",
    "        \n",
    "    def __call__(self, hands_in_play: list):\n",
    "        for hand_cards in combinations(self.cards, self.suit_sizes[hands_in_play[0]]):\n",
    "            self.cards_by_hand.append(list(hand_cards))\n",
    "            self.cards = sorted(list(set(self.cards) - set(hand_cards)))\n",
    "            if len(hands_in_play) > 1:    \n",
    "                self(hands_in_play[1:])\n",
    "            else:\n",
    "                # print(\"Hands in play:\", hands_in_play)\n",
    "                # print(\"Cards by hand:\", self.cards_by_hand)\n",
    "                # print(\"Total shape:\", self.total.shape)\n",
    "                trick_counter = TrickCounter(len(self.cards_by_hand), reduce=False)\n",
    "                trick_counter(self.cards_by_hand)\n",
    "                self.total += trick_counter.count()\n",
    "                trick_counter = TrickCounter(len(self.cards_by_hand), reduce=True)\n",
    "                trick_counter(self.cards_by_hand)\n",
    "                self.total_reduced += trick_counter.count()\n",
    "            self.cards_by_hand.pop()\n",
    "            self.cards.extend(hand_cards)\n",
    "            self.cards = sorted(self.cards)\n",
    "    \n",
    "    def count(self):\n",
    "        return self.total, self.total_reduced\n",
    "        \n",
    "            \n",
    "def count_takers(suit_sizes: np.array, hands_in_play: list, reduce=True):\n",
    "    hand_list = []\n",
    "    for i in range(len(suit_sizes)):\n",
    "        hand_list.extend(suit_sizes[i] * [i,])\n",
    "    total = np.zeros(len(hands_in_play), dtype=np.int32)\n",
    "    for perm in multiset_permutations(hand_list):\n",
    "        suit = perm2suit(perm, len(hands_in_play))\n",
    "        trick_counter = TrickCounter(len(hands_in_play), reduce=reduce)\n",
    "        trick_counter([suit[i] for i in hands_in_play])\n",
    "        total += trick_counter.count()\n",
    "    return total"
   ]
  },
  {
   "cell_type": "code",
   "execution_count": 14,
   "id": "1b1c25bf",
   "metadata": {},
   "outputs": [],
   "source": [
    "def count_reduced_moves(suit_sizes):\n",
    "    result = np.zeros(len(suit_sizes))\n",
    "    hand_list = []\n",
    "    for i in range(len(suit_sizes)):\n",
    "        hand_list.extend(suit_sizes[i] * [i,])\n",
    "    total_perms = 0\n",
    "    for perm in multiset_permutations(hand_list):\n",
    "        total_perms += 1\n",
    "        card_indices_by_hand = perm2suit(perm, len(suit_sizes))\n",
    "        for i, card_indices in enumerate(card_indices_by_hand):\n",
    "            for j, card in enumerate(card_indices):\n",
    "                if j + 1 == len(card_indices) or card + 1 != card_indices[j + 1]:\n",
    "                    result[i] += 1\n",
    "    result /= total_perms\n",
    "    return result"
   ]
  },
  {
   "cell_type": "code",
   "execution_count": 15,
   "id": "443a25d7",
   "metadata": {},
   "outputs": [
    {
     "data": {
      "text/plain": [
       "array([1.6, 1.6, 1. ])"
      ]
     },
     "execution_count": 15,
     "metadata": {},
     "output_type": "execute_result"
    }
   ],
   "source": [
    "count_reduced_moves([2, 2, 1])"
   ]
  },
  {
   "cell_type": "code",
   "execution_count": 26,
   "id": "da2fe006",
   "metadata": {},
   "outputs": [
    {
     "name": "stdout",
     "output_type": "stream",
     "text": [
      "[0, 1, 1, 1, 1, 1, 1] [[0], [1, 2, 3, 4, 5, 6], []]\n",
      "[1, 0, 1, 1, 1, 1, 1] [[1], [0, 2, 3, 4, 5, 6], []]\n",
      "[1, 1, 0, 1, 1, 1, 1] [[2], [0, 1, 3, 4, 5, 6], []]\n",
      "[1, 1, 1, 0, 1, 1, 1] [[3], [0, 1, 2, 4, 5, 6], []]\n",
      "[1, 1, 1, 1, 0, 1, 1] [[4], [0, 1, 2, 3, 5, 6], []]\n",
      "[1, 1, 1, 1, 1, 0, 1] [[5], [0, 1, 2, 3, 4, 6], []]\n",
      "[1, 1, 1, 1, 1, 1, 0] [[6], [0, 1, 2, 3, 4, 5], []]\n"
     ]
    }
   ],
   "source": [
    "hand_list = []\n",
    "suit_sizes = [1, 6, 0]\n",
    "for i in range(len(suit_sizes)):\n",
    "    hand_list.extend(suit_sizes[i] * [i,])\n",
    "for perm in multiset_permutations(hand_list):\n",
    "    print(perm, perm2suit(perm))"
   ]
  },
  {
   "cell_type": "code",
   "execution_count": 19,
   "id": "ce1e6bd0",
   "metadata": {},
   "outputs": [
    {
     "data": {
      "text/plain": [
       "[[], [2], []]"
      ]
     },
     "execution_count": 19,
     "metadata": {},
     "output_type": "execute_result"
    }
   ],
   "source": [
    "s = [[] for i in range(3)]\n",
    "s[1].append(2)\n",
    "s"
   ]
  },
  {
   "cell_type": "code",
   "execution_count": 112,
   "id": "0f91757c",
   "metadata": {},
   "outputs": [
    {
     "name": "stdout",
     "output_type": "stream",
     "text": [
      "(array([180, 180], dtype=int32), array([126, 126], dtype=int32))\n"
     ]
    }
   ],
   "source": [
    "suit_sizes = np.array([2, 2, 2], dtype=np.int8)\n",
    "stc = SuitTricksCounter(suit_sizes, 2)\n",
    "hands_in_play = [1, 2]\n",
    "stc(hands_in_play)\n",
    "print(stc.count())"
   ]
  },
  {
   "cell_type": "code",
   "execution_count": 21,
   "id": "c2d8de48",
   "metadata": {},
   "outputs": [],
   "source": [
    "suit_tricks = {}\n",
    "suit_tricks_reduced = {}\n",
    "for n in range(1, 9):\n",
    "    for s in bounded_compositions(n, 2, [8, 8]):\n",
    "        if s.min() > 0:\n",
    "            # print(s)\n",
    "            stc_2 = SuitTricksCounter(s, 2)\n",
    "            stc_2([0, 1])\n",
    "            suit_counts_2 = stc_2.count()\n",
    "            stc_1 = SuitTricksCounter(s, 1)\n",
    "            stc_1([1,])\n",
    "            suit_counts_1 = stc_1.count()\n",
    "            suit_tricks[tuple(s)] = (suit_counts_2[0][0], suit_counts_1[0][0])\n",
    "            suit_tricks_reduced[tuple(s)] = (suit_counts_2[1][0], suit_counts_1[1][0])"
   ]
  },
  {
   "cell_type": "code",
   "execution_count": 22,
   "id": "ccb4001b",
   "metadata": {},
   "outputs": [],
   "source": [
    "for n in range(1, 9):\n",
    "    for s in bounded_compositions(n, 3, [8, 8, 8]):\n",
    "        if s.min() > 0:\n",
    "            # print(s)\n",
    "            stc_3 = SuitTricksCounter(s, 3)\n",
    "            stc_3([0, 1, 2])\n",
    "            suit_counts_3 = stc_3.count()\n",
    "            \n",
    "            stc_1_2 = SuitTricksCounter(s, 2)\n",
    "            stc_1_2([1, 2])\n",
    "            suit_counts_1_2 = stc_1_2.count()\n",
    "            \n",
    "            stc_1 = SuitTricksCounter(s, 1)\n",
    "            stc_1([1,])\n",
    "            suit_counts_1 = stc_1.count()\n",
    "            \n",
    "            stc_2 = SuitTricksCounter(s, 1)\n",
    "            stc_2([2,])\n",
    "            suit_counts_2 = stc_2.count()\n",
    "            suit_tricks[tuple(s)] = (suit_counts_3[0][0], suit_counts_1_2[0][0],\n",
    "                                     suit_counts_1[0][0], suit_counts_2[0][0])\n",
    "            suit_tricks_reduced[tuple(s)] = (suit_counts_3[1][0], suit_counts_1_2[1][0],\n",
    "                                             suit_counts_1[1][0], suit_counts_2[1][0])"
   ]
  },
  {
   "cell_type": "code",
   "execution_count": 24,
   "id": "822bda9c",
   "metadata": {},
   "outputs": [
    {
     "name": "stdout",
     "output_type": "stream",
     "text": [
      "(1, 1) (1, 2)\n",
      "(2, 1) (3, 3)\n",
      "(1, 2) (3, 6)\n",
      "(3, 1) (6, 4)\n",
      "(2, 2) (12, 12)\n",
      "(1, 3) (6, 12)\n",
      "(4, 1) (10, 5)\n",
      "(3, 2) (30, 20)\n",
      "(2, 3) (30, 30)\n",
      "(1, 4) (10, 20)\n",
      "(5, 1) (15, 6)\n",
      "(4, 2) (60, 30)\n",
      "(3, 3) (90, 60)\n",
      "(2, 4) (60, 60)\n",
      "(1, 5) (15, 30)\n",
      "(6, 1) (21, 7)\n",
      "(5, 2) (105, 42)\n",
      "(4, 3) (210, 105)\n",
      "(3, 4) (210, 140)\n",
      "(2, 5) (105, 105)\n",
      "(1, 6) (21, 42)\n",
      "(7, 1) (28, 8)\n",
      "(6, 2) (168, 56)\n",
      "(5, 3) (420, 168)\n",
      "(4, 4) (560, 280)\n",
      "(3, 5) (420, 280)\n",
      "(2, 6) (168, 168)\n",
      "(1, 7) (28, 56)\n",
      "(1, 1, 1) (2, 3, 3, 3)\n",
      "(2, 1, 1) (8, 6, 4, 4)\n",
      "(1, 2, 1) (8, 12, 12, 4)\n",
      "(1, 1, 2) (8, 12, 4, 12)\n",
      "(3, 1, 1) (20, 10, 5, 5)\n",
      "(2, 2, 1) (40, 30, 20, 5)\n",
      "(1, 3, 1) (20, 30, 30, 5)\n",
      "(2, 1, 2) (40, 30, 5, 20)\n",
      "(1, 2, 2) (40, 60, 20, 20)\n",
      "(1, 1, 3) (20, 30, 5, 30)\n",
      "(4, 1, 1) (40, 15, 6, 6)\n",
      "(3, 2, 1) (120, 60, 30, 6)\n",
      "(2, 3, 1) (120, 90, 60, 6)\n",
      "(1, 4, 1) (40, 60, 60, 6)\n",
      "(3, 1, 2) (120, 60, 6, 30)\n",
      "(2, 2, 2) (240, 180, 30, 30)\n",
      "(1, 3, 2) (120, 180, 60, 30)\n",
      "(2, 1, 3) (120, 90, 6, 60)\n",
      "(1, 2, 3) (120, 180, 30, 60)\n",
      "(1, 1, 4) (40, 60, 6, 60)\n",
      "(5, 1, 1) (70, 21, 7, 7)\n",
      "(4, 2, 1) (280, 105, 42, 7)\n",
      "(3, 3, 1) (420, 210, 105, 7)\n",
      "(2, 4, 1) (280, 210, 140, 7)\n",
      "(1, 5, 1) (70, 105, 105, 7)\n",
      "(4, 1, 2) (280, 105, 7, 42)\n",
      "(3, 2, 2) (840, 420, 42, 42)\n",
      "(2, 3, 2) (840, 630, 105, 42)\n",
      "(1, 4, 2) (280, 420, 140, 42)\n",
      "(3, 1, 3) (420, 210, 7, 105)\n",
      "(2, 2, 3) (840, 630, 42, 105)\n",
      "(1, 3, 3) (420, 630, 105, 105)\n",
      "(2, 1, 4) (280, 210, 7, 140)\n",
      "(1, 2, 4) (280, 420, 42, 140)\n",
      "(1, 1, 5) (70, 105, 7, 105)\n",
      "(6, 1, 1) (112, 28, 8, 8)\n",
      "(5, 2, 1) (560, 168, 56, 8)\n",
      "(4, 3, 1) (1120, 420, 168, 8)\n",
      "(3, 4, 1) (1120, 560, 280, 8)\n",
      "(2, 5, 1) (560, 420, 280, 8)\n",
      "(1, 6, 1) (112, 168, 168, 8)\n",
      "(5, 1, 2) (560, 168, 8, 56)\n",
      "(4, 2, 2) (2240, 840, 56, 56)\n",
      "(3, 3, 2) (3360, 1680, 168, 56)\n",
      "(2, 4, 2) (2240, 1680, 280, 56)\n",
      "(1, 5, 2) (560, 840, 280, 56)\n",
      "(4, 1, 3) (1120, 420, 8, 168)\n",
      "(3, 2, 3) (3360, 1680, 56, 168)\n",
      "(2, 3, 3) (3360, 2520, 168, 168)\n",
      "(1, 4, 3) (1120, 1680, 280, 168)\n",
      "(3, 1, 4) (1120, 560, 8, 280)\n",
      "(2, 2, 4) (2240, 1680, 56, 280)\n",
      "(1, 3, 4) (1120, 1680, 168, 280)\n",
      "(2, 1, 5) (560, 420, 8, 280)\n",
      "(1, 2, 5) (560, 840, 56, 280)\n",
      "(1, 1, 6) (112, 168, 8, 168)\n"
     ]
    }
   ],
   "source": [
    "for k, v in suit_tricks.items():\n",
    "    print(k , v)"
   ]
  },
  {
   "cell_type": "code",
   "execution_count": 25,
   "id": "e6d9c1d8",
   "metadata": {},
   "outputs": [
    {
     "name": "stdout",
     "output_type": "stream",
     "text": [
      "(1, 1) (1, 2)\n",
      "(2, 1) (2, 3)\n",
      "(1, 2) (2, 4)\n",
      "(3, 1) (3, 4)\n",
      "(2, 2) (7, 9)\n",
      "(1, 3) (3, 6)\n",
      "(4, 1) (4, 5)\n",
      "(3, 2) (15, 16)\n",
      "(2, 3) (15, 18)\n",
      "(1, 4) (4, 8)\n",
      "(5, 1) (5, 6)\n",
      "(4, 2) (26, 25)\n",
      "(3, 3) (42, 40)\n",
      "(2, 4) (26, 30)\n",
      "(1, 5) (5, 10)\n",
      "(6, 1) (6, 7)\n",
      "(5, 2) (40, 36)\n",
      "(4, 3) (90, 75)\n",
      "(3, 4) (90, 80)\n",
      "(2, 5) (40, 45)\n",
      "(1, 6) (6, 12)\n",
      "(7, 1) (7, 8)\n",
      "(6, 2) (57, 49)\n",
      "(5, 3) (165, 126)\n",
      "(4, 4) (230, 175)\n",
      "(3, 5) (165, 140)\n",
      "(2, 6) (57, 63)\n",
      "(1, 7) (7, 14)\n",
      "(1, 1, 1) (2, 3, 3, 3)\n",
      "(2, 1, 1) (6, 6, 4, 4)\n",
      "(1, 2, 1) (6, 9, 9, 4)\n",
      "(1, 1, 2) (6, 9, 4, 9)\n",
      "(3, 1, 1) (12, 10, 5, 5)\n",
      "(2, 2, 1) (26, 24, 16, 5)\n",
      "(1, 3, 1) (12, 18, 18, 5)\n",
      "(2, 1, 2) (26, 24, 5, 16)\n",
      "(1, 2, 2) (26, 39, 16, 16)\n",
      "(1, 1, 3) (12, 18, 5, 18)\n",
      "(4, 1, 1) (20, 15, 6, 6)\n",
      "(3, 2, 1) (68, 50, 25, 6)\n",
      "(2, 3, 1) (68, 60, 40, 6)\n",
      "(1, 4, 1) (20, 30, 30, 6)\n",
      "(3, 1, 2) (68, 50, 6, 25)\n",
      "(2, 2, 2) (142, 126, 25, 25)\n",
      "(1, 3, 2) (68, 102, 40, 25)\n",
      "(2, 1, 3) (68, 60, 6, 40)\n",
      "(1, 2, 3) (68, 102, 25, 40)\n",
      "(1, 1, 4) (20, 30, 6, 30)\n",
      "(5, 1, 1) (30, 21, 7, 7)\n",
      "(4, 2, 1) (140, 90, 36, 7)\n",
      "(3, 3, 1) (220, 150, 75, 7)\n",
      "(2, 4, 1) (140, 120, 80, 7)\n",
      "(1, 5, 1) (30, 45, 45, 7)\n",
      "(4, 1, 2) (140, 90, 7, 36)\n",
      "(3, 2, 2) (452, 310, 36, 36)\n",
      "(2, 3, 2) (452, 390, 75, 36)\n",
      "(1, 4, 2) (140, 210, 80, 36)\n",
      "(3, 1, 3) (220, 150, 7, 75)\n",
      "(2, 2, 3) (452, 390, 36, 75)\n",
      "(1, 3, 3) (220, 330, 75, 75)\n",
      "(2, 1, 4) (140, 120, 7, 80)\n",
      "(1, 2, 4) (140, 210, 36, 80)\n",
      "(1, 1, 5) (30, 45, 7, 45)\n",
      "(6, 1, 1) (42, 28, 8, 8)\n",
      "(5, 2, 1) (250, 147, 49, 8)\n",
      "(4, 3, 1) (540, 315, 126, 8)\n",
      "(3, 4, 1) (540, 350, 175, 8)\n",
      "(2, 5, 1) (250, 210, 140, 8)\n",
      "(1, 6, 1) (42, 63, 63, 8)\n",
      "(5, 1, 2) (250, 147, 8, 49)\n",
      "(4, 2, 2) (1100, 645, 49, 49)\n",
      "(3, 3, 2) (1700, 1110, 126, 49)\n",
      "(2, 4, 2) (1100, 930, 175, 49)\n",
      "(1, 5, 2) (250, 375, 140, 49)\n",
      "(4, 1, 3) (540, 315, 8, 126)\n",
      "(3, 2, 3) (1700, 1110, 49, 126)\n",
      "(2, 3, 3) (1700, 1440, 126, 126)\n",
      "(1, 4, 3) (540, 810, 175, 126)\n",
      "(3, 1, 4) (540, 350, 8, 175)\n",
      "(2, 2, 4) (1100, 930, 49, 175)\n",
      "(1, 3, 4) (540, 810, 126, 175)\n",
      "(2, 1, 5) (250, 210, 8, 140)\n",
      "(1, 2, 5) (250, 375, 49, 140)\n",
      "(1, 1, 6) (42, 63, 8, 63)\n"
     ]
    }
   ],
   "source": [
    "for k, v in suit_tricks_reduced.items():\n",
    "    print(k , v)"
   ]
  },
  {
   "cell_type": "code",
   "execution_count": 18,
   "id": "389f55b0",
   "metadata": {},
   "outputs": [],
   "source": [
    "suit_moves = {}\n",
    "for n in range(1, 9):\n",
    "    for s in bounded_compositions(n, 3, [8, 8, 8]):\n",
    "        suit_moves[tuple(s)] = count_reduced_moves(s)"
   ]
  },
  {
   "cell_type": "code",
   "execution_count": 19,
   "id": "a9f2c169",
   "metadata": {},
   "outputs": [
    {
     "name": "stdout",
     "output_type": "stream",
     "text": [
      "(1, 0, 0) [1. 0. 0.]\n",
      "(0, 1, 0) [0. 1. 0.]\n",
      "(0, 0, 1) [0. 0. 1.]\n",
      "(2, 0, 0) [1. 0. 0.]\n",
      "(1, 1, 0) [1. 1. 0.]\n",
      "(0, 2, 0) [0. 1. 0.]\n",
      "(1, 0, 1) [1. 0. 1.]\n",
      "(0, 1, 1) [0. 1. 1.]\n",
      "(0, 0, 2) [0. 0. 1.]\n",
      "(3, 0, 0) [1. 0. 0.]\n",
      "(2, 1, 0) [1.33333333 1.         0.        ]\n",
      "(1, 2, 0) [1.         1.33333333 0.        ]\n",
      "(0, 3, 0) [0. 1. 0.]\n",
      "(2, 0, 1) [1.33333333 0.         1.        ]\n",
      "(1, 1, 1) [1. 1. 1.]\n",
      "(0, 2, 1) [0.         1.33333333 1.        ]\n",
      "(1, 0, 2) [1.         0.         1.33333333]\n",
      "(0, 1, 2) [0.         1.         1.33333333]\n",
      "(0, 0, 3) [0. 0. 1.]\n",
      "(4, 0, 0) [1. 0. 0.]\n",
      "(3, 1, 0) [1.5 1.  0. ]\n",
      "(2, 2, 0) [1.5 1.5 0. ]\n",
      "(1, 3, 0) [1.  1.5 0. ]\n",
      "(0, 4, 0) [0. 1. 0.]\n",
      "(3, 0, 1) [1.5 0.  1. ]\n",
      "(2, 1, 1) [1.5 1.  1. ]\n",
      "(1, 2, 1) [1.  1.5 1. ]\n",
      "(0, 3, 1) [0.  1.5 1. ]\n",
      "(2, 0, 2) [1.5 0.  1.5]\n",
      "(1, 1, 2) [1.  1.  1.5]\n",
      "(0, 2, 2) [0.  1.5 1.5]\n",
      "(1, 0, 3) [1.  0.  1.5]\n",
      "(0, 1, 3) [0.  1.  1.5]\n",
      "(0, 0, 4) [0. 0. 1.]\n",
      "(5, 0, 0) [1. 0. 0.]\n",
      "(4, 1, 0) [1.6 1.  0. ]\n",
      "(3, 2, 0) [1.8 1.6 0. ]\n",
      "(2, 3, 0) [1.6 1.8 0. ]\n",
      "(1, 4, 0) [1.  1.6 0. ]\n",
      "(0, 5, 0) [0. 1. 0.]\n",
      "(4, 0, 1) [1.6 0.  1. ]\n",
      "(3, 1, 1) [1.8 1.  1. ]\n",
      "(2, 2, 1) [1.6 1.6 1. ]\n",
      "(1, 3, 1) [1.  1.8 1. ]\n",
      "(0, 4, 1) [0.  1.6 1. ]\n",
      "(3, 0, 2) [1.8 0.  1.6]\n",
      "(2, 1, 2) [1.6 1.  1.6]\n",
      "(1, 2, 2) [1.  1.6 1.6]\n",
      "(0, 3, 2) [0.  1.8 1.6]\n",
      "(2, 0, 3) [1.6 0.  1.8]\n",
      "(1, 1, 3) [1.  1.  1.8]\n",
      "(0, 2, 3) [0.  1.6 1.8]\n",
      "(1, 0, 4) [1.  0.  1.6]\n",
      "(0, 1, 4) [0.  1.  1.6]\n",
      "(0, 0, 5) [0. 0. 1.]\n",
      "(6, 0, 0) [1. 0. 0.]\n",
      "(5, 1, 0) [1.66666667 1.         0.        ]\n",
      "(4, 2, 0) [2.         1.66666667 0.        ]\n",
      "(3, 3, 0) [2. 2. 0.]\n",
      "(2, 4, 0) [1.66666667 2.         0.        ]\n",
      "(1, 5, 0) [1.         1.66666667 0.        ]\n",
      "(0, 6, 0) [0. 1. 0.]\n",
      "(5, 0, 1) [1.66666667 0.         1.        ]\n",
      "(4, 1, 1) [2. 1. 1.]\n",
      "(3, 2, 1) [2.         1.66666667 1.        ]\n",
      "(2, 3, 1) [1.66666667 2.         1.        ]\n",
      "(1, 4, 1) [1. 2. 1.]\n",
      "(0, 5, 1) [0.         1.66666667 1.        ]\n",
      "(4, 0, 2) [2.         0.         1.66666667]\n",
      "(3, 1, 2) [2.         1.         1.66666667]\n",
      "(2, 2, 2) [1.66666667 1.66666667 1.66666667]\n",
      "(1, 3, 2) [1.         2.         1.66666667]\n",
      "(0, 4, 2) [0.         2.         1.66666667]\n",
      "(3, 0, 3) [2. 0. 2.]\n",
      "(2, 1, 3) [1.66666667 1.         2.        ]\n",
      "(1, 2, 3) [1.         1.66666667 2.        ]\n",
      "(0, 3, 3) [0. 2. 2.]\n",
      "(2, 0, 4) [1.66666667 0.         2.        ]\n",
      "(1, 1, 4) [1. 1. 2.]\n",
      "(0, 2, 4) [0.         1.66666667 2.        ]\n",
      "(1, 0, 5) [1.         0.         1.66666667]\n",
      "(0, 1, 5) [0.         1.         1.66666667]\n",
      "(0, 0, 6) [0. 0. 1.]\n",
      "(7, 0, 0) [1. 0. 0.]\n",
      "(6, 1, 0) [1.71428571 1.         0.        ]\n",
      "(5, 2, 0) [2.14285714 1.71428571 0.        ]\n",
      "(4, 3, 0) [2.28571429 2.14285714 0.        ]\n",
      "(3, 4, 0) [2.14285714 2.28571429 0.        ]\n",
      "(2, 5, 0) [1.71428571 2.14285714 0.        ]\n",
      "(1, 6, 0) [1.         1.71428571 0.        ]\n",
      "(0, 7, 0) [0. 1. 0.]\n",
      "(6, 0, 1) [1.71428571 0.         1.        ]\n",
      "(5, 1, 1) [2.14285714 1.         1.        ]\n",
      "(4, 2, 1) [2.28571429 1.71428571 1.        ]\n",
      "(3, 3, 1) [2.14285714 2.14285714 1.        ]\n",
      "(2, 4, 1) [1.71428571 2.28571429 1.        ]\n",
      "(1, 5, 1) [1.         2.14285714 1.        ]\n",
      "(0, 6, 1) [0.         1.71428571 1.        ]\n",
      "(5, 0, 2) [2.14285714 0.         1.71428571]\n",
      "(4, 1, 2) [2.28571429 1.         1.71428571]\n",
      "(3, 2, 2) [2.14285714 1.71428571 1.71428571]\n",
      "(2, 3, 2) [1.71428571 2.14285714 1.71428571]\n",
      "(1, 4, 2) [1.         2.28571429 1.71428571]\n",
      "(0, 5, 2) [0.         2.14285714 1.71428571]\n",
      "(4, 0, 3) [2.28571429 0.         2.14285714]\n",
      "(3, 1, 3) [2.14285714 1.         2.14285714]\n",
      "(2, 2, 3) [1.71428571 1.71428571 2.14285714]\n",
      "(1, 3, 3) [1.         2.14285714 2.14285714]\n",
      "(0, 4, 3) [0.         2.28571429 2.14285714]\n",
      "(3, 0, 4) [2.14285714 0.         2.28571429]\n",
      "(2, 1, 4) [1.71428571 1.         2.28571429]\n",
      "(1, 2, 4) [1.         1.71428571 2.28571429]\n",
      "(0, 3, 4) [0.         2.14285714 2.28571429]\n",
      "(2, 0, 5) [1.71428571 0.         2.14285714]\n",
      "(1, 1, 5) [1.         1.         2.14285714]\n",
      "(0, 2, 5) [0.         1.71428571 2.14285714]\n",
      "(1, 0, 6) [1.         0.         1.71428571]\n",
      "(0, 1, 6) [0.         1.         1.71428571]\n",
      "(0, 0, 7) [0. 0. 1.]\n",
      "(8, 0, 0) [1. 0. 0.]\n",
      "(7, 1, 0) [1.75 1.   0.  ]\n",
      "(6, 2, 0) [2.25 1.75 0.  ]\n",
      "(5, 3, 0) [2.5  2.25 0.  ]\n",
      "(4, 4, 0) [2.5 2.5 0. ]\n",
      "(3, 5, 0) [2.25 2.5  0.  ]\n",
      "(2, 6, 0) [1.75 2.25 0.  ]\n",
      "(1, 7, 0) [1.   1.75 0.  ]\n",
      "(0, 8, 0) [0. 1. 0.]\n",
      "(7, 0, 1) [1.75 0.   1.  ]\n",
      "(6, 1, 1) [2.25 1.   1.  ]\n",
      "(5, 2, 1) [2.5  1.75 1.  ]\n",
      "(4, 3, 1) [2.5  2.25 1.  ]\n",
      "(3, 4, 1) [2.25 2.5  1.  ]\n",
      "(2, 5, 1) [1.75 2.5  1.  ]\n",
      "(1, 6, 1) [1.   2.25 1.  ]\n",
      "(0, 7, 1) [0.   1.75 1.  ]\n",
      "(6, 0, 2) [2.25 0.   1.75]\n",
      "(5, 1, 2) [2.5  1.   1.75]\n",
      "(4, 2, 2) [2.5  1.75 1.75]\n",
      "(3, 3, 2) [2.25 2.25 1.75]\n",
      "(2, 4, 2) [1.75 2.5  1.75]\n",
      "(1, 5, 2) [1.   2.5  1.75]\n",
      "(0, 6, 2) [0.   2.25 1.75]\n",
      "(5, 0, 3) [2.5  0.   2.25]\n",
      "(4, 1, 3) [2.5  1.   2.25]\n",
      "(3, 2, 3) [2.25 1.75 2.25]\n",
      "(2, 3, 3) [1.75 2.25 2.25]\n",
      "(1, 4, 3) [1.   2.5  2.25]\n",
      "(0, 5, 3) [0.   2.5  2.25]\n",
      "(4, 0, 4) [2.5 0.  2.5]\n",
      "(3, 1, 4) [2.25 1.   2.5 ]\n",
      "(2, 2, 4) [1.75 1.75 2.5 ]\n",
      "(1, 3, 4) [1.   2.25 2.5 ]\n",
      "(0, 4, 4) [0.  2.5 2.5]\n",
      "(3, 0, 5) [2.25 0.   2.5 ]\n",
      "(2, 1, 5) [1.75 1.   2.5 ]\n",
      "(1, 2, 5) [1.   1.75 2.5 ]\n",
      "(0, 3, 5) [0.   2.25 2.5 ]\n",
      "(2, 0, 6) [1.75 0.   2.25]\n",
      "(1, 1, 6) [1.   1.   2.25]\n",
      "(0, 2, 6) [0.   1.75 2.25]\n",
      "(1, 0, 7) [1.   0.   1.75]\n",
      "(0, 1, 7) [0.   1.   1.75]\n",
      "(0, 0, 8) [0. 0. 1.]\n"
     ]
    }
   ],
   "source": [
    "for k, v in suit_moves.items():\n",
    "    print(k, v)"
   ]
  },
  {
   "cell_type": "code",
   "execution_count": null,
   "id": "a2b6ad33",
   "metadata": {},
   "outputs": [],
   "source": [
    "suit_pct.count_deals(), pct.count_moves(reduce=False)"
   ]
  },
  {
   "cell_type": "code",
   "execution_count": 25,
   "id": "aa88e335",
   "metadata": {},
   "outputs": [
    {
     "data": {
      "text/plain": [
       "array([1.75, 1.75, 2.5 ])"
      ]
     },
     "execution_count": 25,
     "metadata": {},
     "output_type": "execute_result"
    }
   ],
   "source": [
    "suit_moves[(2, 2, 4)]"
   ]
  }
 ],
 "metadata": {
  "kernelspec": {
   "display_name": "Python 3 (ipykernel)",
   "language": "python",
   "name": "python3"
  },
  "language_info": {
   "codemirror_mode": {
    "name": "ipython",
    "version": 3
   },
   "file_extension": ".py",
   "mimetype": "text/x-python",
   "name": "python",
   "nbconvert_exporter": "python",
   "pygments_lexer": "ipython3",
   "version": "3.10.4"
  }
 },
 "nbformat": 4,
 "nbformat_minor": 5
}
